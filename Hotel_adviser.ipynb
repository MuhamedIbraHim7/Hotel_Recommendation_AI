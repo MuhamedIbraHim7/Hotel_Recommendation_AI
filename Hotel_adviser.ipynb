{
  "nbformat": 4,
  "nbformat_minor": 0,
  "metadata": {
    "colab": {
      "provenance": []
    },
    "kernelspec": {
      "name": "python3",
      "display_name": "Python 3"
    },
    "language_info": {
      "name": "python"
    }
  },
  "cells": [
    {
      "cell_type": "code",
      "execution_count": null,
      "metadata": {
        "colab": {
          "base_uri": "https://localhost:8080/"
        },
        "collapsed": true,
        "id": "BdaQNv9GzwM7",
        "outputId": "e9a998d7-0bc6-4bab-c8a3-72292d8187e8"
      },
      "outputs": [
        {
          "output_type": "stream",
          "name": "stdout",
          "text": [
            "\u001b[2K     \u001b[90m━━━━━━━━━━━━━━━━━━━━━━━━━━━━━━━━━━━━━━━━\u001b[0m \u001b[32m42.5/42.5 kB\u001b[0m \u001b[31m2.4 MB/s\u001b[0m eta \u001b[36m0:00:00\u001b[0m\n",
            "\u001b[2K     \u001b[90m━━━━━━━━━━━━━━━━━━━━━━━━━━━━━━━━━━━━━━━━\u001b[0m \u001b[32m67.3/67.3 kB\u001b[0m \u001b[31m3.8 MB/s\u001b[0m eta \u001b[36m0:00:00\u001b[0m\n",
            "\u001b[?25h  Installing build dependencies ... \u001b[?25l\u001b[?25hdone\n",
            "  Getting requirements to build wheel ... \u001b[?25l\u001b[?25hdone\n",
            "  Preparing metadata (pyproject.toml) ... \u001b[?25l\u001b[?25hdone\n",
            "\u001b[2K     \u001b[90m━━━━━━━━━━━━━━━━━━━━━━━━━━━━━━━━━━━━━━━━\u001b[0m \u001b[32m48.2/48.2 kB\u001b[0m \u001b[31m2.4 MB/s\u001b[0m eta \u001b[36m0:00:00\u001b[0m\n",
            "\u001b[2K   \u001b[90m━━━━━━━━━━━━━━━━━━━━━━━━━━━━━━━━━━━━━━━━\u001b[0m \u001b[32m6.7/6.7 MB\u001b[0m \u001b[31m63.8 MB/s\u001b[0m eta \u001b[36m0:00:00\u001b[0m\n",
            "\u001b[2K   \u001b[90m━━━━━━━━━━━━━━━━━━━━━━━━━━━━━━━━━━━━━━━━\u001b[0m \u001b[32m134.3/134.3 kB\u001b[0m \u001b[31m8.2 MB/s\u001b[0m eta \u001b[36m0:00:00\u001b[0m\n",
            "\u001b[2K   \u001b[90m━━━━━━━━━━━━━━━━━━━━━━━━━━━━━━━━━━━━━━━━\u001b[0m \u001b[32m2.4/2.4 MB\u001b[0m \u001b[31m49.8 MB/s\u001b[0m eta \u001b[36m0:00:00\u001b[0m\n",
            "\u001b[2K   \u001b[90m━━━━━━━━━━━━━━━━━━━━━━━━━━━━━━━━━━━━━━━━\u001b[0m \u001b[32m561.4/561.4 kB\u001b[0m \u001b[31m29.0 MB/s\u001b[0m eta \u001b[36m0:00:00\u001b[0m\n",
            "\u001b[2K   \u001b[90m━━━━━━━━━━━━━━━━━━━━━━━━━━━━━━━━━━━━━━━━\u001b[0m \u001b[32m265.3/265.3 kB\u001b[0m \u001b[31m17.7 MB/s\u001b[0m eta \u001b[36m0:00:00\u001b[0m\n",
            "\u001b[2K   \u001b[90m━━━━━━━━━━━━━━━━━━━━━━━━━━━━━━━━━━━━━━━━\u001b[0m \u001b[32m83.9/83.9 kB\u001b[0m \u001b[31m5.8 MB/s\u001b[0m eta \u001b[36m0:00:00\u001b[0m\n",
            "\u001b[2K   \u001b[90m━━━━━━━━━━━━━━━━━━━━━━━━━━━━━━━━━━━━━━━━\u001b[0m \u001b[32m55.9/55.9 kB\u001b[0m \u001b[31m3.9 MB/s\u001b[0m eta \u001b[36m0:00:00\u001b[0m\n",
            "\u001b[2K   \u001b[90m━━━━━━━━━━━━━━━━━━━━━━━━━━━━━━━━━━━━━━━━\u001b[0m \u001b[32m59.5/59.5 kB\u001b[0m \u001b[31m4.7 MB/s\u001b[0m eta \u001b[36m0:00:00\u001b[0m\n",
            "\u001b[2K   \u001b[90m━━━━━━━━━━━━━━━━━━━━━━━━━━━━━━━━━━━━━━━━\u001b[0m \u001b[32m5.6/5.6 MB\u001b[0m \u001b[31m62.1 MB/s\u001b[0m eta \u001b[36m0:00:00\u001b[0m\n",
            "\u001b[2K   \u001b[90m━━━━━━━━━━━━━━━━━━━━━━━━━━━━━━━━━━━━━━━━\u001b[0m \u001b[32m756.0/756.0 kB\u001b[0m \u001b[31m35.1 MB/s\u001b[0m eta \u001b[36m0:00:00\u001b[0m\n",
            "\u001b[2K   \u001b[90m━━━━━━━━━━━━━━━━━━━━━━━━━━━━━━━━━━━━━━━━\u001b[0m \u001b[32m236.0/236.0 kB\u001b[0m \u001b[31m16.2 MB/s\u001b[0m eta \u001b[36m0:00:00\u001b[0m\n",
            "\u001b[2K   \u001b[90m━━━━━━━━━━━━━━━━━━━━━━━━━━━━━━━━━━━━━━━━\u001b[0m \u001b[32m16.5/16.5 MB\u001b[0m \u001b[31m36.5 MB/s\u001b[0m eta \u001b[36m0:00:00\u001b[0m\n",
            "\u001b[2K   \u001b[90m━━━━━━━━━━━━━━━━━━━━━━━━━━━━━━━━━━━━━━━━\u001b[0m \u001b[32m284.2/284.2 kB\u001b[0m \u001b[31m14.5 MB/s\u001b[0m eta \u001b[36m0:00:00\u001b[0m\n",
            "\u001b[2K   \u001b[90m━━━━━━━━━━━━━━━━━━━━━━━━━━━━━━━━━━━━━━━━\u001b[0m \u001b[32m147.8/147.8 kB\u001b[0m \u001b[31m10.5 MB/s\u001b[0m eta \u001b[36m0:00:00\u001b[0m\n",
            "\u001b[2K   \u001b[90m━━━━━━━━━━━━━━━━━━━━━━━━━━━━━━━━━━━━━━━━\u001b[0m \u001b[32m211.4/211.4 kB\u001b[0m \u001b[31m13.0 MB/s\u001b[0m eta \u001b[36m0:00:00\u001b[0m\n",
            "\u001b[2K   \u001b[90m━━━━━━━━━━━━━━━━━━━━━━━━━━━━━━━━━━━━━━━━\u001b[0m \u001b[32m628.3/628.3 kB\u001b[0m \u001b[31m29.0 MB/s\u001b[0m eta \u001b[36m0:00:00\u001b[0m\n",
            "\u001b[2K   \u001b[90m━━━━━━━━━━━━━━━━━━━━━━━━━━━━━━━━━━━━━━━━\u001b[0m \u001b[32m94.9/94.9 kB\u001b[0m \u001b[31m4.2 MB/s\u001b[0m eta \u001b[36m0:00:00\u001b[0m\n",
            "\u001b[2K   \u001b[90m━━━━━━━━━━━━━━━━━━━━━━━━━━━━━━━━━━━━━━━━\u001b[0m \u001b[32m76.4/76.4 kB\u001b[0m \u001b[31m5.6 MB/s\u001b[0m eta \u001b[36m0:00:00\u001b[0m\n",
            "\u001b[2K   \u001b[90m━━━━━━━━━━━━━━━━━━━━━━━━━━━━━━━━━━━━━━━━\u001b[0m \u001b[32m345.6/345.6 kB\u001b[0m \u001b[31m20.7 MB/s\u001b[0m eta \u001b[36m0:00:00\u001b[0m\n",
            "\u001b[2K   \u001b[90m━━━━━━━━━━━━━━━━━━━━━━━━━━━━━━━━━━━━━━━━\u001b[0m \u001b[32m2.0/2.0 MB\u001b[0m \u001b[31m48.4 MB/s\u001b[0m eta \u001b[36m0:00:00\u001b[0m\n",
            "\u001b[2K   \u001b[90m━━━━━━━━━━━━━━━━━━━━━━━━━━━━━━━━━━━━━━━━\u001b[0m \u001b[32m33.2/33.2 MB\u001b[0m \u001b[31m25.3 MB/s\u001b[0m eta \u001b[36m0:00:00\u001b[0m\n",
            "\u001b[2K   \u001b[90m━━━━━━━━━━━━━━━━━━━━━━━━━━━━━━━━━━━━━━━━\u001b[0m \u001b[32m101.6/101.6 kB\u001b[0m \u001b[31m6.8 MB/s\u001b[0m eta \u001b[36m0:00:00\u001b[0m\n",
            "\u001b[2K   \u001b[90m━━━━━━━━━━━━━━━━━━━━━━━━━━━━━━━━━━━━━━━━\u001b[0m \u001b[32m16.0/16.0 MB\u001b[0m \u001b[31m41.8 MB/s\u001b[0m eta \u001b[36m0:00:00\u001b[0m\n",
            "\u001b[2K   \u001b[90m━━━━━━━━━━━━━━━━━━━━━━━━━━━━━━━━━━━━━━━━\u001b[0m \u001b[32m79.6/79.6 kB\u001b[0m \u001b[31m4.5 MB/s\u001b[0m eta \u001b[36m0:00:00\u001b[0m\n",
            "\u001b[2K   \u001b[90m━━━━━━━━━━━━━━━━━━━━━━━━━━━━━━━━━━━━━━━━\u001b[0m \u001b[32m2.9/2.9 MB\u001b[0m \u001b[31m45.1 MB/s\u001b[0m eta \u001b[36m0:00:00\u001b[0m\n",
            "\u001b[2K   \u001b[90m━━━━━━━━━━━━━━━━━━━━━━━━━━━━━━━━━━━━━━━━\u001b[0m \u001b[32m5.7/5.7 MB\u001b[0m \u001b[31m43.3 MB/s\u001b[0m eta \u001b[36m0:00:00\u001b[0m\n",
            "\u001b[2K   \u001b[90m━━━━━━━━━━━━━━━━━━━━━━━━━━━━━━━━━━━━━━━━\u001b[0m \u001b[32m57.6/57.6 kB\u001b[0m \u001b[31m4.3 MB/s\u001b[0m eta \u001b[36m0:00:00\u001b[0m\n",
            "\u001b[2K   \u001b[90m━━━━━━━━━━━━━━━━━━━━━━━━━━━━━━━━━━━━━━━━\u001b[0m \u001b[32m1.1/1.1 MB\u001b[0m \u001b[31m36.8 MB/s\u001b[0m eta \u001b[36m0:00:00\u001b[0m\n",
            "\u001b[2K   \u001b[90m━━━━━━━━━━━━━━━━━━━━━━━━━━━━━━━━━━━━━━━━\u001b[0m \u001b[32m3.0/3.0 MB\u001b[0m \u001b[31m46.0 MB/s\u001b[0m eta \u001b[36m0:00:00\u001b[0m\n",
            "\u001b[2K   \u001b[90m━━━━━━━━━━━━━━━━━━━━━━━━━━━━━━━━━━━━━━━━\u001b[0m \u001b[32m62.3/62.3 kB\u001b[0m \u001b[31m3.7 MB/s\u001b[0m eta \u001b[36m0:00:00\u001b[0m\n",
            "\u001b[2K   \u001b[90m━━━━━━━━━━━━━━━━━━━━━━━━━━━━━━━━━━━━━━━━\u001b[0m \u001b[32m231.8/231.8 kB\u001b[0m \u001b[31m15.7 MB/s\u001b[0m eta \u001b[36m0:00:00\u001b[0m\n",
            "\u001b[2K   \u001b[90m━━━━━━━━━━━━━━━━━━━━━━━━━━━━━━━━━━━━━━━━\u001b[0m \u001b[32m253.9/253.9 kB\u001b[0m \u001b[31m14.1 MB/s\u001b[0m eta \u001b[36m0:00:00\u001b[0m\n",
            "\u001b[2K   \u001b[90m━━━━━━━━━━━━━━━━━━━━━━━━━━━━━━━━━━━━━━━━\u001b[0m \u001b[32m131.6/131.6 kB\u001b[0m \u001b[31m9.6 MB/s\u001b[0m eta \u001b[36m0:00:00\u001b[0m\n",
            "\u001b[2K   \u001b[90m━━━━━━━━━━━━━━━━━━━━━━━━━━━━━━━━━━━━━━━━\u001b[0m \u001b[32m459.8/459.8 kB\u001b[0m \u001b[31m26.7 MB/s\u001b[0m eta \u001b[36m0:00:00\u001b[0m\n",
            "\u001b[2K   \u001b[90m━━━━━━━━━━━━━━━━━━━━━━━━━━━━━━━━━━━━━━━━\u001b[0m \u001b[32m1.6/1.6 MB\u001b[0m \u001b[31m44.5 MB/s\u001b[0m eta \u001b[36m0:00:00\u001b[0m\n",
            "\u001b[2K   \u001b[90m━━━━━━━━━━━━━━━━━━━━━━━━━━━━━━━━━━━━━━━━\u001b[0m \u001b[32m45.1/45.1 kB\u001b[0m \u001b[31m2.8 MB/s\u001b[0m eta \u001b[36m0:00:00\u001b[0m\n",
            "\u001b[2K   \u001b[90m━━━━━━━━━━━━━━━━━━━━━━━━━━━━━━━━━━━━━━━━\u001b[0m \u001b[32m2.5/2.5 MB\u001b[0m \u001b[31m49.7 MB/s\u001b[0m eta \u001b[36m0:00:00\u001b[0m\n",
            "\u001b[2K   \u001b[90m━━━━━━━━━━━━━━━━━━━━━━━━━━━━━━━━━━━━━━━━\u001b[0m \u001b[32m1.0/1.0 MB\u001b[0m \u001b[31m39.2 MB/s\u001b[0m eta \u001b[36m0:00:00\u001b[0m\n",
            "\u001b[2K   \u001b[90m━━━━━━━━━━━━━━━━━━━━━━━━━━━━━━━━━━━━━━━━\u001b[0m \u001b[32m50.9/50.9 kB\u001b[0m \u001b[31m3.1 MB/s\u001b[0m eta \u001b[36m0:00:00\u001b[0m\n",
            "\u001b[2K   \u001b[90m━━━━━━━━━━━━━━━━━━━━━━━━━━━━━━━━━━━━━━━━\u001b[0m \u001b[32m311.8/311.8 kB\u001b[0m \u001b[31m19.3 MB/s\u001b[0m eta \u001b[36m0:00:00\u001b[0m\n",
            "\u001b[2K   \u001b[90m━━━━━━━━━━━━━━━━━━━━━━━━━━━━━━━━━━━━━━━━\u001b[0m \u001b[32m111.9/111.9 kB\u001b[0m \u001b[31m8.2 MB/s\u001b[0m eta \u001b[36m0:00:00\u001b[0m\n",
            "\u001b[2K   \u001b[90m━━━━━━━━━━━━━━━━━━━━━━━━━━━━━━━━━━━━━━━━\u001b[0m \u001b[32m319.7/319.7 kB\u001b[0m \u001b[31m18.7 MB/s\u001b[0m eta \u001b[36m0:00:00\u001b[0m\n",
            "\u001b[2K   \u001b[90m━━━━━━━━━━━━━━━━━━━━━━━━━━━━━━━━━━━━━━━━\u001b[0m \u001b[32m36.8/36.8 MB\u001b[0m \u001b[31m9.4 MB/s\u001b[0m eta \u001b[36m0:00:00\u001b[0m\n",
            "\u001b[2K   \u001b[90m━━━━━━━━━━━━━━━━━━━━━━━━━━━━━━━━━━━━━━━━\u001b[0m \u001b[32m302.3/302.3 kB\u001b[0m \u001b[31m18.8 MB/s\u001b[0m eta \u001b[36m0:00:00\u001b[0m\n",
            "\u001b[2K   \u001b[90m━━━━━━━━━━━━━━━━━━━━━━━━━━━━━━━━━━━━━━━━\u001b[0m \u001b[32m71.1/71.1 kB\u001b[0m \u001b[31m4.4 MB/s\u001b[0m eta \u001b[36m0:00:00\u001b[0m\n",
            "\u001b[2K   \u001b[90m━━━━━━━━━━━━━━━━━━━━━━━━━━━━━━━━━━━━━━━━\u001b[0m \u001b[32m72.0/72.0 kB\u001b[0m \u001b[31m5.1 MB/s\u001b[0m eta \u001b[36m0:00:00\u001b[0m\n",
            "\u001b[2K   \u001b[90m━━━━━━━━━━━━━━━━━━━━━━━━━━━━━━━━━━━━━━━━\u001b[0m \u001b[32m4.0/4.0 MB\u001b[0m \u001b[31m77.1 MB/s\u001b[0m eta \u001b[36m0:00:00\u001b[0m\n",
            "\u001b[2K   \u001b[90m━━━━━━━━━━━━━━━━━━━━━━━━━━━━━━━━━━━━━━━━\u001b[0m \u001b[32m452.6/452.6 kB\u001b[0m \u001b[31m26.5 MB/s\u001b[0m eta \u001b[36m0:00:00\u001b[0m\n",
            "\u001b[2K   \u001b[90m━━━━━━━━━━━━━━━━━━━━━━━━━━━━━━━━━━━━━━━━\u001b[0m \u001b[32m46.0/46.0 kB\u001b[0m \u001b[31m2.7 MB/s\u001b[0m eta \u001b[36m0:00:00\u001b[0m\n",
            "\u001b[2K   \u001b[90m━━━━━━━━━━━━━━━━━━━━━━━━━━━━━━━━━━━━━━━━\u001b[0m \u001b[32m298.8/298.8 kB\u001b[0m \u001b[31m16.9 MB/s\u001b[0m eta \u001b[36m0:00:00\u001b[0m\n",
            "\u001b[2K   \u001b[90m━━━━━━━━━━━━━━━━━━━━━━━━━━━━━━━━━━━━━━━━\u001b[0m \u001b[32m3.3/3.3 MB\u001b[0m \u001b[31m70.3 MB/s\u001b[0m eta \u001b[36m0:00:00\u001b[0m\n",
            "\u001b[2K   \u001b[90m━━━━━━━━━━━━━━━━━━━━━━━━━━━━━━━━━━━━━━━━\u001b[0m \u001b[32m86.8/86.8 kB\u001b[0m \u001b[31m5.2 MB/s\u001b[0m eta \u001b[36m0:00:00\u001b[0m\n",
            "\u001b[2K   \u001b[90m━━━━━━━━━━━━━━━━━━━━━━━━━━━━━━━━━━━━━━━━\u001b[0m \u001b[32m209.2/209.2 kB\u001b[0m \u001b[31m12.4 MB/s\u001b[0m eta \u001b[36m0:00:00\u001b[0m\n",
            "\u001b[2K   \u001b[90m━━━━━━━━━━━━━━━━━━━━━━━━━━━━━━━━━━━━━━━━\u001b[0m \u001b[32m3.0/3.0 MB\u001b[0m \u001b[31m60.9 MB/s\u001b[0m eta \u001b[36m0:00:00\u001b[0m\n",
            "\u001b[2K   \u001b[90m━━━━━━━━━━━━━━━━━━━━━━━━━━━━━━━━━━━━━━━━\u001b[0m \u001b[32m508.0/508.0 kB\u001b[0m \u001b[31m24.9 MB/s\u001b[0m eta \u001b[36m0:00:00\u001b[0m\n",
            "\u001b[2K   \u001b[90m━━━━━━━━━━━━━━━━━━━━━━━━━━━━━━━━━━━━━━━━\u001b[0m \u001b[32m306.7/306.7 kB\u001b[0m \u001b[31m17.6 MB/s\u001b[0m eta \u001b[36m0:00:00\u001b[0m\n",
            "\u001b[2K   \u001b[90m━━━━━━━━━━━━━━━━━━━━━━━━━━━━━━━━━━━━━━━━\u001b[0m \u001b[32m78.5/78.5 kB\u001b[0m \u001b[31m4.9 MB/s\u001b[0m eta \u001b[36m0:00:00\u001b[0m\n",
            "\u001b[2K   \u001b[90m━━━━━━━━━━━━━━━━━━━━━━━━━━━━━━━━━━━━━━━━\u001b[0m \u001b[32m198.9/198.9 kB\u001b[0m \u001b[31m12.2 MB/s\u001b[0m eta \u001b[36m0:00:00\u001b[0m\n",
            "\u001b[2K   \u001b[90m━━━━━━━━━━━━━━━━━━━━━━━━━━━━━━━━━━━━━━━━\u001b[0m \u001b[32m2.5/2.5 MB\u001b[0m \u001b[31m55.6 MB/s\u001b[0m eta \u001b[36m0:00:00\u001b[0m\n",
            "\u001b[2K   \u001b[90m━━━━━━━━━━━━━━━━━━━━━━━━━━━━━━━━━━━━━━━━\u001b[0m \u001b[32m50.9/50.9 kB\u001b[0m \u001b[31m3.4 MB/s\u001b[0m eta \u001b[36m0:00:00\u001b[0m\n",
            "\u001b[?25h  Building wheel for pypika (pyproject.toml) ... \u001b[?25l\u001b[?25hdone\n",
            "\u001b[31mERROR: pip's dependency resolver does not currently take into account all the packages that are installed. This behaviour is the source of the following dependency conflicts.\n",
            "transformers 4.48.3 requires tokenizers<0.22,>=0.21, but you have tokenizers 0.20.3 which is incompatible.\n",
            "google-genai 1.4.0 requires httpx<1.0.0dev,>=0.28.1, but you have httpx 0.27.2 which is incompatible.\u001b[0m\u001b[31m\n",
            "\u001b[2K     \u001b[90m━━━━━━━━━━━━━━━━━━━━━━━━━━━━━━━━━━━━━━━━\u001b[0m \u001b[32m91.0/91.0 kB\u001b[0m \u001b[31m2.9 MB/s\u001b[0m eta \u001b[36m0:00:00\u001b[0m\n",
            "\u001b[2K   \u001b[90m━━━━━━━━━━━━━━━━━━━━━━━━━━━━━━━━━━━━━━━━\u001b[0m \u001b[32m43.8/43.8 kB\u001b[0m \u001b[31m2.4 MB/s\u001b[0m eta \u001b[36m0:00:00\u001b[0m\n",
            "\u001b[?25hRequirement already satisfied: litellm==1.60.2 in /usr/local/lib/python3.11/dist-packages (1.60.2)\n",
            "Requirement already satisfied: aiohttp in /usr/local/lib/python3.11/dist-packages (from litellm==1.60.2) (3.11.13)\n",
            "Requirement already satisfied: click in /usr/local/lib/python3.11/dist-packages (from litellm==1.60.2) (8.1.8)\n",
            "Requirement already satisfied: httpx<0.28.0,>=0.23.0 in /usr/local/lib/python3.11/dist-packages (from litellm==1.60.2) (0.27.2)\n",
            "Requirement already satisfied: importlib-metadata>=6.8.0 in /usr/local/lib/python3.11/dist-packages (from litellm==1.60.2) (8.6.1)\n",
            "Requirement already satisfied: jinja2<4.0.0,>=3.1.2 in /usr/local/lib/python3.11/dist-packages (from litellm==1.60.2) (3.1.6)\n",
            "Requirement already satisfied: jsonschema<5.0.0,>=4.22.0 in /usr/local/lib/python3.11/dist-packages (from litellm==1.60.2) (4.23.0)\n",
            "Requirement already satisfied: openai>=1.61.0 in /usr/local/lib/python3.11/dist-packages (from litellm==1.60.2) (1.61.1)\n",
            "Requirement already satisfied: pydantic<3.0.0,>=2.0.0 in /usr/local/lib/python3.11/dist-packages (from litellm==1.60.2) (2.10.6)\n",
            "Requirement already satisfied: python-dotenv>=0.2.0 in /usr/local/lib/python3.11/dist-packages (from litellm==1.60.2) (1.0.1)\n",
            "Requirement already satisfied: tiktoken>=0.7.0 in /usr/local/lib/python3.11/dist-packages (from litellm==1.60.2) (0.7.0)\n",
            "Requirement already satisfied: tokenizers in /usr/local/lib/python3.11/dist-packages (from litellm==1.60.2) (0.20.3)\n",
            "Requirement already satisfied: anyio in /usr/local/lib/python3.11/dist-packages (from httpx<0.28.0,>=0.23.0->litellm==1.60.2) (3.7.1)\n",
            "Requirement already satisfied: certifi in /usr/local/lib/python3.11/dist-packages (from httpx<0.28.0,>=0.23.0->litellm==1.60.2) (2025.1.31)\n",
            "Requirement already satisfied: httpcore==1.* in /usr/local/lib/python3.11/dist-packages (from httpx<0.28.0,>=0.23.0->litellm==1.60.2) (1.0.7)\n",
            "Requirement already satisfied: idna in /usr/local/lib/python3.11/dist-packages (from httpx<0.28.0,>=0.23.0->litellm==1.60.2) (3.10)\n",
            "Requirement already satisfied: sniffio in /usr/local/lib/python3.11/dist-packages (from httpx<0.28.0,>=0.23.0->litellm==1.60.2) (1.3.1)\n",
            "Requirement already satisfied: h11<0.15,>=0.13 in /usr/local/lib/python3.11/dist-packages (from httpcore==1.*->httpx<0.28.0,>=0.23.0->litellm==1.60.2) (0.14.0)\n",
            "Requirement already satisfied: zipp>=3.20 in /usr/local/lib/python3.11/dist-packages (from importlib-metadata>=6.8.0->litellm==1.60.2) (3.21.0)\n",
            "Requirement already satisfied: MarkupSafe>=2.0 in /usr/local/lib/python3.11/dist-packages (from jinja2<4.0.0,>=3.1.2->litellm==1.60.2) (3.0.2)\n",
            "Requirement already satisfied: attrs>=22.2.0 in /usr/local/lib/python3.11/dist-packages (from jsonschema<5.0.0,>=4.22.0->litellm==1.60.2) (25.3.0)\n",
            "Requirement already satisfied: jsonschema-specifications>=2023.03.6 in /usr/local/lib/python3.11/dist-packages (from jsonschema<5.0.0,>=4.22.0->litellm==1.60.2) (2024.10.1)\n",
            "Requirement already satisfied: referencing>=0.28.4 in /usr/local/lib/python3.11/dist-packages (from jsonschema<5.0.0,>=4.22.0->litellm==1.60.2) (0.36.2)\n",
            "Requirement already satisfied: rpds-py>=0.7.1 in /usr/local/lib/python3.11/dist-packages (from jsonschema<5.0.0,>=4.22.0->litellm==1.60.2) (0.23.1)\n",
            "Requirement already satisfied: distro<2,>=1.7.0 in /usr/local/lib/python3.11/dist-packages (from openai>=1.61.0->litellm==1.60.2) (1.9.0)\n",
            "Requirement already satisfied: jiter<1,>=0.4.0 in /usr/local/lib/python3.11/dist-packages (from openai>=1.61.0->litellm==1.60.2) (0.8.2)\n",
            "Requirement already satisfied: tqdm>4 in /usr/local/lib/python3.11/dist-packages (from openai>=1.61.0->litellm==1.60.2) (4.67.1)\n",
            "Requirement already satisfied: typing-extensions<5,>=4.11 in /usr/local/lib/python3.11/dist-packages (from openai>=1.61.0->litellm==1.60.2) (4.12.2)\n",
            "Requirement already satisfied: annotated-types>=0.6.0 in /usr/local/lib/python3.11/dist-packages (from pydantic<3.0.0,>=2.0.0->litellm==1.60.2) (0.7.0)\n",
            "Requirement already satisfied: pydantic-core==2.27.2 in /usr/local/lib/python3.11/dist-packages (from pydantic<3.0.0,>=2.0.0->litellm==1.60.2) (2.27.2)\n",
            "Requirement already satisfied: regex>=2022.1.18 in /usr/local/lib/python3.11/dist-packages (from tiktoken>=0.7.0->litellm==1.60.2) (2024.11.6)\n",
            "Requirement already satisfied: requests>=2.26.0 in /usr/local/lib/python3.11/dist-packages (from tiktoken>=0.7.0->litellm==1.60.2) (2.32.3)\n",
            "Requirement already satisfied: aiohappyeyeballs>=2.3.0 in /usr/local/lib/python3.11/dist-packages (from aiohttp->litellm==1.60.2) (2.6.1)\n",
            "Requirement already satisfied: aiosignal>=1.1.2 in /usr/local/lib/python3.11/dist-packages (from aiohttp->litellm==1.60.2) (1.3.2)\n",
            "Requirement already satisfied: frozenlist>=1.1.1 in /usr/local/lib/python3.11/dist-packages (from aiohttp->litellm==1.60.2) (1.5.0)\n",
            "Requirement already satisfied: multidict<7.0,>=4.5 in /usr/local/lib/python3.11/dist-packages (from aiohttp->litellm==1.60.2) (6.1.0)\n",
            "Requirement already satisfied: propcache>=0.2.0 in /usr/local/lib/python3.11/dist-packages (from aiohttp->litellm==1.60.2) (0.3.0)\n",
            "Requirement already satisfied: yarl<2.0,>=1.17.0 in /usr/local/lib/python3.11/dist-packages (from aiohttp->litellm==1.60.2) (1.18.3)\n",
            "Requirement already satisfied: huggingface-hub<1.0,>=0.16.4 in /usr/local/lib/python3.11/dist-packages (from tokenizers->litellm==1.60.2) (0.28.1)\n",
            "Requirement already satisfied: filelock in /usr/local/lib/python3.11/dist-packages (from huggingface-hub<1.0,>=0.16.4->tokenizers->litellm==1.60.2) (3.17.0)\n",
            "Requirement already satisfied: fsspec>=2023.5.0 in /usr/local/lib/python3.11/dist-packages (from huggingface-hub<1.0,>=0.16.4->tokenizers->litellm==1.60.2) (2024.10.0)\n",
            "Requirement already satisfied: packaging>=20.9 in /usr/local/lib/python3.11/dist-packages (from huggingface-hub<1.0,>=0.16.4->tokenizers->litellm==1.60.2) (24.2)\n",
            "Requirement already satisfied: pyyaml>=5.1 in /usr/local/lib/python3.11/dist-packages (from huggingface-hub<1.0,>=0.16.4->tokenizers->litellm==1.60.2) (6.0.2)\n",
            "Requirement already satisfied: charset-normalizer<4,>=2 in /usr/local/lib/python3.11/dist-packages (from requests>=2.26.0->tiktoken>=0.7.0->litellm==1.60.2) (3.4.1)\n",
            "Requirement already satisfied: urllib3<3,>=1.21.1 in /usr/local/lib/python3.11/dist-packages (from requests>=2.26.0->tiktoken>=0.7.0->litellm==1.60.2) (2.3.0)\n"
          ]
        }
      ],
      "source": [
        "# Install required packages\n",
        "!pip install -qU crewai[tools]\n",
        "!pip install -qU tavily-python scrapegraph-py\n",
        "!pip install --upgrade litellm==1.60.2"
      ]
    },
    {
      "cell_type": "code",
      "source": [
        "import os\n",
        "import json\n",
        "import sqlite3\n",
        "from functools import lru_cache\n",
        "from concurrent.futures import ThreadPoolExecutor\n",
        "import concurrent.futures\n",
        "import time\n",
        "import re\n",
        "from contextlib import contextmanager\n",
        "from google.colab import files\n",
        "from crewai import Agent, Task, Crew, Process, LLM\n",
        "from crewai.tools import tool\n",
        "from pydantic import BaseModel, Field\n",
        "from typing import List\n",
        "from typing import List, Dict, Any, Optional\n",
        "from scrapegraph_py import Client\n",
        "from tavily import TavilyClient\n",
        "from google.colab import userdata\n",
        "from crewai_tools import SerperDevTool"
      ],
      "metadata": {
        "collapsed": true,
        "id": "osW8L1R02FBO"
      },
      "execution_count": null,
      "outputs": []
    },
    {
      "cell_type": "code",
      "source": [
        "# Define API keys dictionary for centralized management\n",
        "api_keys = {\n",
        "    \"OPENAI_API_KEY\": \"Open_API_Key\",\n",
        "    \"TAVILY_API_KEY\": \"Tavely_API_Key\",\n",
        "    \"SERPER_API_KEY\": \"Serper_API_Key\",\n",
        "    \"SCRAPEGRAPH_API_KEY\": \"scrapegraph\"\n",
        "}\n",
        "\n",
        "# Set environment variables from userdata\n",
        "for env_var, key_name in api_keys.items():\n",
        "    os.environ[env_var] = userdata.get(key_name)\n",
        "\n",
        "# Set other environment variables\n",
        "os.environ[\"LITELLM_LOG\"] = \"DEBUG\"\n",
        "\n",
        "# Log success without exposing keys\n",
        "print(f\"API keys loaded: {', '.join([k for k, v in api_keys.items() if os.environ.get(k)])}\")"
      ],
      "metadata": {
        "colab": {
          "base_uri": "https://localhost:8080/"
        },
        "id": "7oC06RqA2Ffe",
        "outputId": "e925f9b1-79ae-42eb-fa8a-220815e61a0a"
      },
      "execution_count": null,
      "outputs": [
        {
          "output_type": "stream",
          "name": "stdout",
          "text": [
            "API keys loaded: OPENAI_API_KEY, TAVILY_API_KEY, SERPER_API_KEY, SCRAPEGRAPH_API_KEY\n"
          ]
        }
      ]
    },
    {
      "cell_type": "code",
      "source": [
        "# Initialize AI tools\n",
        "search_client = TavilyClient(api_key=userdata.get('Tavely_API_Key'))\n",
        "google_search_tool = SerperDevTool()\n",
        "scrape_client = Client(api_key=userdata.get('scrapegraph'))"
      ],
      "metadata": {
        "id": "R-ff41R0_39j"
      },
      "execution_count": null,
      "outputs": []
    },
    {
      "cell_type": "code",
      "source": [
        "# Create output directory\n",
        "output_dir = \"./trip-planning-output\"\n",
        "os.makedirs(output_dir, exist_ok=True)\n",
        "\n",
        "# Configure LLM\n",
        "import litellm\n",
        "litellm.set_verbose = True  # Enable debugging\n",
        "basic_llm = LLM(\n",
        "    model=\"gpt-4o\",\n",
        "    temperature=0)"
      ],
      "metadata": {
        "id": "Cg8ASiRE2Fij"
      },
      "execution_count": null,
      "outputs": []
    },
    {
      "cell_type": "code",
      "source": [
        "# Create timing decorator for performance monitoring\n",
        "@contextmanager\n",
        "def timing(operation_name):\n",
        "    \"\"\"Context manager for timing operations\"\"\"\n",
        "    start_time = time.time()\n",
        "    yield\n",
        "    elapsed_time = time.time() - start_time\n",
        "    print(f\"⏱️ {operation_name} completed in {elapsed_time:.2f} seconds\")"
      ],
      "metadata": {
        "id": "NJQg7WLG2Fm2"
      },
      "execution_count": null,
      "outputs": []
    },
    {
      "cell_type": "markdown",
      "source": [
        "\"\"\"# 🔍 1. SEARCH QUERY GENERATOR AGENT\"\"\""
      ],
      "metadata": {
        "id": "brDJ5Mat2ke-"
      }
    },
    {
      "cell_type": "code",
      "source": [
        "# Number of keywords to generate\n",
        "no_keywords = 10\n",
        "\n",
        "# Create SuggestedTripQueries class dynamically\n",
        "def create_suggested_trip_queries(max_keywords):\n",
        "    class SuggestedTripQueries(BaseModel):\n",
        "        queries: List[str] = Field(...,\n",
        "                                   title=\"Optimized search queries for best hotels\",\n",
        "                                   min_items=1,\n",
        "                                   max_items=max_keywords)\n",
        "    return SuggestedTripQueries\n",
        "\n",
        "# Create the class with current value of no_keywords\n",
        "SuggestedTripQueries = create_suggested_trip_queries(no_keywords)\n",
        "\n",
        "search_query_agent = Agent(\n",
        "    role=\"Search Query Generator Agent\",\n",
        "    goal=\"\\n\".join([\n",
        "        \"Generate optimized search queries for booking websites to find the best hotels deals.\",\n",
        "        \"Queries should focus on deals within the given budget ({budget}) and duration ({trip_duration} days) and trip type ({trip_type}).\",\n",
        "        \"Ensure that search queries reflect the traveler's preferences for cost and trip length and trip type.\",\n",
        "        \"Provide a mix of options (e.g., budget, luxury, and mid-range).\"\n",
        "    ]),\n",
        "    backstory=\"This agent specializes in looking for best hotels deals by providing a list of suggested search queries to be passed to the search engine based on location, budget, and trip type.\",\n",
        "    llm=basic_llm,\n",
        "    verbose=True,\n",
        ")\n",
        "\n",
        "search_query_task = Task(\n",
        "    description=\"\\n\".join([\n",
        "        \"Generate up to {no_keywords} search queries for hotel packages.\",\n",
        "        \"Ensure queries are optimized for specific booking websites: {websites_list}.\",\n",
        "        \"Include the following constraints:\",\n",
        "        \"1️⃣ Country: {country_name}\",\n",
        "        \"2️⃣ City: {city_name}\",\n",
        "        \"3️⃣ Budget range: {budget}\",\n",
        "        \"4️⃣ Trip duration: {trip_duration} days\",\n",
        "        \"Trip type: {trip_type}\",\n",
        "        \"The queries should focus on deals within the specified budget and duration.\",\n",
        "        \"Avoid general keywords.\"\n",
        "    ]),\n",
        "    expected_output=\"A JSON object containing a list of optimized search queries.\",\n",
        "    output_json=SuggestedTripQueries,\n",
        "    output_file=os.path.join(output_dir, \"step_1_search_queries.json\"),\n",
        "    agent=search_query_agent\n",
        ")"
      ],
      "metadata": {
        "colab": {
          "base_uri": "https://localhost:8080/"
        },
        "id": "sqD_2IPE2FpF",
        "outputId": "f20e09c3-a399-4b1d-df94-cfeaa3df3ff4"
      },
      "execution_count": null,
      "outputs": [
        {
          "output_type": "stream",
          "name": "stderr",
          "text": [
            "/usr/local/lib/python3.11/dist-packages/pydantic/fields.py:1011: PydanticDeprecatedSince20: `min_items` is deprecated and will be removed, use `min_length` instead. Deprecated in Pydantic V2.0 to be removed in V3.0. See Pydantic V2 Migration Guide at https://errors.pydantic.dev/2.10/migration/\n",
            "  warn('`min_items` is deprecated and will be removed, use `min_length` instead', DeprecationWarning)\n",
            "/usr/local/lib/python3.11/dist-packages/pydantic/fields.py:1017: PydanticDeprecatedSince20: `max_items` is deprecated and will be removed, use `max_length` instead. Deprecated in Pydantic V2.0 to be removed in V3.0. See Pydantic V2 Migration Guide at https://errors.pydantic.dev/2.10/migration/\n",
            "  warn('`max_items` is deprecated and will be removed, use `max_length` instead', DeprecationWarning)\n"
          ]
        }
      ]
    },
    {
      "cell_type": "markdown",
      "source": [
        "\"\"\"# 🌐 2. SEARCH ENGINE AGENT\"\"\""
      ],
      "metadata": {
        "id": "8nrEif-72uZG"
      }
    },
    {
      "cell_type": "code",
      "source": [
        "class SearchResult(BaseModel):\n",
        "    title: str\n",
        "    url: str = Field(..., title=\"The page URL\")\n",
        "    snippet: str\n",
        "    score: float\n",
        "    search_query: str\n",
        "\n",
        "class AllSearchResults(BaseModel):\n",
        "    results: List[SearchResult]\n",
        "\n",
        "@lru_cache(maxsize=32)\n",
        "def cached_search(query: str):\n",
        "    \"\"\"Cache search results to avoid duplicate API calls\"\"\"\n",
        "    return search_client.search(query)\n",
        "\n",
        "@tool\n",
        "def search_engine_tool(query: str):\n",
        "    \"\"\"Useful for search-based queries. Use this to find current information about any query related pages using a search engine\"\"\"\n",
        "    try:\n",
        "        with timing(f\"Search for '{query}'\"):\n",
        "            response = cached_search(query)\n",
        "\n",
        "        if not response:\n",
        "            return {\"error\": \"No results found\", \"query\": query}\n",
        "\n",
        "        return response\n",
        "    except ConnectionError as e:\n",
        "        return {\"error\": f\"Connection error: {str(e)}\", \"query\": query}\n",
        "    except TimeoutError as e:\n",
        "        return {\"error\": f\"Request timed out: {str(e)}\", \"query\": query}\n",
        "    except Exception as e:\n",
        "        return {\"error\": f\"Search API failed: {str(e)}\", \"query\": query, \"error_type\": type(e).__name__}\n",
        "\n",
        "search_engine_agent = Agent(\n",
        "    role=\"Search Engine Agent\",\n",
        "    goal=\"\\n\".join([\n",
        "        \"Search for hotel packages and hotels in {country_name} and {city_name} using provided search queries.\",\n",
        "        \"Ensure results match the budget ({budget}) and trip type ({trip_type}).\",\n",
        "        \"NEVER use the same tool twice in a row.\",\n",
        "        \"Your response must follow this format exactly:\",\n",
        "        \"Thought: Your reasoning\",\n",
        "        \"Action: search_engine_tool or google_search_tool (only if needed)\",\n",
        "        \"Final Answer: A clear, structured response with hotel deals.\"\n",
        "    ]),\n",
        "    backstory=\"A professional hotel research agent that retrieves the best booking offers.\",\n",
        "    llm=basic_llm,\n",
        "    tools=[search_engine_tool, google_search_tool],\n",
        "    verbose=True)\n",
        "\n",
        "search_engine_task = Task(\n",
        "    description=\"Use the search engine tool to find hotel deals in {country_name} and {city_name} based on the generated search queries. \"\n",
        "                \"Ignore blogs, ads, or unrelated links.\",\n",
        "    expected_output=\"A JSON object containing search results with hotel deals.\",\n",
        "    output_json=AllSearchResults,\n",
        "    output_file=os.path.join(output_dir, \"step_2_search_results.json\"),\n",
        "    agent=search_engine_agent\n",
        ")"
      ],
      "metadata": {
        "id": "7y0x77Fv2Fr4"
      },
      "execution_count": null,
      "outputs": []
    },
    {
      "cell_type": "markdown",
      "source": [
        "# 🕵️ 3. WEB SCRAPING AGEN"
      ],
      "metadata": {
        "id": "lvHxSx6927FX"
      }
    },
    {
      "cell_type": "code",
      "source": [
        "class HotelSpec(BaseModel):\n",
        "    specification_name: str\n",
        "    specification_value: str\n",
        "\n",
        "class TripPackageDetails(BaseModel):\n",
        "    page_url: str = Field(..., title=\"The page URL of the hotel page\")\n",
        "    hotel_name: str = Field(..., title=\"The name of the hotel\")\n",
        "    hotel_description: str = Field(..., title=\"A brief description of the hotel\")\n",
        "    hotel_address: str = Field(..., title=\"The address of the hotel\")\n",
        "    location: str = Field(..., title=\"The location of the hotel\")\n",
        "    rating: float = Field(title=\"The rating of the hotel based on reviews\", default=None)\n",
        "    reviews: int = Field(title=\"The number of reviews for the hotel\", default=None)\n",
        "    price: float = Field(title=\"The price of the hotel package\", default=None)\n",
        "    currency: str = Field(title=\"The currency of the price\", default=None)\n",
        "    included_meals: str = Field(title=\"The meals included in the package\", default= None)\n",
        "    excluded_meals: str = Field(title=\"The meals excluded from the package\", default= None)\n",
        "    facilities: str = Field(title=\"The facilities which the hotel provides to their guests\", default= None)\n",
        "    #room_type = str = Field (title= \"The type of room options like single room, double room, or family room \", default=None)\n",
        "\n",
        "    product_specs: List[HotelSpec] = Field(..., title=\"The specifications of the hotel. Focus on the most important specs to compare.\", min_items=1, max_items=5)\n",
        "    agent_recommendation_rank: int = Field(..., title=\"The rank of the hotel to be considered in the final procurement report. (out of 5, Higher is Better) in the recommendation list ordering from the best to the worst\")\n",
        "    agent_recommendation_notes: List[str]  = Field(..., title=\"A set of notes why would you recommend or not recommend this hotel to the traveller, compared to other hotels.\")\n",
        "\n",
        "\n",
        "class AllTripPackages(BaseModel):\n",
        "    packages: List[TripPackageDetails]\n",
        "\n",
        "@tool\n",
        "def web_scraping_tool(page_url: str, timeout=30):\n",
        "    \"\"\"An AI tool to scrape hotel details and ensure the location matches the search location.\n",
        "       Example: web_scraping_tool (page_url = \"https://www.booking.com/family/city/eg/luxor.html\")\n",
        "    \"\"\"\n",
        "    try:\n",
        "        with timing(f\"Scraping {page_url}\"):\n",
        "            details = scrape_client.smartscraper(\n",
        "                website_url=page_url,\n",
        "                user_prompt=f\"Extract ```json\\n\" + TripPackageDetails.schema_json() + \"```\\n From the web page\"\n",
        "                #timeout=timeout\n",
        "            )\n",
        "\n",
        "        return {\"page_url\": page_url, \"details\": details}\n",
        "\n",
        "    except TimeoutError:\n",
        "        return {\"error\": f\"Scraping timed out after {timeout} seconds\", \"page_url\": page_url}\n",
        "    except Exception as e:\n",
        "        return {\"error\": f\"Scraping failed: {str(e)}\", \"page_url\": page_url}\n",
        "\n",
        "\n",
        "\n",
        "scraping_agent = Agent(\n",
        "    role=\"Web Scraping Agent\",\n",
        "    goal=\"Extract hotel details and related activities from search results pages generated by search_engine_agent.\",\n",
        "    backstory=\"The agent is designed to help in looking for required values from any website url. These details will be used to decide which best hotel to book.\",\n",
        "    llm=basic_llm,\n",
        "    tools=[web_scraping_tool],\n",
        "    verbose=True,\n",
        ")\n",
        "\n",
        "scraping_task = Task(\n",
        "      description=\"\\n\".join([\n",
        "                \"Extract hotel package details including hotel name, price, rating, reviews, meals, and activities from any booking hotel page url.\",\n",
        "                \"The task has to collect results from multiple pages urls.\",\n",
        "                \"Collect the best top recommendations hotels from the search results.\"]),\n",
        "      expected_output=\"A JSON object containing structured hotel package details.\",\n",
        "      output_json=AllTripPackages,\n",
        "      output_file=os.path.join(output_dir, \"step_3_trip_packages.json\"),\n",
        "       agent=scraping_agent,\n",
        "      async_execution=True  # Run in parallel for better performance\n",
        ")"
      ],
      "metadata": {
        "id": "w5fclTlh2Fuf"
      },
      "execution_count": null,
      "outputs": []
    },
    {
      "cell_type": "code",
      "source": [
        "hotel_report_agent = Agent(\n",
        "    role=\"Hotel Report Author Agent\",\n",
        "    goal=\"To generate a professional HTML page for the Hotel recommendation report\",\n",
        "    backstory=\"The agent is designed to assist in generating a professional HTML page for the  Hotel recommendation report after looking into a list of hotels.\",\n",
        "    llm=basic_llm,\n",
        "    verbose=True,\n",
        ")\n",
        "\n",
        "hotel_report_task = Task(\n",
        "    description=\"\\n\".join([\n",
        "        \"The task is to generate a professional HTML page for the Hotel recommendation report.\",\n",
        "        \"You have to use Bootstrap CSS framework for a better UI.\",\n",
        "        \"The report will include the search results and prices of hotels from different websites.\",\n",
        "        \"The report should be structured with the following sections:\",\n",
        "        \"1. Executive Summary: A brief overview of the hotel process and key findings.\",\n",
        "        \"2. Introduction: An introduction to the purpose and scope of the report.\",\n",
        "        \"3. Methodology: A description of the methods used to gather and compare prices.\",\n",
        "        \"4. Findings: Detailed comparison of prices from different websites, including tables and charts.\",\n",
        "        \"5. Analysis: An analysis of the findings, highlighting any significant trends or observations.\",\n",
        "        \"6. Recommendations: Suggestions for Hotel based on the analysis.\",\n",
        "        \"7. Conclusion: A summary of the report and final thoughts.\",\n",
        "        \"8. Appendices: Any additional information, such as raw data or supplementary materials.\",\n",
        "    ]),\n",
        "\n",
        "    expected_output=\"A professional HTML page for the Hotel recommendation report.\",\n",
        "    output_file=os.path.join(output_dir, \"step_4_trip_report.html\"),\n",
        "    agent=hotel_report_agent,\n",
        ")"
      ],
      "metadata": {
        "id": "xNe7-g6U8oG6"
      },
      "execution_count": null,
      "outputs": []
    },
    {
      "cell_type": "markdown",
      "source": [
        "# 🚀 ASSEMBLING THE CREW"
      ],
      "metadata": {
        "id": "0nGoowmG3MJk"
      }
    },
    {
      "cell_type": "code",
      "source": [
        "trip_planning_crew = Crew(\n",
        "    agents=[\n",
        "        search_query_agent,\n",
        "        search_engine_agent,\n",
        "        scraping_agent,\n",
        "        hotel_report_agent,\n",
        "    ],\n",
        "    tasks=[\n",
        "        search_query_task,\n",
        "        search_engine_task,\n",
        "        scraping_task,\n",
        "        hotel_report_task,\n",
        "    ],\n",
        "    process=Process.sequential,\n",
        "    verbose=True\n",
        ")"
      ],
      "metadata": {
        "id": "ZAtmpFiU2F2y"
      },
      "execution_count": null,
      "outputs": []
    },
    {
      "cell_type": "code",
      "source": [
        "# Enhanced processing function to prepare data for Streamlit\n",
        "def process_results_for_streamlit(trip_packages, country_name, city_name, budget, trip_type, trip_duration):\n",
        "    \"\"\"Process the results into a format that's easy for Streamlit to display\"\"\"\n",
        "\n",
        "    # Create a summary JSON\n",
        "    summary = {\n",
        "        \"trip_details\": {\n",
        "            \"country\": country_name,\n",
        "            \"city\": city_name,\n",
        "            \"budget\": budget,\n",
        "            \"trip_type\": trip_type,\n",
        "            \"duration\": f\"{trip_duration} days\"\n",
        "        },\n",
        "        \"hotel_count\": len(trip_packages.get(\"packages\", [])),\n",
        "        \"price_range\": {\n",
        "            \"min\": min([p.get(\"price\", 0) for p in trip_packages.get(\"packages\", []) if p.get(\"price\")], default=0),\n",
        "            \"max\": max([p.get(\"price\", 0) for p in trip_packages.get(\"packages\", []) if p.get(\"price\")], default=0)\n",
        "        },\n",
        "        \"top_hotels\": sorted(trip_packages.get(\"packages\", []),\n",
        "                            key=lambda x: x.get(\"rating\", 0),\n",
        "                            reverse=True)[:3] if trip_packages.get(\"packages\") else []\n",
        "    }\n",
        "\n",
        "    # Save the summary to a file\n",
        "    with open(os.path.join(output_dir, \"trip_summary.json\"), \"w\") as f:\n",
        "        json.dump(summary, f, indent=2)\n",
        "\n",
        "    return summary"
      ],
      "metadata": {
        "id": "DpdZO89FAcO9"
      },
      "execution_count": null,
      "outputs": []
    },
    {
      "cell_type": "code",
      "source": [
        "def validate_budget(budget):\n",
        "    \"\"\"Validate budget format (e.g., $200-$1000 or 200-1000)\"\"\"\n",
        "    return bool(re.match(r'^\\$?\\d+\\s*-\\s*\\$?\\d+$', budget))\n",
        "\n",
        "def validate_duration(duration):\n",
        "    \"\"\"Validate duration format (e.g., 3 days or 3)\"\"\"\n",
        "    # Extract just the number for consistent processing\n",
        "    match = re.match(r'^(\\d+)(?:\\s*days?)?$', duration)\n",
        "    if match:\n",
        "        return int(match.group(1)) > 0\n",
        "    return False\n",
        "\n",
        "def get_valid_input(prompt, valid_options=None, validator_func=None):\n",
        "    \"\"\"Enhanced input validation with custom validator functions\"\"\"\n",
        "    while True:\n",
        "        user_input = input(prompt).strip()\n",
        "\n",
        "        if not user_input:\n",
        "            print(\"Input cannot be empty. Please enter a value.\")\n",
        "            continue\n",
        "\n",
        "        if valid_options and user_input not in valid_options:\n",
        "            print(f\"Invalid input. Please choose from the following options: {', '.join(valid_options)}\")\n",
        "            continue\n",
        "\n",
        "        if validator_func and not validator_func(user_input):\n",
        "            print(\"Invalid input format. Please try again.\")\n",
        "            continue\n",
        "\n",
        "        return user_input"
      ],
      "metadata": {
        "id": "2T2HaLht3Sle"
      },
      "execution_count": null,
      "outputs": []
    },
    {
      "cell_type": "code",
      "source": [
        "def normalize_duration(duration):\n",
        "    \"\"\"Extract the number from duration input\"\"\"\n",
        "    match = re.match(r'^(\\d+)(?:\\s*days?)?$', duration)\n",
        "    if match:\n",
        "        return match.group(1)\n",
        "    return duration\n",
        "\n",
        "def download_output_files():\n",
        "    \"\"\"Function to download output files from Google Colab\"\"\"\n",
        "    from google.colab import files\n",
        "    import os\n",
        "\n",
        "    output_dir = \"./trip-planning-output\"\n",
        "    file_paths = [\n",
        "        os.path.join(output_dir, \"step_1_search_queries.json\"),\n",
        "        os.path.join(output_dir, \"step_2_search_results.json\"),\n",
        "        os.path.join(output_dir, \"step_3_trip_packages.json\"),\n",
        "        os.path.join(output_dir, \"step_4_trip_report.html\"),\n",
        "        os.path.join(output_dir, \"trip_summary.json\")  # Added this file\n",
        "    ]\n",
        "\n",
        "    print(\"Downloading output files...\")\n",
        "    for file_path in file_paths:\n",
        "        if os.path.exists(file_path):\n",
        "            files.download(file_path)\n",
        "            print(f\"Downloaded: {file_path}\")\n",
        "        else:\n",
        "            print(f\"File not found: {file_path}\")"
      ],
      "metadata": {
        "id": "YEJIVrsg4Jdx"
      },
      "execution_count": null,
      "outputs": []
    },
    {
      "cell_type": "code",
      "source": [
        "def run_trip_adviser():\n",
        "    \"\"\"Main function to run the Trip Adviser application\"\"\"\n",
        "    print(\"=== Trip Adviser AI ===\")\n",
        "    print(\"Let's plan your perfect hotel stay!\")\n",
        "\n",
        "    # Get user inputs with validation\n",
        "    country_name = get_valid_input(\"Enter the destination country: \")\n",
        "    city_name = get_valid_input(\"Enter the desired city: \")\n",
        "\n",
        "    budget = get_valid_input(\n",
        "        \"Enter your budget (e.g., $200-$1000): \",\n",
        "        validator_func=validate_budget\n",
        "    )\n",
        "\n",
        "    trip_type = get_valid_input(\n",
        "        \"Enter your trip type (e.g., adventure, luxury, family): \"\n",
        "    )\n",
        "\n",
        "    trip_duration_input = get_valid_input(\n",
        "        \"Enter your trip duration (e.g., 3 days): \",\n",
        "        validator_func=validate_duration\n",
        "    )\n",
        "    trip_duration = normalize_duration(trip_duration_input)\n",
        "\n",
        "    print(\"\\nStarting hotel search process. This may take several minutes...\\n\")\n",
        "    # Execute crew with timing\n",
        "    with timing(\"Trip planning process\"):\n",
        "        try:\n",
        "            crew_results = trip_planning_crew.kickoff(\n",
        "                inputs={\n",
        "                    \"websites_list\": [\"Booking.com\", \"TripAdvisor\", \"Agoda\", \"Wego\", \"Expedia\"],\n",
        "                    \"no_keywords\": no_keywords,\n",
        "                    \"country_name\": country_name,\n",
        "                    \"city_name\": city_name,\n",
        "                    \"budget\": budget,\n",
        "                    \"trip_type\": trip_type,\n",
        "                    \"trip_duration\": trip_duration\n",
        "                }\n",
        "            )\n",
        "            print(\"\\n✅ Trip Planning AI Crew completed!\")\n",
        "        except Exception as e:\n",
        "            print(f\"\\n❌ Error during trip planning: {str(e)}\")\n",
        "            return None\n",
        "\n",
        "    # Load the trip packages for processing\n",
        "    trip_packages_file = os.path.join(output_dir, \"step_3_trip_packages.json\")\n",
        "    if os.path.exists(trip_packages_file):\n",
        "        try:\n",
        "            with open(trip_packages_file, \"r\") as f:\n",
        "                trip_packages = json.load(f)\n",
        "\n",
        "            # Process results for Streamlit\n",
        "            summary = process_results_for_streamlit(\n",
        "                trip_packages, country_name, city_name, budget, trip_type, trip_duration\n",
        "            )\n",
        "            print(f\"\\nFound {summary['hotel_count']} hotels within your budget range.\")\n",
        "            if summary['hotel_count'] > 0:\n",
        "                print(f\"Price range: ${summary['price_range']['min']} - ${summary['price_range']['max']}\")\n",
        "            else:\n",
        "                print(\"No hotels found within your criteria. Consider adjusting your search parameters.\")\n",
        "        except Exception as e:\n",
        "            print(f\"\\n❌ Error processing results: {str(e)}\")\n",
        "    else:\n",
        "        print(\"\\n⚠️ No trip packages file found. The search might not have returned any results.\")\n",
        "\n",
        "    print(f\"\\nYou can find all outputs in the '{output_dir}' directory\")\n",
        "\n",
        "    # Add download option\n",
        "    download_files = get_valid_input(\"Would you like to download the output files? (yes/no): \",\n",
        "                                     valid_options=[\"yes\", \"no\"])\n",
        "    if download_files.lower() == \"yes\":\n",
        "        download_output_files()\n",
        "\n",
        "    return crew_results"
      ],
      "metadata": {
        "id": "HPxJI2hks7yw"
      },
      "execution_count": null,
      "outputs": []
    },
    {
      "cell_type": "code",
      "source": [
        "if __name__ == \"__main__\":\n",
        "    run_trip_adviser()"
      ],
      "metadata": {
        "colab": {
          "base_uri": "https://localhost:8080/",
          "height": 1000
        },
        "id": "FR2CAm7s-ZLe",
        "outputId": "f9dfe5b0-f6f3-4662-a7e2-967cafeda035"
      },
      "execution_count": null,
      "outputs": [
        {
          "output_type": "stream",
          "name": "stdout",
          "text": [
            "=== Trip Adviser AI ===\n",
            "Let's plan your perfect hotel stay!\n",
            "Enter the destination country: Egypt\n",
            "Enter the desired city: Hurghada\n",
            "Enter your budget (e.g., $200-$1000): $200-$800\n",
            "Enter your trip type (e.g., adventure, luxury, family): family\n",
            "Enter your trip duration (e.g., 3 days): 4\n",
            "\n",
            "Starting hotel search process. This may take several minutes...\n",
            "\n"
          ]
        },
        {
          "output_type": "display_data",
          "data": {
            "text/plain": [
              "\u001b[36m╭─\u001b[0m\u001b[36m───────────────────────────────────────────\u001b[0m\u001b[36m Crew Execution Started \u001b[0m\u001b[36m────────────────────────────────────────────\u001b[0m\u001b[36m─╮\u001b[0m\n",
              "\u001b[36m│\u001b[0m                                                                                                                 \u001b[36m│\u001b[0m\n",
              "\u001b[36m│\u001b[0m  \u001b[1;36mCrew Execution Started\u001b[0m                                                                                         \u001b[36m│\u001b[0m\n",
              "\u001b[36m│\u001b[0m  \u001b[37mName: \u001b[0m\u001b[36mcrew\u001b[0m                                                                                                     \u001b[36m│\u001b[0m\n",
              "\u001b[36m│\u001b[0m  \u001b[37mID: \u001b[0m\u001b[36mad8e5ae1-5343-415f-bc26-b95894016c11\u001b[0m                                                                       \u001b[36m│\u001b[0m\n",
              "\u001b[36m│\u001b[0m                                                                                                                 \u001b[36m│\u001b[0m\n",
              "\u001b[36m│\u001b[0m                                                                                                                 \u001b[36m│\u001b[0m\n",
              "\u001b[36m╰─────────────────────────────────────────────────────────────────────────────────────────────────────────────────╯\u001b[0m\n"
            ],
            "text/html": [
              "<pre style=\"white-space:pre;overflow-x:auto;line-height:normal;font-family:Menlo,'DejaVu Sans Mono',consolas,'Courier New',monospace\"><span style=\"color: #008080; text-decoration-color: #008080\">╭──────────────────────────────────────────── Crew Execution Started ─────────────────────────────────────────────╮</span>\n",
              "<span style=\"color: #008080; text-decoration-color: #008080\">│</span>                                                                                                                 <span style=\"color: #008080; text-decoration-color: #008080\">│</span>\n",
              "<span style=\"color: #008080; text-decoration-color: #008080\">│</span>  <span style=\"color: #008080; text-decoration-color: #008080; font-weight: bold\">Crew Execution Started</span>                                                                                         <span style=\"color: #008080; text-decoration-color: #008080\">│</span>\n",
              "<span style=\"color: #008080; text-decoration-color: #008080\">│</span>  <span style=\"color: #c0c0c0; text-decoration-color: #c0c0c0\">Name: </span><span style=\"color: #008080; text-decoration-color: #008080\">crew</span>                                                                                                     <span style=\"color: #008080; text-decoration-color: #008080\">│</span>\n",
              "<span style=\"color: #008080; text-decoration-color: #008080\">│</span>  <span style=\"color: #c0c0c0; text-decoration-color: #c0c0c0\">ID: </span><span style=\"color: #008080; text-decoration-color: #008080\">ad8e5ae1-5343-415f-bc26-b95894016c11</span>                                                                       <span style=\"color: #008080; text-decoration-color: #008080\">│</span>\n",
              "<span style=\"color: #008080; text-decoration-color: #008080\">│</span>                                                                                                                 <span style=\"color: #008080; text-decoration-color: #008080\">│</span>\n",
              "<span style=\"color: #008080; text-decoration-color: #008080\">│</span>                                                                                                                 <span style=\"color: #008080; text-decoration-color: #008080\">│</span>\n",
              "<span style=\"color: #008080; text-decoration-color: #008080\">╰─────────────────────────────────────────────────────────────────────────────────────────────────────────────────╯</span>\n",
              "</pre>\n"
            ]
          },
          "metadata": {}
        },
        {
          "output_type": "display_data",
          "data": {
            "text/plain": [
              "\n"
            ],
            "text/html": [
              "<pre style=\"white-space:pre;overflow-x:auto;line-height:normal;font-family:Menlo,'DejaVu Sans Mono',consolas,'Courier New',monospace\">\n",
              "</pre>\n"
            ]
          },
          "metadata": {}
        },
        {
          "output_type": "display_data",
          "data": {
            "text/plain": [
              "\u001b[1;36m🚀 Crew: \u001b[0m\u001b[1;36mcrew\u001b[0m\n",
              "└── \u001b[1;33m📋 Task: bcf4ba67-2cd5-45cd-9a30-27a6a5611dcf\u001b[0m\n",
              "    \u001b[37m   Status: \u001b[0m\u001b[2;33mExecuting Task...\u001b[0m\n"
            ],
            "text/html": [
              "<pre style=\"white-space:pre;overflow-x:auto;line-height:normal;font-family:Menlo,'DejaVu Sans Mono',consolas,'Courier New',monospace\"><span style=\"color: #008080; text-decoration-color: #008080; font-weight: bold\">🚀 Crew: crew</span>\n",
              "└── <span style=\"color: #808000; text-decoration-color: #808000; font-weight: bold\">📋 Task: bcf4ba67-2cd5-45cd-9a30-27a6a5611dcf</span>\n",
              "    <span style=\"color: #c0c0c0; text-decoration-color: #c0c0c0\">   Status: </span><span style=\"color: #bfbf7f; text-decoration-color: #bfbf7f\">Executing Task...</span>\n",
              "</pre>\n"
            ]
          },
          "metadata": {}
        },
        {
          "output_type": "display_data",
          "data": {
            "text/plain": [
              "\n"
            ],
            "text/html": [
              "<pre style=\"white-space:pre;overflow-x:auto;line-height:normal;font-family:Menlo,'DejaVu Sans Mono',consolas,'Courier New',monospace\">\n",
              "</pre>\n"
            ]
          },
          "metadata": {}
        },
        {
          "output_type": "display_data",
          "data": {
            "text/plain": [
              "\u001b[1;36m🚀 Crew: \u001b[0m\u001b[1;36mcrew\u001b[0m\n",
              "└── \u001b[1;33m📋 Task: bcf4ba67-2cd5-45cd-9a30-27a6a5611dcf\u001b[0m\n",
              "    \u001b[37m   Status: \u001b[0m\u001b[2;33mExecuting Task...\u001b[0m\n",
              "    └── \u001b[1;32m🤖 Agent: \u001b[0m\u001b[32mSearch Query Generator Agent\u001b[0m\n",
              "        \u001b[37m    Status: \u001b[0m\u001b[1;32mIn Progress\u001b[0m\n"
            ],
            "text/html": [
              "<pre style=\"white-space:pre;overflow-x:auto;line-height:normal;font-family:Menlo,'DejaVu Sans Mono',consolas,'Courier New',monospace\"><span style=\"color: #008080; text-decoration-color: #008080; font-weight: bold\">🚀 Crew: crew</span>\n",
              "└── <span style=\"color: #808000; text-decoration-color: #808000; font-weight: bold\">📋 Task: bcf4ba67-2cd5-45cd-9a30-27a6a5611dcf</span>\n",
              "    <span style=\"color: #c0c0c0; text-decoration-color: #c0c0c0\">   Status: </span><span style=\"color: #bfbf7f; text-decoration-color: #bfbf7f\">Executing Task...</span>\n",
              "    └── <span style=\"color: #008000; text-decoration-color: #008000; font-weight: bold\">🤖 Agent: </span><span style=\"color: #008000; text-decoration-color: #008000\">Search Query Generator Agent</span>\n",
              "        <span style=\"color: #c0c0c0; text-decoration-color: #c0c0c0\">    Status: </span><span style=\"color: #008000; text-decoration-color: #008000; font-weight: bold\">In Progress</span>\n",
              "</pre>\n"
            ]
          },
          "metadata": {}
        },
        {
          "output_type": "display_data",
          "data": {
            "text/plain": [
              "\n"
            ],
            "text/html": [
              "<pre style=\"white-space:pre;overflow-x:auto;line-height:normal;font-family:Menlo,'DejaVu Sans Mono',consolas,'Courier New',monospace\">\n",
              "</pre>\n"
            ]
          },
          "metadata": {}
        },
        {
          "output_type": "stream",
          "name": "stdout",
          "text": [
            "\u001b[1m\u001b[95m# Agent:\u001b[00m \u001b[1m\u001b[92mSearch Query Generator Agent\u001b[00m\n",
            "\u001b[95m## Task:\u001b[00m \u001b[92mGenerate up to 10 search queries for hotel packages.\n",
            "Ensure queries are optimized for specific booking websites: ['Booking.com', 'TripAdvisor', 'Agoda', 'Wego', 'Expedia'].\n",
            "Include the following constraints:\n",
            "1️⃣ Country: Egypt\n",
            "2️⃣ City: Hurghada\n",
            "3️⃣ Budget range: $200-$800\n",
            "4️⃣ Trip duration: 4 days\n",
            "Trip type: family\n",
            "The queries should focus on deals within the specified budget and duration.\n",
            "Avoid general keywords.\u001b[00m\n"
          ]
        },
        {
          "output_type": "display_data",
          "data": {
            "text/plain": [
              "\u001b[1;36m🚀 Crew: \u001b[0m\u001b[1;36mcrew\u001b[0m\n",
              "└── \u001b[1;33m📋 Task: bcf4ba67-2cd5-45cd-9a30-27a6a5611dcf\u001b[0m\n",
              "    \u001b[37m   Status: \u001b[0m\u001b[2;33mExecuting Task...\u001b[0m\n",
              "    └── \u001b[1;32m🤖 Agent: \u001b[0m\u001b[32mSearch Query Generator Agent\u001b[0m\n",
              "        \u001b[37m    Status: \u001b[0m\u001b[1;32mIn Progress\u001b[0m\n",
              "        └── \u001b[1;34m🧠 \u001b[0m\u001b[34mThinking...\u001b[0m\n"
            ],
            "text/html": [
              "<pre style=\"white-space:pre;overflow-x:auto;line-height:normal;font-family:Menlo,'DejaVu Sans Mono',consolas,'Courier New',monospace\"><span style=\"color: #008080; text-decoration-color: #008080; font-weight: bold\">🚀 Crew: crew</span>\n",
              "└── <span style=\"color: #808000; text-decoration-color: #808000; font-weight: bold\">📋 Task: bcf4ba67-2cd5-45cd-9a30-27a6a5611dcf</span>\n",
              "    <span style=\"color: #c0c0c0; text-decoration-color: #c0c0c0\">   Status: </span><span style=\"color: #bfbf7f; text-decoration-color: #bfbf7f\">Executing Task...</span>\n",
              "    └── <span style=\"color: #008000; text-decoration-color: #008000; font-weight: bold\">🤖 Agent: </span><span style=\"color: #008000; text-decoration-color: #008000\">Search Query Generator Agent</span>\n",
              "        <span style=\"color: #c0c0c0; text-decoration-color: #c0c0c0\">    Status: </span><span style=\"color: #008000; text-decoration-color: #008000; font-weight: bold\">In Progress</span>\n",
              "        └── <span style=\"color: #000080; text-decoration-color: #000080; font-weight: bold\">🧠 </span><span style=\"color: #000080; text-decoration-color: #000080\">Thinking...</span>\n",
              "</pre>\n"
            ]
          },
          "metadata": {}
        },
        {
          "output_type": "display_data",
          "data": {
            "text/plain": [
              "\n"
            ],
            "text/html": [
              "<pre style=\"white-space:pre;overflow-x:auto;line-height:normal;font-family:Menlo,'DejaVu Sans Mono',consolas,'Courier New',monospace\">\n",
              "</pre>\n"
            ]
          },
          "metadata": {}
        },
        {
          "output_type": "stream",
          "name": "stderr",
          "text": [
            "\u001b[92m01:13:45 - LiteLLM:WARNING\u001b[0m: utils.py:428 - `litellm.set_verbose` is deprecated. Please set `os.environ['LITELLM_LOG'] = 'DEBUG'` for debug logs.\n",
            "WARNING:LiteLLM:`litellm.set_verbose` is deprecated. Please set `os.environ['LITELLM_LOG'] = 'DEBUG'` for debug logs.\n"
          ]
        },
        {
          "output_type": "stream",
          "name": "stdout",
          "text": [
            "Initialized litellm callbacks, Async Success Callbacks: [<crewai.utilities.token_counter_callback.TokenCalcHandler object at 0x7c07979c51d0>]\n",
            "SYNC kwargs[caching]: False; litellm.cache: None; kwargs.get('cache')['no-cache']: False\n",
            "Final returned optional params: {'temperature': 0, 'stream': False, 'stop': ['\\nObservation:'], 'extra_body': {}}\n",
            "RAW RESPONSE:\n",
            "{\"id\": \"chatcmpl-BCylerog3bBsEF4PfhKOPYR2a5wde\", \"choices\": [{\"finish_reason\": \"stop\", \"index\": 0, \"logprobs\": null, \"message\": {\"content\": \"I now can give a great answer\\nFinal Answer: {\\n  \\\"queries\\\": [\\n    \\\"Booking.com family hotel deals Hurghada Egypt 4 days $200-$800\\\",\\n    \\\"TripAdvisor family-friendly hotels Hurghada Egypt 4-day stay budget $200-$800\\\",\\n    \\\"Agoda Hurghada Egypt family hotel packages 4 days $200-$800\\\",\\n    \\\"Wego family vacation hotels Hurghada Egypt 4 days $200-$800\\\",\\n    \\\"Expedia Hurghada Egypt family hotel offers 4 days $200-$800\\\",\\n    \\\"Booking.com Hurghada Egypt family hotels 4-day trip $200-$800\\\",\\n    \\\"TripAdvisor Hurghada Egypt family hotel deals 4 days $200-$800\\\",\\n    \\\"Agoda family-friendly hotel packages Hurghada Egypt 4 days $200-$800\\\",\\n    \\\"Wego Hurghada Egypt family hotel deals 4-day stay $200-$800\\\",\\n    \\\"Expedia family vacation packages Hurghada Egypt 4 days $200-$800\\\"\\n  ]\\n}\", \"refusal\": null, \"role\": \"assistant\", \"audio\": null, \"function_call\": null, \"tool_calls\": null, \"annotations\": []}}], \"created\": 1742433226, \"model\": \"gpt-4o-2024-08-06\", \"object\": \"chat.completion\", \"service_tier\": \"default\", \"system_fingerprint\": \"fp_83df987f64\", \"usage\": {\"completion_tokens\": 215, \"prompt_tokens\": 404, \"total_tokens\": 619, \"completion_tokens_details\": {\"accepted_prediction_tokens\": 0, \"audio_tokens\": 0, \"reasoning_tokens\": 0, \"rejected_prediction_tokens\": 0}, \"prompt_tokens_details\": {\"audio_tokens\": 0, \"cached_tokens\": 0}}}\n",
            "\n",
            "\n"
          ]
        },
        {
          "output_type": "display_data",
          "data": {
            "text/plain": [
              "\u001b[1;36m🚀 Crew: \u001b[0m\u001b[1;36mcrew\u001b[0m\n",
              "└── \u001b[1;33m📋 Task: bcf4ba67-2cd5-45cd-9a30-27a6a5611dcf\u001b[0m\n",
              "    \u001b[37m   Status: \u001b[0m\u001b[2;33mExecuting Task...\u001b[0m\n",
              "    └── \u001b[1;32m🤖 Agent: \u001b[0m\u001b[32mSearch Query Generator Agent\u001b[0m\n",
              "        \u001b[37m    Status: \u001b[0m\u001b[1;32mIn Progress\u001b[0m\n"
            ],
            "text/html": [
              "<pre style=\"white-space:pre;overflow-x:auto;line-height:normal;font-family:Menlo,'DejaVu Sans Mono',consolas,'Courier New',monospace\"><span style=\"color: #008080; text-decoration-color: #008080; font-weight: bold\">🚀 Crew: crew</span>\n",
              "└── <span style=\"color: #808000; text-decoration-color: #808000; font-weight: bold\">📋 Task: bcf4ba67-2cd5-45cd-9a30-27a6a5611dcf</span>\n",
              "    <span style=\"color: #c0c0c0; text-decoration-color: #c0c0c0\">   Status: </span><span style=\"color: #bfbf7f; text-decoration-color: #bfbf7f\">Executing Task...</span>\n",
              "    └── <span style=\"color: #008000; text-decoration-color: #008000; font-weight: bold\">🤖 Agent: </span><span style=\"color: #008000; text-decoration-color: #008000\">Search Query Generator Agent</span>\n",
              "        <span style=\"color: #c0c0c0; text-decoration-color: #c0c0c0\">    Status: </span><span style=\"color: #008000; text-decoration-color: #008000; font-weight: bold\">In Progress</span>\n",
              "</pre>\n"
            ]
          },
          "metadata": {}
        },
        {
          "output_type": "display_data",
          "data": {
            "text/plain": [
              "\n"
            ],
            "text/html": [
              "<pre style=\"white-space:pre;overflow-x:auto;line-height:normal;font-family:Menlo,'DejaVu Sans Mono',consolas,'Courier New',monospace\">\n",
              "</pre>\n"
            ]
          },
          "metadata": {}
        },
        {
          "output_type": "stream",
          "name": "stdout",
          "text": [
            "\n",
            "\n",
            "\u001b[1m\u001b[95m# Agent:\u001b[00m \u001b[1m\u001b[92mSearch Query Generator Agent\u001b[00m\n",
            "\u001b[95m## Final Answer:\u001b[00m \u001b[92m\n",
            "{\n",
            "  \"queries\": [\n",
            "    \"Booking.com family hotel deals Hurghada Egypt 4 days $200-$800\",\n",
            "    \"TripAdvisor family-friendly hotels Hurghada Egypt 4-day stay budget $200-$800\",\n",
            "    \"Agoda Hurghada Egypt family hotel packages 4 days $200-$800\",\n",
            "    \"Wego family vacation hotels Hurghada Egypt 4 days $200-$800\",\n",
            "    \"Expedia Hurghada Egypt family hotel offers 4 days $200-$800\",\n",
            "    \"Booking.com Hurghada Egypt family hotels 4-day trip $200-$800\",\n",
            "    \"TripAdvisor Hurghada Egypt family hotel deals 4 days $200-$800\",\n",
            "    \"Agoda family-friendly hotel packages Hurghada Egypt 4 days $200-$800\",\n",
            "    \"Wego Hurghada Egypt family hotel deals 4-day stay $200-$800\",\n",
            "    \"Expedia family vacation packages Hurghada Egypt 4 days $200-$800\"\n",
            "  ]\n",
            "}\u001b[00m\n",
            "\n",
            "\n"
          ]
        },
        {
          "output_type": "display_data",
          "data": {
            "text/plain": [
              "\u001b[1;36m🚀 Crew: \u001b[0m\u001b[1;36mcrew\u001b[0m\n",
              "└── \u001b[1;33m📋 Task: bcf4ba67-2cd5-45cd-9a30-27a6a5611dcf\u001b[0m\n",
              "    \u001b[37m   Status: \u001b[0m\u001b[2;33mExecuting Task...\u001b[0m\n",
              "    └── \u001b[1;32m🤖 Agent: \u001b[0m\u001b[32mSearch Query Generator Agent\u001b[0m\n",
              "        \u001b[37m    Status: \u001b[0m\u001b[1;32m✅ Completed\u001b[0m\n"
            ],
            "text/html": [
              "<pre style=\"white-space:pre;overflow-x:auto;line-height:normal;font-family:Menlo,'DejaVu Sans Mono',consolas,'Courier New',monospace\"><span style=\"color: #008080; text-decoration-color: #008080; font-weight: bold\">🚀 Crew: crew</span>\n",
              "└── <span style=\"color: #808000; text-decoration-color: #808000; font-weight: bold\">📋 Task: bcf4ba67-2cd5-45cd-9a30-27a6a5611dcf</span>\n",
              "    <span style=\"color: #c0c0c0; text-decoration-color: #c0c0c0\">   Status: </span><span style=\"color: #bfbf7f; text-decoration-color: #bfbf7f\">Executing Task...</span>\n",
              "    └── <span style=\"color: #008000; text-decoration-color: #008000; font-weight: bold\">🤖 Agent: </span><span style=\"color: #008000; text-decoration-color: #008000\">Search Query Generator Agent</span>\n",
              "        <span style=\"color: #c0c0c0; text-decoration-color: #c0c0c0\">    Status: </span><span style=\"color: #008000; text-decoration-color: #008000; font-weight: bold\">✅ Completed</span>\n",
              "</pre>\n"
            ]
          },
          "metadata": {}
        },
        {
          "output_type": "display_data",
          "data": {
            "text/plain": [
              "\n"
            ],
            "text/html": [
              "<pre style=\"white-space:pre;overflow-x:auto;line-height:normal;font-family:Menlo,'DejaVu Sans Mono',consolas,'Courier New',monospace\">\n",
              "</pre>\n"
            ]
          },
          "metadata": {}
        },
        {
          "output_type": "display_data",
          "data": {
            "text/plain": [
              "\u001b[1;36m🚀 Crew: \u001b[0m\u001b[1;36mcrew\u001b[0m\n",
              "└── \u001b[1;32m📋 Task: bcf4ba67-2cd5-45cd-9a30-27a6a5611dcf\u001b[0m\n",
              "    \u001b[37m   Assigned to: \u001b[0m\u001b[32mSearch Query Generator Agent\u001b[0m\n",
              "    \u001b[37m   Status: \u001b[0m\u001b[1;32m✅ Completed\u001b[0m\n",
              "    └── \u001b[1;32m🤖 Agent: \u001b[0m\u001b[32mSearch Query Generator Agent\u001b[0m\n",
              "        \u001b[37m    Status: \u001b[0m\u001b[1;32m✅ Completed\u001b[0m\n"
            ],
            "text/html": [
              "<pre style=\"white-space:pre;overflow-x:auto;line-height:normal;font-family:Menlo,'DejaVu Sans Mono',consolas,'Courier New',monospace\"><span style=\"color: #008080; text-decoration-color: #008080; font-weight: bold\">🚀 Crew: crew</span>\n",
              "└── <span style=\"color: #008000; text-decoration-color: #008000; font-weight: bold\">📋 Task: bcf4ba67-2cd5-45cd-9a30-27a6a5611dcf</span>\n",
              "    <span style=\"color: #c0c0c0; text-decoration-color: #c0c0c0\">   Assigned to: </span><span style=\"color: #008000; text-decoration-color: #008000\">Search Query Generator Agent</span>\n",
              "    <span style=\"color: #c0c0c0; text-decoration-color: #c0c0c0\">   Status: </span><span style=\"color: #008000; text-decoration-color: #008000; font-weight: bold\">✅ Completed</span>\n",
              "    └── <span style=\"color: #008000; text-decoration-color: #008000; font-weight: bold\">🤖 Agent: </span><span style=\"color: #008000; text-decoration-color: #008000\">Search Query Generator Agent</span>\n",
              "        <span style=\"color: #c0c0c0; text-decoration-color: #c0c0c0\">    Status: </span><span style=\"color: #008000; text-decoration-color: #008000; font-weight: bold\">✅ Completed</span>\n",
              "</pre>\n"
            ]
          },
          "metadata": {}
        },
        {
          "output_type": "display_data",
          "data": {
            "text/plain": [
              "\u001b[32m╭─\u001b[0m\u001b[32m───────────────────────────────────────────────\u001b[0m\u001b[32m Task Completion \u001b[0m\u001b[32m───────────────────────────────────────────────\u001b[0m\u001b[32m─╮\u001b[0m\n",
              "\u001b[32m│\u001b[0m                                                                                                                 \u001b[32m│\u001b[0m\n",
              "\u001b[32m│\u001b[0m  \u001b[1;32mTask Completed\u001b[0m                                                                                                 \u001b[32m│\u001b[0m\n",
              "\u001b[32m│\u001b[0m  \u001b[37mName: \u001b[0m\u001b[32mbcf4ba67-2cd5-45cd-9a30-27a6a5611dcf\u001b[0m                                                                     \u001b[32m│\u001b[0m\n",
              "\u001b[32m│\u001b[0m  \u001b[37mAgent: \u001b[0m\u001b[32mSearch Query Generator Agent\u001b[0m                                                                            \u001b[32m│\u001b[0m\n",
              "\u001b[32m│\u001b[0m                                                                                                                 \u001b[32m│\u001b[0m\n",
              "\u001b[32m│\u001b[0m                                                                                                                 \u001b[32m│\u001b[0m\n",
              "\u001b[32m╰─────────────────────────────────────────────────────────────────────────────────────────────────────────────────╯\u001b[0m\n"
            ],
            "text/html": [
              "<pre style=\"white-space:pre;overflow-x:auto;line-height:normal;font-family:Menlo,'DejaVu Sans Mono',consolas,'Courier New',monospace\"><span style=\"color: #008000; text-decoration-color: #008000\">╭──────────────────────────────────────────────── Task Completion ────────────────────────────────────────────────╮</span>\n",
              "<span style=\"color: #008000; text-decoration-color: #008000\">│</span>                                                                                                                 <span style=\"color: #008000; text-decoration-color: #008000\">│</span>\n",
              "<span style=\"color: #008000; text-decoration-color: #008000\">│</span>  <span style=\"color: #008000; text-decoration-color: #008000; font-weight: bold\">Task Completed</span>                                                                                                 <span style=\"color: #008000; text-decoration-color: #008000\">│</span>\n",
              "<span style=\"color: #008000; text-decoration-color: #008000\">│</span>  <span style=\"color: #c0c0c0; text-decoration-color: #c0c0c0\">Name: </span><span style=\"color: #008000; text-decoration-color: #008000\">bcf4ba67-2cd5-45cd-9a30-27a6a5611dcf</span>                                                                     <span style=\"color: #008000; text-decoration-color: #008000\">│</span>\n",
              "<span style=\"color: #008000; text-decoration-color: #008000\">│</span>  <span style=\"color: #c0c0c0; text-decoration-color: #c0c0c0\">Agent: </span><span style=\"color: #008000; text-decoration-color: #008000\">Search Query Generator Agent</span>                                                                            <span style=\"color: #008000; text-decoration-color: #008000\">│</span>\n",
              "<span style=\"color: #008000; text-decoration-color: #008000\">│</span>                                                                                                                 <span style=\"color: #008000; text-decoration-color: #008000\">│</span>\n",
              "<span style=\"color: #008000; text-decoration-color: #008000\">│</span>                                                                                                                 <span style=\"color: #008000; text-decoration-color: #008000\">│</span>\n",
              "<span style=\"color: #008000; text-decoration-color: #008000\">╰─────────────────────────────────────────────────────────────────────────────────────────────────────────────────╯</span>\n",
              "</pre>\n"
            ]
          },
          "metadata": {}
        },
        {
          "output_type": "display_data",
          "data": {
            "text/plain": [
              "\n"
            ],
            "text/html": [
              "<pre style=\"white-space:pre;overflow-x:auto;line-height:normal;font-family:Menlo,'DejaVu Sans Mono',consolas,'Courier New',monospace\">\n",
              "</pre>\n"
            ]
          },
          "metadata": {}
        },
        {
          "output_type": "display_data",
          "data": {
            "text/plain": [
              "\u001b[1;36m🚀 Crew: \u001b[0m\u001b[1;36mcrew\u001b[0m\n",
              "├── \u001b[1;32m📋 Task: bcf4ba67-2cd5-45cd-9a30-27a6a5611dcf\u001b[0m\n",
              "│   \u001b[37m   Assigned to: \u001b[0m\u001b[32mSearch Query Generator Agent\u001b[0m\n",
              "│   \u001b[37m   Status: \u001b[0m\u001b[1;32m✅ Completed\u001b[0m\n",
              "│   └── \u001b[1;32m🤖 Agent: \u001b[0m\u001b[32mSearch Query Generator Agent\u001b[0m\n",
              "│       \u001b[37m    Status: \u001b[0m\u001b[1;32m✅ Completed\u001b[0m\n",
              "└── \u001b[1;33m📋 Task: 38bdebe6-607d-447b-a60f-f2de84f4cfb9\u001b[0m\n",
              "    \u001b[37m   Status: \u001b[0m\u001b[2;33mExecuting Task...\u001b[0m\n"
            ],
            "text/html": [
              "<pre style=\"white-space:pre;overflow-x:auto;line-height:normal;font-family:Menlo,'DejaVu Sans Mono',consolas,'Courier New',monospace\"><span style=\"color: #008080; text-decoration-color: #008080; font-weight: bold\">🚀 Crew: crew</span>\n",
              "├── <span style=\"color: #008000; text-decoration-color: #008000; font-weight: bold\">📋 Task: bcf4ba67-2cd5-45cd-9a30-27a6a5611dcf</span>\n",
              "│   <span style=\"color: #c0c0c0; text-decoration-color: #c0c0c0\">   Assigned to: </span><span style=\"color: #008000; text-decoration-color: #008000\">Search Query Generator Agent</span>\n",
              "│   <span style=\"color: #c0c0c0; text-decoration-color: #c0c0c0\">   Status: </span><span style=\"color: #008000; text-decoration-color: #008000; font-weight: bold\">✅ Completed</span>\n",
              "│   └── <span style=\"color: #008000; text-decoration-color: #008000; font-weight: bold\">🤖 Agent: </span><span style=\"color: #008000; text-decoration-color: #008000\">Search Query Generator Agent</span>\n",
              "│       <span style=\"color: #c0c0c0; text-decoration-color: #c0c0c0\">    Status: </span><span style=\"color: #008000; text-decoration-color: #008000; font-weight: bold\">✅ Completed</span>\n",
              "└── <span style=\"color: #808000; text-decoration-color: #808000; font-weight: bold\">📋 Task: 38bdebe6-607d-447b-a60f-f2de84f4cfb9</span>\n",
              "    <span style=\"color: #c0c0c0; text-decoration-color: #c0c0c0\">   Status: </span><span style=\"color: #bfbf7f; text-decoration-color: #bfbf7f\">Executing Task...</span>\n",
              "</pre>\n"
            ]
          },
          "metadata": {}
        },
        {
          "output_type": "display_data",
          "data": {
            "text/plain": [
              "\n"
            ],
            "text/html": [
              "<pre style=\"white-space:pre;overflow-x:auto;line-height:normal;font-family:Menlo,'DejaVu Sans Mono',consolas,'Courier New',monospace\">\n",
              "</pre>\n"
            ]
          },
          "metadata": {}
        },
        {
          "output_type": "display_data",
          "data": {
            "text/plain": [
              "\u001b[1;36m🚀 Crew: \u001b[0m\u001b[1;36mcrew\u001b[0m\n",
              "├── \u001b[1;32m📋 Task: bcf4ba67-2cd5-45cd-9a30-27a6a5611dcf\u001b[0m\n",
              "│   \u001b[37m   Assigned to: \u001b[0m\u001b[32mSearch Query Generator Agent\u001b[0m\n",
              "│   \u001b[37m   Status: \u001b[0m\u001b[1;32m✅ Completed\u001b[0m\n",
              "│   └── \u001b[1;32m🤖 Agent: \u001b[0m\u001b[32mSearch Query Generator Agent\u001b[0m\n",
              "│       \u001b[37m    Status: \u001b[0m\u001b[1;32m✅ Completed\u001b[0m\n",
              "└── \u001b[1;33m📋 Task: 38bdebe6-607d-447b-a60f-f2de84f4cfb9\u001b[0m\n",
              "    \u001b[37m   Status: \u001b[0m\u001b[2;33mExecuting Task...\u001b[0m\n",
              "    └── \u001b[1;32m🤖 Agent: \u001b[0m\u001b[32mSearch Engine Agent\u001b[0m\n",
              "        \u001b[37m    Status: \u001b[0m\u001b[1;32mIn Progress\u001b[0m\n"
            ],
            "text/html": [
              "<pre style=\"white-space:pre;overflow-x:auto;line-height:normal;font-family:Menlo,'DejaVu Sans Mono',consolas,'Courier New',monospace\"><span style=\"color: #008080; text-decoration-color: #008080; font-weight: bold\">🚀 Crew: crew</span>\n",
              "├── <span style=\"color: #008000; text-decoration-color: #008000; font-weight: bold\">📋 Task: bcf4ba67-2cd5-45cd-9a30-27a6a5611dcf</span>\n",
              "│   <span style=\"color: #c0c0c0; text-decoration-color: #c0c0c0\">   Assigned to: </span><span style=\"color: #008000; text-decoration-color: #008000\">Search Query Generator Agent</span>\n",
              "│   <span style=\"color: #c0c0c0; text-decoration-color: #c0c0c0\">   Status: </span><span style=\"color: #008000; text-decoration-color: #008000; font-weight: bold\">✅ Completed</span>\n",
              "│   └── <span style=\"color: #008000; text-decoration-color: #008000; font-weight: bold\">🤖 Agent: </span><span style=\"color: #008000; text-decoration-color: #008000\">Search Query Generator Agent</span>\n",
              "│       <span style=\"color: #c0c0c0; text-decoration-color: #c0c0c0\">    Status: </span><span style=\"color: #008000; text-decoration-color: #008000; font-weight: bold\">✅ Completed</span>\n",
              "└── <span style=\"color: #808000; text-decoration-color: #808000; font-weight: bold\">📋 Task: 38bdebe6-607d-447b-a60f-f2de84f4cfb9</span>\n",
              "    <span style=\"color: #c0c0c0; text-decoration-color: #c0c0c0\">   Status: </span><span style=\"color: #bfbf7f; text-decoration-color: #bfbf7f\">Executing Task...</span>\n",
              "    └── <span style=\"color: #008000; text-decoration-color: #008000; font-weight: bold\">🤖 Agent: </span><span style=\"color: #008000; text-decoration-color: #008000\">Search Engine Agent</span>\n",
              "        <span style=\"color: #c0c0c0; text-decoration-color: #c0c0c0\">    Status: </span><span style=\"color: #008000; text-decoration-color: #008000; font-weight: bold\">In Progress</span>\n",
              "</pre>\n"
            ]
          },
          "metadata": {}
        },
        {
          "output_type": "display_data",
          "data": {
            "text/plain": [
              "\n"
            ],
            "text/html": [
              "<pre style=\"white-space:pre;overflow-x:auto;line-height:normal;font-family:Menlo,'DejaVu Sans Mono',consolas,'Courier New',monospace\">\n",
              "</pre>\n"
            ]
          },
          "metadata": {}
        },
        {
          "output_type": "stream",
          "name": "stdout",
          "text": [
            "\u001b[1m\u001b[95m# Agent:\u001b[00m \u001b[1m\u001b[92mSearch Engine Agent\u001b[00m\n",
            "\u001b[95m## Task:\u001b[00m \u001b[92mUse the search engine tool to find hotel deals in Egypt and Hurghada based on the generated search queries. Ignore blogs, ads, or unrelated links.\u001b[00m\n"
          ]
        },
        {
          "output_type": "display_data",
          "data": {
            "text/plain": [
              "\u001b[1;36m🚀 Crew: \u001b[0m\u001b[1;36mcrew\u001b[0m\n",
              "├── \u001b[1;32m📋 Task: bcf4ba67-2cd5-45cd-9a30-27a6a5611dcf\u001b[0m\n",
              "│   \u001b[37m   Assigned to: \u001b[0m\u001b[32mSearch Query Generator Agent\u001b[0m\n",
              "│   \u001b[37m   Status: \u001b[0m\u001b[1;32m✅ Completed\u001b[0m\n",
              "│   └── \u001b[1;32m🤖 Agent: \u001b[0m\u001b[32mSearch Query Generator Agent\u001b[0m\n",
              "│       \u001b[37m    Status: \u001b[0m\u001b[1;32m✅ Completed\u001b[0m\n",
              "└── \u001b[1;33m📋 Task: 38bdebe6-607d-447b-a60f-f2de84f4cfb9\u001b[0m\n",
              "    \u001b[37m   Status: \u001b[0m\u001b[2;33mExecuting Task...\u001b[0m\n",
              "    └── \u001b[1;32m🤖 Agent: \u001b[0m\u001b[32mSearch Engine Agent\u001b[0m\n",
              "        \u001b[37m    Status: \u001b[0m\u001b[1;32mIn Progress\u001b[0m\n",
              "        └── \u001b[1;34m🧠 \u001b[0m\u001b[34mThinking...\u001b[0m\n"
            ],
            "text/html": [
              "<pre style=\"white-space:pre;overflow-x:auto;line-height:normal;font-family:Menlo,'DejaVu Sans Mono',consolas,'Courier New',monospace\"><span style=\"color: #008080; text-decoration-color: #008080; font-weight: bold\">🚀 Crew: crew</span>\n",
              "├── <span style=\"color: #008000; text-decoration-color: #008000; font-weight: bold\">📋 Task: bcf4ba67-2cd5-45cd-9a30-27a6a5611dcf</span>\n",
              "│   <span style=\"color: #c0c0c0; text-decoration-color: #c0c0c0\">   Assigned to: </span><span style=\"color: #008000; text-decoration-color: #008000\">Search Query Generator Agent</span>\n",
              "│   <span style=\"color: #c0c0c0; text-decoration-color: #c0c0c0\">   Status: </span><span style=\"color: #008000; text-decoration-color: #008000; font-weight: bold\">✅ Completed</span>\n",
              "│   └── <span style=\"color: #008000; text-decoration-color: #008000; font-weight: bold\">🤖 Agent: </span><span style=\"color: #008000; text-decoration-color: #008000\">Search Query Generator Agent</span>\n",
              "│       <span style=\"color: #c0c0c0; text-decoration-color: #c0c0c0\">    Status: </span><span style=\"color: #008000; text-decoration-color: #008000; font-weight: bold\">✅ Completed</span>\n",
              "└── <span style=\"color: #808000; text-decoration-color: #808000; font-weight: bold\">📋 Task: 38bdebe6-607d-447b-a60f-f2de84f4cfb9</span>\n",
              "    <span style=\"color: #c0c0c0; text-decoration-color: #c0c0c0\">   Status: </span><span style=\"color: #bfbf7f; text-decoration-color: #bfbf7f\">Executing Task...</span>\n",
              "    └── <span style=\"color: #008000; text-decoration-color: #008000; font-weight: bold\">🤖 Agent: </span><span style=\"color: #008000; text-decoration-color: #008000\">Search Engine Agent</span>\n",
              "        <span style=\"color: #c0c0c0; text-decoration-color: #c0c0c0\">    Status: </span><span style=\"color: #008000; text-decoration-color: #008000; font-weight: bold\">In Progress</span>\n",
              "        └── <span style=\"color: #000080; text-decoration-color: #000080; font-weight: bold\">🧠 </span><span style=\"color: #000080; text-decoration-color: #000080\">Thinking...</span>\n",
              "</pre>\n"
            ]
          },
          "metadata": {}
        },
        {
          "output_type": "display_data",
          "data": {
            "text/plain": [
              "\n"
            ],
            "text/html": [
              "<pre style=\"white-space:pre;overflow-x:auto;line-height:normal;font-family:Menlo,'DejaVu Sans Mono',consolas,'Courier New',monospace\">\n",
              "</pre>\n"
            ]
          },
          "metadata": {}
        },
        {
          "output_type": "stream",
          "name": "stderr",
          "text": [
            "\u001b[92m01:13:48 - LiteLLM:WARNING\u001b[0m: utils.py:428 - `litellm.set_verbose` is deprecated. Please set `os.environ['LITELLM_LOG'] = 'DEBUG'` for debug logs.\n",
            "WARNING:LiteLLM:`litellm.set_verbose` is deprecated. Please set `os.environ['LITELLM_LOG'] = 'DEBUG'` for debug logs.\n"
          ]
        },
        {
          "output_type": "stream",
          "name": "stdout",
          "text": [
            "Initialized litellm callbacks, Async Success Callbacks: [<crewai.utilities.token_counter_callback.TokenCalcHandler object at 0x7c079775c190>]\n",
            "SYNC kwargs[caching]: False; litellm.cache: None; kwargs.get('cache')['no-cache']: False\n",
            "Final returned optional params: {'temperature': 0, 'stream': False, 'stop': ['\\nObservation:'], 'extra_body': {}}\n",
            "RAW RESPONSE:\n",
            "{\"id\": \"chatcmpl-BCylgKzVndWV1gxtyju66vuNLomnN\", \"choices\": [{\"finish_reason\": \"stop\", \"index\": 0, \"logprobs\": null, \"message\": {\"content\": \"I will start by using the search_engine_tool to find hotel deals in Hurghada, Egypt, based on the first query: \\\"Booking.com family hotel deals Hurghada Egypt 4 days $200-$800\\\".\\n\\nAction: search_engine_tool\\nAction Input: {\\\"query\\\": \\\"Booking.com family hotel deals Hurghada Egypt 4 days $200-$800\\\"}\", \"refusal\": null, \"role\": \"assistant\", \"audio\": null, \"function_call\": null, \"tool_calls\": null, \"annotations\": []}}], \"created\": 1742433228, \"model\": \"gpt-4o-2024-08-06\", \"object\": \"chat.completion\", \"service_tier\": \"default\", \"system_fingerprint\": \"fp_6ec83003ad\", \"usage\": {\"completion_tokens\": 75, \"prompt_tokens\": 769, \"total_tokens\": 844, \"completion_tokens_details\": {\"accepted_prediction_tokens\": 0, \"audio_tokens\": 0, \"reasoning_tokens\": 0, \"rejected_prediction_tokens\": 0}, \"prompt_tokens_details\": {\"audio_tokens\": 0, \"cached_tokens\": 0}}}\n",
            "\n",
            "\n"
          ]
        },
        {
          "output_type": "display_data",
          "data": {
            "text/plain": [
              "\u001b[1;36m🚀 Crew: \u001b[0m\u001b[1;36mcrew\u001b[0m\n",
              "├── \u001b[1;32m📋 Task: bcf4ba67-2cd5-45cd-9a30-27a6a5611dcf\u001b[0m\n",
              "│   \u001b[37m   Assigned to: \u001b[0m\u001b[32mSearch Query Generator Agent\u001b[0m\n",
              "│   \u001b[37m   Status: \u001b[0m\u001b[1;32m✅ Completed\u001b[0m\n",
              "│   └── \u001b[1;32m🤖 Agent: \u001b[0m\u001b[32mSearch Query Generator Agent\u001b[0m\n",
              "│       \u001b[37m    Status: \u001b[0m\u001b[1;32m✅ Completed\u001b[0m\n",
              "└── \u001b[1;33m📋 Task: 38bdebe6-607d-447b-a60f-f2de84f4cfb9\u001b[0m\n",
              "    \u001b[37m   Status: \u001b[0m\u001b[2;33mExecuting Task...\u001b[0m\n",
              "    └── \u001b[1;32m🤖 Agent: \u001b[0m\u001b[32mSearch Engine Agent\u001b[0m\n",
              "        \u001b[37m    Status: \u001b[0m\u001b[1;32mIn Progress\u001b[0m\n"
            ],
            "text/html": [
              "<pre style=\"white-space:pre;overflow-x:auto;line-height:normal;font-family:Menlo,'DejaVu Sans Mono',consolas,'Courier New',monospace\"><span style=\"color: #008080; text-decoration-color: #008080; font-weight: bold\">🚀 Crew: crew</span>\n",
              "├── <span style=\"color: #008000; text-decoration-color: #008000; font-weight: bold\">📋 Task: bcf4ba67-2cd5-45cd-9a30-27a6a5611dcf</span>\n",
              "│   <span style=\"color: #c0c0c0; text-decoration-color: #c0c0c0\">   Assigned to: </span><span style=\"color: #008000; text-decoration-color: #008000\">Search Query Generator Agent</span>\n",
              "│   <span style=\"color: #c0c0c0; text-decoration-color: #c0c0c0\">   Status: </span><span style=\"color: #008000; text-decoration-color: #008000; font-weight: bold\">✅ Completed</span>\n",
              "│   └── <span style=\"color: #008000; text-decoration-color: #008000; font-weight: bold\">🤖 Agent: </span><span style=\"color: #008000; text-decoration-color: #008000\">Search Query Generator Agent</span>\n",
              "│       <span style=\"color: #c0c0c0; text-decoration-color: #c0c0c0\">    Status: </span><span style=\"color: #008000; text-decoration-color: #008000; font-weight: bold\">✅ Completed</span>\n",
              "└── <span style=\"color: #808000; text-decoration-color: #808000; font-weight: bold\">📋 Task: 38bdebe6-607d-447b-a60f-f2de84f4cfb9</span>\n",
              "    <span style=\"color: #c0c0c0; text-decoration-color: #c0c0c0\">   Status: </span><span style=\"color: #bfbf7f; text-decoration-color: #bfbf7f\">Executing Task...</span>\n",
              "    └── <span style=\"color: #008000; text-decoration-color: #008000; font-weight: bold\">🤖 Agent: </span><span style=\"color: #008000; text-decoration-color: #008000\">Search Engine Agent</span>\n",
              "        <span style=\"color: #c0c0c0; text-decoration-color: #c0c0c0\">    Status: </span><span style=\"color: #008000; text-decoration-color: #008000; font-weight: bold\">In Progress</span>\n",
              "</pre>\n"
            ]
          },
          "metadata": {}
        },
        {
          "output_type": "display_data",
          "data": {
            "text/plain": [
              "\n"
            ],
            "text/html": [
              "<pre style=\"white-space:pre;overflow-x:auto;line-height:normal;font-family:Menlo,'DejaVu Sans Mono',consolas,'Courier New',monospace\">\n",
              "</pre>\n"
            ]
          },
          "metadata": {}
        },
        {
          "output_type": "display_data",
          "data": {
            "text/plain": [
              "\u001b[1;36m🚀 Crew: \u001b[0m\u001b[1;36mcrew\u001b[0m\n",
              "├── \u001b[1;32m📋 Task: bcf4ba67-2cd5-45cd-9a30-27a6a5611dcf\u001b[0m\n",
              "│   \u001b[37m   Assigned to: \u001b[0m\u001b[32mSearch Query Generator Agent\u001b[0m\n",
              "│   \u001b[37m   Status: \u001b[0m\u001b[1;32m✅ Completed\u001b[0m\n",
              "│   └── \u001b[1;32m🤖 Agent: \u001b[0m\u001b[32mSearch Query Generator Agent\u001b[0m\n",
              "│       \u001b[37m    Status: \u001b[0m\u001b[1;32m✅ Completed\u001b[0m\n",
              "└── \u001b[1;33m📋 Task: 38bdebe6-607d-447b-a60f-f2de84f4cfb9\u001b[0m\n",
              "    \u001b[37m   Status: \u001b[0m\u001b[2;33mExecuting Task...\u001b[0m\n",
              "    └── \u001b[1;32m🤖 Agent: \u001b[0m\u001b[32mSearch Engine Agent\u001b[0m\n",
              "        \u001b[37m    Status: \u001b[0m\u001b[1;32mIn Progress\u001b[0m\n",
              "        └── \u001b[1;33m🔧 \u001b[0m\u001b[33mUsing search_engine_tool (1)\u001b[0m\n"
            ],
            "text/html": [
              "<pre style=\"white-space:pre;overflow-x:auto;line-height:normal;font-family:Menlo,'DejaVu Sans Mono',consolas,'Courier New',monospace\"><span style=\"color: #008080; text-decoration-color: #008080; font-weight: bold\">🚀 Crew: crew</span>\n",
              "├── <span style=\"color: #008000; text-decoration-color: #008000; font-weight: bold\">📋 Task: bcf4ba67-2cd5-45cd-9a30-27a6a5611dcf</span>\n",
              "│   <span style=\"color: #c0c0c0; text-decoration-color: #c0c0c0\">   Assigned to: </span><span style=\"color: #008000; text-decoration-color: #008000\">Search Query Generator Agent</span>\n",
              "│   <span style=\"color: #c0c0c0; text-decoration-color: #c0c0c0\">   Status: </span><span style=\"color: #008000; text-decoration-color: #008000; font-weight: bold\">✅ Completed</span>\n",
              "│   └── <span style=\"color: #008000; text-decoration-color: #008000; font-weight: bold\">🤖 Agent: </span><span style=\"color: #008000; text-decoration-color: #008000\">Search Query Generator Agent</span>\n",
              "│       <span style=\"color: #c0c0c0; text-decoration-color: #c0c0c0\">    Status: </span><span style=\"color: #008000; text-decoration-color: #008000; font-weight: bold\">✅ Completed</span>\n",
              "└── <span style=\"color: #808000; text-decoration-color: #808000; font-weight: bold\">📋 Task: 38bdebe6-607d-447b-a60f-f2de84f4cfb9</span>\n",
              "    <span style=\"color: #c0c0c0; text-decoration-color: #c0c0c0\">   Status: </span><span style=\"color: #bfbf7f; text-decoration-color: #bfbf7f\">Executing Task...</span>\n",
              "    └── <span style=\"color: #008000; text-decoration-color: #008000; font-weight: bold\">🤖 Agent: </span><span style=\"color: #008000; text-decoration-color: #008000\">Search Engine Agent</span>\n",
              "        <span style=\"color: #c0c0c0; text-decoration-color: #c0c0c0\">    Status: </span><span style=\"color: #008000; text-decoration-color: #008000; font-weight: bold\">In Progress</span>\n",
              "        └── <span style=\"color: #808000; text-decoration-color: #808000; font-weight: bold\">🔧 </span><span style=\"color: #808000; text-decoration-color: #808000\">Using search_engine_tool (1)</span>\n",
              "</pre>\n"
            ]
          },
          "metadata": {}
        },
        {
          "output_type": "display_data",
          "data": {
            "text/plain": [
              "\n"
            ],
            "text/html": [
              "<pre style=\"white-space:pre;overflow-x:auto;line-height:normal;font-family:Menlo,'DejaVu Sans Mono',consolas,'Courier New',monospace\">\n",
              "</pre>\n"
            ]
          },
          "metadata": {}
        },
        {
          "output_type": "stream",
          "name": "stdout",
          "text": [
            "⏱️ Search for 'Booking.com family hotel deals Hurghada Egypt 4 days $200-$800' completed in 2.16 seconds\n"
          ]
        },
        {
          "output_type": "display_data",
          "data": {
            "text/plain": [
              "\u001b[1;36m🚀 Crew: \u001b[0m\u001b[1;36mcrew\u001b[0m\n",
              "├── \u001b[1;32m📋 Task: bcf4ba67-2cd5-45cd-9a30-27a6a5611dcf\u001b[0m\n",
              "│   \u001b[37m   Assigned to: \u001b[0m\u001b[32mSearch Query Generator Agent\u001b[0m\n",
              "│   \u001b[37m   Status: \u001b[0m\u001b[1;32m✅ Completed\u001b[0m\n",
              "│   └── \u001b[1;32m🤖 Agent: \u001b[0m\u001b[32mSearch Query Generator Agent\u001b[0m\n",
              "│       \u001b[37m    Status: \u001b[0m\u001b[1;32m✅ Completed\u001b[0m\n",
              "└── \u001b[1;33m📋 Task: 38bdebe6-607d-447b-a60f-f2de84f4cfb9\u001b[0m\n",
              "    \u001b[37m   Status: \u001b[0m\u001b[2;33mExecuting Task...\u001b[0m\n",
              "    └── \u001b[1;32m🤖 Agent: \u001b[0m\u001b[32mSearch Engine Agent\u001b[0m\n",
              "        \u001b[37m    Status: \u001b[0m\u001b[1;32mIn Progress\u001b[0m\n",
              "        └── \u001b[1;32m🔧 \u001b[0m\u001b[32mUsed search_engine_tool (1)\u001b[0m\n"
            ],
            "text/html": [
              "<pre style=\"white-space:pre;overflow-x:auto;line-height:normal;font-family:Menlo,'DejaVu Sans Mono',consolas,'Courier New',monospace\"><span style=\"color: #008080; text-decoration-color: #008080; font-weight: bold\">🚀 Crew: crew</span>\n",
              "├── <span style=\"color: #008000; text-decoration-color: #008000; font-weight: bold\">📋 Task: bcf4ba67-2cd5-45cd-9a30-27a6a5611dcf</span>\n",
              "│   <span style=\"color: #c0c0c0; text-decoration-color: #c0c0c0\">   Assigned to: </span><span style=\"color: #008000; text-decoration-color: #008000\">Search Query Generator Agent</span>\n",
              "│   <span style=\"color: #c0c0c0; text-decoration-color: #c0c0c0\">   Status: </span><span style=\"color: #008000; text-decoration-color: #008000; font-weight: bold\">✅ Completed</span>\n",
              "│   └── <span style=\"color: #008000; text-decoration-color: #008000; font-weight: bold\">🤖 Agent: </span><span style=\"color: #008000; text-decoration-color: #008000\">Search Query Generator Agent</span>\n",
              "│       <span style=\"color: #c0c0c0; text-decoration-color: #c0c0c0\">    Status: </span><span style=\"color: #008000; text-decoration-color: #008000; font-weight: bold\">✅ Completed</span>\n",
              "└── <span style=\"color: #808000; text-decoration-color: #808000; font-weight: bold\">📋 Task: 38bdebe6-607d-447b-a60f-f2de84f4cfb9</span>\n",
              "    <span style=\"color: #c0c0c0; text-decoration-color: #c0c0c0\">   Status: </span><span style=\"color: #bfbf7f; text-decoration-color: #bfbf7f\">Executing Task...</span>\n",
              "    └── <span style=\"color: #008000; text-decoration-color: #008000; font-weight: bold\">🤖 Agent: </span><span style=\"color: #008000; text-decoration-color: #008000\">Search Engine Agent</span>\n",
              "        <span style=\"color: #c0c0c0; text-decoration-color: #c0c0c0\">    Status: </span><span style=\"color: #008000; text-decoration-color: #008000; font-weight: bold\">In Progress</span>\n",
              "        └── <span style=\"color: #008000; text-decoration-color: #008000; font-weight: bold\">🔧 </span><span style=\"color: #008000; text-decoration-color: #008000\">Used search_engine_tool (1)</span>\n",
              "</pre>\n"
            ]
          },
          "metadata": {}
        },
        {
          "output_type": "display_data",
          "data": {
            "text/plain": [
              "\n"
            ],
            "text/html": [
              "<pre style=\"white-space:pre;overflow-x:auto;line-height:normal;font-family:Menlo,'DejaVu Sans Mono',consolas,'Courier New',monospace\">\n",
              "</pre>\n"
            ]
          },
          "metadata": {}
        },
        {
          "output_type": "stream",
          "name": "stdout",
          "text": [
            "\n",
            "\n",
            "\u001b[1m\u001b[95m# Agent:\u001b[00m \u001b[1m\u001b[92mSearch Engine Agent\u001b[00m\n",
            "\u001b[95m## Thought:\u001b[00m \u001b[92mI will start by using the search_engine_tool to find hotel deals in Hurghada, Egypt, based on the first query: \"Booking.com family hotel deals Hurghada Egypt 4 days $200-$800\".\u001b[00m\n",
            "\u001b[95m## Using tool:\u001b[00m \u001b[92msearch_engine_tool\u001b[00m\n",
            "\u001b[95m## Tool Input:\u001b[00m \u001b[92m\n",
            "\"{\\\"query\\\": \\\"Booking.com family hotel deals Hurghada Egypt 4 days $200-$800\\\"}\"\u001b[00m\n",
            "\u001b[95m## Tool Output:\u001b[00m \u001b[92m\n",
            "{'query': 'Booking.com family hotel deals Hurghada Egypt 4 days $200-$800', 'follow_up_questions': None, 'answer': None, 'images': [], 'results': [{'title': 'The 10 best family hotels in Hurghada, Egypt | Booking.com', 'url': 'https://www.booking.com/family/city/eg/al-ghardaqah.html', 'content': 'Find and book deals on the best family hotels in Hurghada, Egypt! Explore guest reviews and book the perfect family hotel for your trip. ... Popular with guests booking family hotels in Hurghada. Review score. 8.8. ... We stayed 3 nights 4 days from 16-19 may we had a pleasant experience with welcomed staff, clean room and good ac, aqua and', 'score': 0.78214747, 'raw_content': None}, {'title': '10 Best Hurghada Hotels, Egypt (From $19) - Booking.com', 'url': 'https://www.booking.com/city/eg/al-ghardaqah.html', 'content': 'The average price per night for a 3-star hotel in Hurghada this weekend is $69 or, for a 4-star hotel, $137. Looking for something even fancier? 5-star hotels in Hurghada for this weekend cost around $250 per night, on average (based on Booking.com prices).', 'score': 0.6257817, 'raw_content': None}, {'title': 'THE 10 BEST Family Resorts in Hurghada - Tripadvisor', 'url': 'https://www.tripadvisor.co.uk/HotelsList-Hurghada-Family-Resorts-zfp23267.html', 'content': 'Family Resorts in Hurghada: Find 269370 traveller reviews, candid photos, and the top ranked Family Resorts in Hurghada on Tripadvisor. ... This is one of the most booked hotels in Hurghada over the last 60 days. ... \" We went on family holiday with kids,1st time in Egypt The atmosphere was great, staff very helpful,entertainment team was good,', 'score': 0.48250288, 'raw_content': None}, {'title': 'THE 10 BEST Hurghada Hotel Deals (Mar 2025) - Tripadvisor', 'url': 'https://www.tripadvisor.com/SmartDeals-g297549-Hurghada_Red_Sea_and_Sinai-Hotel-Deals.html', 'content': \"See Tripadvisor's Hurghada, Red Sea and Sinai hotel deals and special prices all in one spot. Find the perfect hotel within your budget with reviews from real travelers. ... Top Hotel Deals in Hurghada, Egypt. Best Hurghada, Red Sea and Sinai Hotel Specials & Deals. ... This is one of the most booked hotels in Hurghada over the last 60 days.\", 'score': 0.38415, 'raw_content': None}, {'title': '10 Best All-Inclusive Resorts In Hurghada, Egypt - Trip101', 'url': 'https://trip101.com/article/hurghada-all-inclusive-resorts', 'content': 'For a hassle-free and memorable vacation, book one of these best all-inclusive resorts in Hurghada, Egypt. We handpicked these listings carefully, considering (wherever possible) recent guest reviews, location, accommodation type, prices, availability of dates, decor, and all-inclusive packages and activities.', 'score': 0.30062285, 'raw_content': None}], 'response_time': 1.84}\u001b[00m\n"
          ]
        },
        {
          "output_type": "display_data",
          "data": {
            "text/plain": [
              "\u001b[1;36m🚀 Crew: \u001b[0m\u001b[1;36mcrew\u001b[0m\n",
              "├── \u001b[1;32m📋 Task: bcf4ba67-2cd5-45cd-9a30-27a6a5611dcf\u001b[0m\n",
              "│   \u001b[37m   Assigned to: \u001b[0m\u001b[32mSearch Query Generator Agent\u001b[0m\n",
              "│   \u001b[37m   Status: \u001b[0m\u001b[1;32m✅ Completed\u001b[0m\n",
              "│   └── \u001b[1;32m🤖 Agent: \u001b[0m\u001b[32mSearch Query Generator Agent\u001b[0m\n",
              "│       \u001b[37m    Status: \u001b[0m\u001b[1;32m✅ Completed\u001b[0m\n",
              "└── \u001b[1;33m📋 Task: 38bdebe6-607d-447b-a60f-f2de84f4cfb9\u001b[0m\n",
              "    \u001b[37m   Status: \u001b[0m\u001b[2;33mExecuting Task...\u001b[0m\n",
              "    └── \u001b[1;32m🤖 Agent: \u001b[0m\u001b[32mSearch Engine Agent\u001b[0m\n",
              "        \u001b[37m    Status: \u001b[0m\u001b[1;32mIn Progress\u001b[0m\n",
              "        ├── \u001b[1;32m🔧 \u001b[0m\u001b[32mUsed search_engine_tool (1)\u001b[0m\n",
              "        └── \u001b[1;34m🧠 \u001b[0m\u001b[34mThinking...\u001b[0m\n"
            ],
            "text/html": [
              "<pre style=\"white-space:pre;overflow-x:auto;line-height:normal;font-family:Menlo,'DejaVu Sans Mono',consolas,'Courier New',monospace\"><span style=\"color: #008080; text-decoration-color: #008080; font-weight: bold\">🚀 Crew: crew</span>\n",
              "├── <span style=\"color: #008000; text-decoration-color: #008000; font-weight: bold\">📋 Task: bcf4ba67-2cd5-45cd-9a30-27a6a5611dcf</span>\n",
              "│   <span style=\"color: #c0c0c0; text-decoration-color: #c0c0c0\">   Assigned to: </span><span style=\"color: #008000; text-decoration-color: #008000\">Search Query Generator Agent</span>\n",
              "│   <span style=\"color: #c0c0c0; text-decoration-color: #c0c0c0\">   Status: </span><span style=\"color: #008000; text-decoration-color: #008000; font-weight: bold\">✅ Completed</span>\n",
              "│   └── <span style=\"color: #008000; text-decoration-color: #008000; font-weight: bold\">🤖 Agent: </span><span style=\"color: #008000; text-decoration-color: #008000\">Search Query Generator Agent</span>\n",
              "│       <span style=\"color: #c0c0c0; text-decoration-color: #c0c0c0\">    Status: </span><span style=\"color: #008000; text-decoration-color: #008000; font-weight: bold\">✅ Completed</span>\n",
              "└── <span style=\"color: #808000; text-decoration-color: #808000; font-weight: bold\">📋 Task: 38bdebe6-607d-447b-a60f-f2de84f4cfb9</span>\n",
              "    <span style=\"color: #c0c0c0; text-decoration-color: #c0c0c0\">   Status: </span><span style=\"color: #bfbf7f; text-decoration-color: #bfbf7f\">Executing Task...</span>\n",
              "    └── <span style=\"color: #008000; text-decoration-color: #008000; font-weight: bold\">🤖 Agent: </span><span style=\"color: #008000; text-decoration-color: #008000\">Search Engine Agent</span>\n",
              "        <span style=\"color: #c0c0c0; text-decoration-color: #c0c0c0\">    Status: </span><span style=\"color: #008000; text-decoration-color: #008000; font-weight: bold\">In Progress</span>\n",
              "        ├── <span style=\"color: #008000; text-decoration-color: #008000; font-weight: bold\">🔧 </span><span style=\"color: #008000; text-decoration-color: #008000\">Used search_engine_tool (1)</span>\n",
              "        └── <span style=\"color: #000080; text-decoration-color: #000080; font-weight: bold\">🧠 </span><span style=\"color: #000080; text-decoration-color: #000080\">Thinking...</span>\n",
              "</pre>\n"
            ]
          },
          "metadata": {}
        },
        {
          "output_type": "display_data",
          "data": {
            "text/plain": [
              "\n"
            ],
            "text/html": [
              "<pre style=\"white-space:pre;overflow-x:auto;line-height:normal;font-family:Menlo,'DejaVu Sans Mono',consolas,'Courier New',monospace\">\n",
              "</pre>\n"
            ]
          },
          "metadata": {}
        },
        {
          "output_type": "stream",
          "name": "stderr",
          "text": [
            "\u001b[92m01:13:52 - LiteLLM:WARNING\u001b[0m: utils.py:428 - `litellm.set_verbose` is deprecated. Please set `os.environ['LITELLM_LOG'] = 'DEBUG'` for debug logs.\n",
            "WARNING:LiteLLM:`litellm.set_verbose` is deprecated. Please set `os.environ['LITELLM_LOG'] = 'DEBUG'` for debug logs.\n"
          ]
        },
        {
          "output_type": "stream",
          "name": "stdout",
          "text": [
            "Initialized litellm callbacks, Async Success Callbacks: [<crewai.utilities.token_counter_callback.TokenCalcHandler object at 0x7c079775c190>]\n",
            "SYNC kwargs[caching]: False; litellm.cache: None; kwargs.get('cache')['no-cache']: False\n",
            "Final returned optional params: {'temperature': 0, 'stream': False, 'stop': ['\\nObservation:'], 'extra_body': {}}\n",
            "RAW RESPONSE:\n",
            "{\"id\": \"chatcmpl-BCylkXQvIxIPNAIZLInVejyYS3M3G\", \"choices\": [{\"finish_reason\": \"stop\", \"index\": 0, \"logprobs\": null, \"message\": {\"content\": \"Thought: I have gathered results from the first query. Now, I will use the Search the internet with Serper tool to find more hotel deals based on the second query: \\\"TripAdvisor family-friendly hotels Hurghada Egypt 4-day stay budget $200-$800\\\".\\n\\nAction: Search the internet with Serper\\nAction Input: {\\\"search_query\\\": \\\"TripAdvisor family-friendly hotels Hurghada Egypt 4-day stay budget $200-$800\\\"}\", \"refusal\": null, \"role\": \"assistant\", \"audio\": null, \"function_call\": null, \"tool_calls\": null, \"annotations\": []}}], \"created\": 1742433232, \"model\": \"gpt-4o-2024-08-06\", \"object\": \"chat.completion\", \"service_tier\": \"default\", \"system_fingerprint\": \"fp_6ec83003ad\", \"usage\": {\"completion_tokens\": 91, \"prompt_tokens\": 1591, \"total_tokens\": 1682, \"completion_tokens_details\": {\"accepted_prediction_tokens\": 0, \"audio_tokens\": 0, \"reasoning_tokens\": 0, \"rejected_prediction_tokens\": 0}, \"prompt_tokens_details\": {\"audio_tokens\": 0, \"cached_tokens\": 0}}}\n",
            "\n",
            "\n"
          ]
        },
        {
          "output_type": "display_data",
          "data": {
            "text/plain": [
              "\u001b[1;36m🚀 Crew: \u001b[0m\u001b[1;36mcrew\u001b[0m\n",
              "├── \u001b[1;32m📋 Task: bcf4ba67-2cd5-45cd-9a30-27a6a5611dcf\u001b[0m\n",
              "│   \u001b[37m   Assigned to: \u001b[0m\u001b[32mSearch Query Generator Agent\u001b[0m\n",
              "│   \u001b[37m   Status: \u001b[0m\u001b[1;32m✅ Completed\u001b[0m\n",
              "│   └── \u001b[1;32m🤖 Agent: \u001b[0m\u001b[32mSearch Query Generator Agent\u001b[0m\n",
              "│       \u001b[37m    Status: \u001b[0m\u001b[1;32m✅ Completed\u001b[0m\n",
              "└── \u001b[1;33m📋 Task: 38bdebe6-607d-447b-a60f-f2de84f4cfb9\u001b[0m\n",
              "    \u001b[37m   Status: \u001b[0m\u001b[2;33mExecuting Task...\u001b[0m\n",
              "    └── \u001b[1;32m🤖 Agent: \u001b[0m\u001b[32mSearch Engine Agent\u001b[0m\n",
              "        \u001b[37m    Status: \u001b[0m\u001b[1;32mIn Progress\u001b[0m\n",
              "        └── \u001b[1;32m🔧 \u001b[0m\u001b[32mUsed search_engine_tool (1)\u001b[0m\n"
            ],
            "text/html": [
              "<pre style=\"white-space:pre;overflow-x:auto;line-height:normal;font-family:Menlo,'DejaVu Sans Mono',consolas,'Courier New',monospace\"><span style=\"color: #008080; text-decoration-color: #008080; font-weight: bold\">🚀 Crew: crew</span>\n",
              "├── <span style=\"color: #008000; text-decoration-color: #008000; font-weight: bold\">📋 Task: bcf4ba67-2cd5-45cd-9a30-27a6a5611dcf</span>\n",
              "│   <span style=\"color: #c0c0c0; text-decoration-color: #c0c0c0\">   Assigned to: </span><span style=\"color: #008000; text-decoration-color: #008000\">Search Query Generator Agent</span>\n",
              "│   <span style=\"color: #c0c0c0; text-decoration-color: #c0c0c0\">   Status: </span><span style=\"color: #008000; text-decoration-color: #008000; font-weight: bold\">✅ Completed</span>\n",
              "│   └── <span style=\"color: #008000; text-decoration-color: #008000; font-weight: bold\">🤖 Agent: </span><span style=\"color: #008000; text-decoration-color: #008000\">Search Query Generator Agent</span>\n",
              "│       <span style=\"color: #c0c0c0; text-decoration-color: #c0c0c0\">    Status: </span><span style=\"color: #008000; text-decoration-color: #008000; font-weight: bold\">✅ Completed</span>\n",
              "└── <span style=\"color: #808000; text-decoration-color: #808000; font-weight: bold\">📋 Task: 38bdebe6-607d-447b-a60f-f2de84f4cfb9</span>\n",
              "    <span style=\"color: #c0c0c0; text-decoration-color: #c0c0c0\">   Status: </span><span style=\"color: #bfbf7f; text-decoration-color: #bfbf7f\">Executing Task...</span>\n",
              "    └── <span style=\"color: #008000; text-decoration-color: #008000; font-weight: bold\">🤖 Agent: </span><span style=\"color: #008000; text-decoration-color: #008000\">Search Engine Agent</span>\n",
              "        <span style=\"color: #c0c0c0; text-decoration-color: #c0c0c0\">    Status: </span><span style=\"color: #008000; text-decoration-color: #008000; font-weight: bold\">In Progress</span>\n",
              "        └── <span style=\"color: #008000; text-decoration-color: #008000; font-weight: bold\">🔧 </span><span style=\"color: #008000; text-decoration-color: #008000\">Used search_engine_tool (1)</span>\n",
              "</pre>\n"
            ]
          },
          "metadata": {}
        },
        {
          "output_type": "display_data",
          "data": {
            "text/plain": [
              "\n"
            ],
            "text/html": [
              "<pre style=\"white-space:pre;overflow-x:auto;line-height:normal;font-family:Menlo,'DejaVu Sans Mono',consolas,'Courier New',monospace\">\n",
              "</pre>\n"
            ]
          },
          "metadata": {}
        },
        {
          "output_type": "display_data",
          "data": {
            "text/plain": [
              "\u001b[1;36m🚀 Crew: \u001b[0m\u001b[1;36mcrew\u001b[0m\n",
              "├── \u001b[1;32m📋 Task: bcf4ba67-2cd5-45cd-9a30-27a6a5611dcf\u001b[0m\n",
              "│   \u001b[37m   Assigned to: \u001b[0m\u001b[32mSearch Query Generator Agent\u001b[0m\n",
              "│   \u001b[37m   Status: \u001b[0m\u001b[1;32m✅ Completed\u001b[0m\n",
              "│   └── \u001b[1;32m🤖 Agent: \u001b[0m\u001b[32mSearch Query Generator Agent\u001b[0m\n",
              "│       \u001b[37m    Status: \u001b[0m\u001b[1;32m✅ Completed\u001b[0m\n",
              "└── \u001b[1;33m📋 Task: 38bdebe6-607d-447b-a60f-f2de84f4cfb9\u001b[0m\n",
              "    \u001b[37m   Status: \u001b[0m\u001b[2;33mExecuting Task...\u001b[0m\n",
              "    └── \u001b[1;32m🤖 Agent: \u001b[0m\u001b[32mSearch Engine Agent\u001b[0m\n",
              "        \u001b[37m    Status: \u001b[0m\u001b[1;32mIn Progress\u001b[0m\n",
              "        ├── \u001b[1;32m🔧 \u001b[0m\u001b[32mUsed search_engine_tool (1)\u001b[0m\n",
              "        └── \u001b[1;33m🔧 \u001b[0m\u001b[33mUsing Search the internet with Serper (1)\u001b[0m\n"
            ],
            "text/html": [
              "<pre style=\"white-space:pre;overflow-x:auto;line-height:normal;font-family:Menlo,'DejaVu Sans Mono',consolas,'Courier New',monospace\"><span style=\"color: #008080; text-decoration-color: #008080; font-weight: bold\">🚀 Crew: crew</span>\n",
              "├── <span style=\"color: #008000; text-decoration-color: #008000; font-weight: bold\">📋 Task: bcf4ba67-2cd5-45cd-9a30-27a6a5611dcf</span>\n",
              "│   <span style=\"color: #c0c0c0; text-decoration-color: #c0c0c0\">   Assigned to: </span><span style=\"color: #008000; text-decoration-color: #008000\">Search Query Generator Agent</span>\n",
              "│   <span style=\"color: #c0c0c0; text-decoration-color: #c0c0c0\">   Status: </span><span style=\"color: #008000; text-decoration-color: #008000; font-weight: bold\">✅ Completed</span>\n",
              "│   └── <span style=\"color: #008000; text-decoration-color: #008000; font-weight: bold\">🤖 Agent: </span><span style=\"color: #008000; text-decoration-color: #008000\">Search Query Generator Agent</span>\n",
              "│       <span style=\"color: #c0c0c0; text-decoration-color: #c0c0c0\">    Status: </span><span style=\"color: #008000; text-decoration-color: #008000; font-weight: bold\">✅ Completed</span>\n",
              "└── <span style=\"color: #808000; text-decoration-color: #808000; font-weight: bold\">📋 Task: 38bdebe6-607d-447b-a60f-f2de84f4cfb9</span>\n",
              "    <span style=\"color: #c0c0c0; text-decoration-color: #c0c0c0\">   Status: </span><span style=\"color: #bfbf7f; text-decoration-color: #bfbf7f\">Executing Task...</span>\n",
              "    └── <span style=\"color: #008000; text-decoration-color: #008000; font-weight: bold\">🤖 Agent: </span><span style=\"color: #008000; text-decoration-color: #008000\">Search Engine Agent</span>\n",
              "        <span style=\"color: #c0c0c0; text-decoration-color: #c0c0c0\">    Status: </span><span style=\"color: #008000; text-decoration-color: #008000; font-weight: bold\">In Progress</span>\n",
              "        ├── <span style=\"color: #008000; text-decoration-color: #008000; font-weight: bold\">🔧 </span><span style=\"color: #008000; text-decoration-color: #008000\">Used search_engine_tool (1)</span>\n",
              "        └── <span style=\"color: #808000; text-decoration-color: #808000; font-weight: bold\">🔧 </span><span style=\"color: #808000; text-decoration-color: #808000\">Using Search the internet with Serper (1)</span>\n",
              "</pre>\n"
            ]
          },
          "metadata": {}
        },
        {
          "output_type": "display_data",
          "data": {
            "text/plain": [
              "\n"
            ],
            "text/html": [
              "<pre style=\"white-space:pre;overflow-x:auto;line-height:normal;font-family:Menlo,'DejaVu Sans Mono',consolas,'Courier New',monospace\">\n",
              "</pre>\n"
            ]
          },
          "metadata": {}
        },
        {
          "output_type": "display_data",
          "data": {
            "text/plain": [
              "\u001b[1;36m🚀 Crew: \u001b[0m\u001b[1;36mcrew\u001b[0m\n",
              "├── \u001b[1;32m📋 Task: bcf4ba67-2cd5-45cd-9a30-27a6a5611dcf\u001b[0m\n",
              "│   \u001b[37m   Assigned to: \u001b[0m\u001b[32mSearch Query Generator Agent\u001b[0m\n",
              "│   \u001b[37m   Status: \u001b[0m\u001b[1;32m✅ Completed\u001b[0m\n",
              "│   └── \u001b[1;32m🤖 Agent: \u001b[0m\u001b[32mSearch Query Generator Agent\u001b[0m\n",
              "│       \u001b[37m    Status: \u001b[0m\u001b[1;32m✅ Completed\u001b[0m\n",
              "└── \u001b[1;33m📋 Task: 38bdebe6-607d-447b-a60f-f2de84f4cfb9\u001b[0m\n",
              "    \u001b[37m   Status: \u001b[0m\u001b[2;33mExecuting Task...\u001b[0m\n",
              "    └── \u001b[1;32m🤖 Agent: \u001b[0m\u001b[32mSearch Engine Agent\u001b[0m\n",
              "        \u001b[37m    Status: \u001b[0m\u001b[1;32mIn Progress\u001b[0m\n",
              "        ├── \u001b[1;32m🔧 \u001b[0m\u001b[32mUsed search_engine_tool (1)\u001b[0m\n",
              "        └── \u001b[1;32m🔧 \u001b[0m\u001b[32mUsed Search the internet with Serper (1)\u001b[0m\n"
            ],
            "text/html": [
              "<pre style=\"white-space:pre;overflow-x:auto;line-height:normal;font-family:Menlo,'DejaVu Sans Mono',consolas,'Courier New',monospace\"><span style=\"color: #008080; text-decoration-color: #008080; font-weight: bold\">🚀 Crew: crew</span>\n",
              "├── <span style=\"color: #008000; text-decoration-color: #008000; font-weight: bold\">📋 Task: bcf4ba67-2cd5-45cd-9a30-27a6a5611dcf</span>\n",
              "│   <span style=\"color: #c0c0c0; text-decoration-color: #c0c0c0\">   Assigned to: </span><span style=\"color: #008000; text-decoration-color: #008000\">Search Query Generator Agent</span>\n",
              "│   <span style=\"color: #c0c0c0; text-decoration-color: #c0c0c0\">   Status: </span><span style=\"color: #008000; text-decoration-color: #008000; font-weight: bold\">✅ Completed</span>\n",
              "│   └── <span style=\"color: #008000; text-decoration-color: #008000; font-weight: bold\">🤖 Agent: </span><span style=\"color: #008000; text-decoration-color: #008000\">Search Query Generator Agent</span>\n",
              "│       <span style=\"color: #c0c0c0; text-decoration-color: #c0c0c0\">    Status: </span><span style=\"color: #008000; text-decoration-color: #008000; font-weight: bold\">✅ Completed</span>\n",
              "└── <span style=\"color: #808000; text-decoration-color: #808000; font-weight: bold\">📋 Task: 38bdebe6-607d-447b-a60f-f2de84f4cfb9</span>\n",
              "    <span style=\"color: #c0c0c0; text-decoration-color: #c0c0c0\">   Status: </span><span style=\"color: #bfbf7f; text-decoration-color: #bfbf7f\">Executing Task...</span>\n",
              "    └── <span style=\"color: #008000; text-decoration-color: #008000; font-weight: bold\">🤖 Agent: </span><span style=\"color: #008000; text-decoration-color: #008000\">Search Engine Agent</span>\n",
              "        <span style=\"color: #c0c0c0; text-decoration-color: #c0c0c0\">    Status: </span><span style=\"color: #008000; text-decoration-color: #008000; font-weight: bold\">In Progress</span>\n",
              "        ├── <span style=\"color: #008000; text-decoration-color: #008000; font-weight: bold\">🔧 </span><span style=\"color: #008000; text-decoration-color: #008000\">Used search_engine_tool (1)</span>\n",
              "        └── <span style=\"color: #008000; text-decoration-color: #008000; font-weight: bold\">🔧 </span><span style=\"color: #008000; text-decoration-color: #008000\">Used Search the internet with Serper (1)</span>\n",
              "</pre>\n"
            ]
          },
          "metadata": {}
        },
        {
          "output_type": "display_data",
          "data": {
            "text/plain": [
              "\n"
            ],
            "text/html": [
              "<pre style=\"white-space:pre;overflow-x:auto;line-height:normal;font-family:Menlo,'DejaVu Sans Mono',consolas,'Courier New',monospace\">\n",
              "</pre>\n"
            ]
          },
          "metadata": {}
        },
        {
          "output_type": "stream",
          "name": "stdout",
          "text": [
            "\n",
            "\n",
            "\u001b[1m\u001b[95m# Agent:\u001b[00m \u001b[1m\u001b[92mSearch Engine Agent\u001b[00m\n",
            "\u001b[95m## Thought:\u001b[00m \u001b[92mThought: I have gathered results from the first query. Now, I will use the Search the internet with Serper tool to find more hotel deals based on the second query: \"TripAdvisor family-friendly hotels Hurghada Egypt 4-day stay budget $200-$800\".\u001b[00m\n",
            "\u001b[95m## Using tool:\u001b[00m \u001b[92mSearch the internet with Serper\u001b[00m\n",
            "\u001b[95m## Tool Input:\u001b[00m \u001b[92m\n",
            "\"{\\\"search_query\\\": \\\"TripAdvisor family-friendly hotels Hurghada Egypt 4-day stay budget $200-$800\\\"}\"\u001b[00m\n",
            "\u001b[95m## Tool Output:\u001b[00m \u001b[92m\n",
            "{'searchParameters': {'q': 'TripAdvisor family-friendly hotels Hurghada Egypt 4-day stay budget $200-$800', 'type': 'search', 'num': 10, 'engine': 'google'}, 'organic': [{'title': 'THE 10 BEST Hurghada Family Hotels 2025 (with Prices) - Tripadvisor', 'link': 'https://www.tripadvisor.com/Hotels-g297549-zff4-Hurghada_Red_Sea_and_Sinai-Hotels.html', 'snippet': '1. Pickalbatros Jungle Aqua Park Neverland · 2. Hilton Hurghada Plaza · 3. Jaz Makadi Star & Spa · 4. Long Beach Resort · 5. Titanic Resort & ...', 'position': 1}, {'title': 'THE 10 BEST All Inclusive Resorts for Families in Hurghada', 'link': 'https://www.tripadvisor.com/HotelsList-Hurghada-Family_friendly-All_Inclusive-Resort-zfp13652541.html', 'snippet': 'Hurghada All Inclusive Family Resorts · 1. Long Beach Resort · 2. Jaz Aquaviva · 3. Steigenberger Aqua Magic · 4. Jaz Makadi Saraya Resort · 5.', 'position': 2}, {'title': 'THE 10 BEST Hurghada Family Resorts 2025 (with Prices)', 'link': 'https://www.tripadvisor.com/HotelsList-Hurghada-Family-Resorts-zfp188807.html', 'snippet': 'Hurghada Family Resorts · 1. Long Beach Resort · 2. Steigenberger Aqua Magic · 3. Jaz Aquaviva · 4. Serenity Alpha Beach · 5. Jaz Makadi Saraya ...', 'position': 3}, {'title': 'Family hotels in Hurghada - Tripadvisor', 'link': 'https://www.tripadvisor.ie/ShowTopic-g297549-i9198-k15264894-Family_hotels_in_Hurghada-Hurghada_Red_Sea_and_Sinai.html', 'snippet': 'Family hotels in Hurghada ; Steigenberger ALDAU Beach Hotel. 9,441 reviews ; Steigenberger Aqua Magic. 9,427 reviews ; Beach Albatros Resort. 2,425 ...', 'position': 4}, {'title': 'Best all inclusive for family - Hurghada Forum - Tripadvisor', 'link': 'https://www.tripadvisor.com/ShowTopic-g297549-i9198-k15047749-Best_all_inclusive_for_family-Hurghada_Red_Sea_and_Sinai.html', 'snippet': \"Steigenberger ALDAU is a great choice that you've been looking at and highly recommended for a good all round Hotel.\", 'position': 5}, {'title': 'THE 10 BEST Hurghada Family Hotels 2025 (with Prices) - Tripadvisor', 'link': 'https://www.tripadvisor.com/Hotels-g297549-oa30-zff4-Hurghada_Red_Sea_and_Sinai-Hotels.html', 'snippet': 'Best Family Hotels in Hurghada on Tripadvisor: Find traveler reviews, candid photos, and prices for 142 family hotels in Hurghada, ...', 'position': 6}, {'title': 'Family hotels in Hurghada - Tripadvisor', 'link': 'https://www.tripadvisor.co.uk/ShowTopic-g297549-i9198-k15264894-Family_hotels_in_Hurghada-Hurghada_Red_Sea_and_Sinai.html', 'snippet': 'Family hotels in Hurghada ; Steigenberger ALDAU Beach Hotel. 9,443 reviews ; Steigenberger Aqua Magic. 9,428 reviews ; Beach Albatros Resort. 2,425 ...', 'position': 7}, {'title': 'Mirage Bay Resort & Aqua Park Lilly Land - Hurghada 1 - Tripadvisor', 'link': 'https://www.tripadvisor.com/Hotel_Review-g27118717-d638104-Reviews-Mirage_Bay_Resort_Aqua_Park_Lilly_Land-Hurghada_1_Hurghada_Red_Sea_and_Sinai.html', 'snippet': 'Mirage Bay Resort & Aqua Park is a luxury property with 671 units, offering wide comfortable rooms for individuals & families, featuring standard accommodation ...', 'position': 8}], 'peopleAlsoAsk': [{'question': 'Where to stay in Hurghada?', 'snippet': 'ACCOMMODATION IN HURGHADA\\nPickalbatros Blu Spa Resort - Adults Friendly 16 Years Plus- Ultra All-Inclusive. ...\\nSunrise Tucana Resort Grand Select. ...\\nSteigenberger Resort Ras Soma. ...\\nJaz Soma Beach. ...\\nRedcon Suites. ...\\nThe Makadi Spa Hotel - Couples Only 18 Years Plus. ...\\nPickalbatros White Beach Resort - Hurghada. ...\\nJaz Aquaviva.', 'title': 'The 10 best accommodation in Hurghada, Egypt | Booking.com', 'link': 'https://www.booking.com/accommodation/city/eg/al-ghardaqah.en-gb.html'}, {'question': 'What rank is Hurghada?', 'snippet': \"Hurghada, a Red Sea resort town in Egypt, has been ranked the third top global nature destination in TripAdvisor's recently released list.\", 'title': \"Hurghada ranks third in TripAdvisor's Nature Destinations - World\", 'link': 'https://www.dailynewsegypt.com/2024/05/11/hurghada-ranks-third-in-tripadvisors-nature-destinations-world/'}], 'relatedSearches': [{'query': 'Serenity Alpha Beach'}, {'query': 'Best tripadvisor family friendly hotels hurghada egypt 4 day stay budget $200 -$ 800'}, {'query': 'Hotel Titanic Beach Spa Aqua Park Hurghada'}, {'query': 'Neverland Tripadvisor'}, {'query': 'Titanic Resort & Aqua Park 4'}, {'query': 'Tripadvisor Serenity Makadi Beach'}, {'query': 'Titanic Hotel Tripadvisor'}], 'credits': 1}\u001b[00m\n"
          ]
        },
        {
          "output_type": "display_data",
          "data": {
            "text/plain": [
              "\u001b[1;36m🚀 Crew: \u001b[0m\u001b[1;36mcrew\u001b[0m\n",
              "├── \u001b[1;32m📋 Task: bcf4ba67-2cd5-45cd-9a30-27a6a5611dcf\u001b[0m\n",
              "│   \u001b[37m   Assigned to: \u001b[0m\u001b[32mSearch Query Generator Agent\u001b[0m\n",
              "│   \u001b[37m   Status: \u001b[0m\u001b[1;32m✅ Completed\u001b[0m\n",
              "│   └── \u001b[1;32m🤖 Agent: \u001b[0m\u001b[32mSearch Query Generator Agent\u001b[0m\n",
              "│       \u001b[37m    Status: \u001b[0m\u001b[1;32m✅ Completed\u001b[0m\n",
              "└── \u001b[1;33m📋 Task: 38bdebe6-607d-447b-a60f-f2de84f4cfb9\u001b[0m\n",
              "    \u001b[37m   Status: \u001b[0m\u001b[2;33mExecuting Task...\u001b[0m\n",
              "    └── \u001b[1;32m🤖 Agent: \u001b[0m\u001b[32mSearch Engine Agent\u001b[0m\n",
              "        \u001b[37m    Status: \u001b[0m\u001b[1;32mIn Progress\u001b[0m\n",
              "        ├── \u001b[1;32m🔧 \u001b[0m\u001b[32mUsed search_engine_tool (1)\u001b[0m\n",
              "        ├── \u001b[1;32m🔧 \u001b[0m\u001b[32mUsed Search the internet with Serper (1)\u001b[0m\n",
              "        └── \u001b[1;34m🧠 \u001b[0m\u001b[34mThinking...\u001b[0m\n"
            ],
            "text/html": [
              "<pre style=\"white-space:pre;overflow-x:auto;line-height:normal;font-family:Menlo,'DejaVu Sans Mono',consolas,'Courier New',monospace\"><span style=\"color: #008080; text-decoration-color: #008080; font-weight: bold\">🚀 Crew: crew</span>\n",
              "├── <span style=\"color: #008000; text-decoration-color: #008000; font-weight: bold\">📋 Task: bcf4ba67-2cd5-45cd-9a30-27a6a5611dcf</span>\n",
              "│   <span style=\"color: #c0c0c0; text-decoration-color: #c0c0c0\">   Assigned to: </span><span style=\"color: #008000; text-decoration-color: #008000\">Search Query Generator Agent</span>\n",
              "│   <span style=\"color: #c0c0c0; text-decoration-color: #c0c0c0\">   Status: </span><span style=\"color: #008000; text-decoration-color: #008000; font-weight: bold\">✅ Completed</span>\n",
              "│   └── <span style=\"color: #008000; text-decoration-color: #008000; font-weight: bold\">🤖 Agent: </span><span style=\"color: #008000; text-decoration-color: #008000\">Search Query Generator Agent</span>\n",
              "│       <span style=\"color: #c0c0c0; text-decoration-color: #c0c0c0\">    Status: </span><span style=\"color: #008000; text-decoration-color: #008000; font-weight: bold\">✅ Completed</span>\n",
              "└── <span style=\"color: #808000; text-decoration-color: #808000; font-weight: bold\">📋 Task: 38bdebe6-607d-447b-a60f-f2de84f4cfb9</span>\n",
              "    <span style=\"color: #c0c0c0; text-decoration-color: #c0c0c0\">   Status: </span><span style=\"color: #bfbf7f; text-decoration-color: #bfbf7f\">Executing Task...</span>\n",
              "    └── <span style=\"color: #008000; text-decoration-color: #008000; font-weight: bold\">🤖 Agent: </span><span style=\"color: #008000; text-decoration-color: #008000\">Search Engine Agent</span>\n",
              "        <span style=\"color: #c0c0c0; text-decoration-color: #c0c0c0\">    Status: </span><span style=\"color: #008000; text-decoration-color: #008000; font-weight: bold\">In Progress</span>\n",
              "        ├── <span style=\"color: #008000; text-decoration-color: #008000; font-weight: bold\">🔧 </span><span style=\"color: #008000; text-decoration-color: #008000\">Used search_engine_tool (1)</span>\n",
              "        ├── <span style=\"color: #008000; text-decoration-color: #008000; font-weight: bold\">🔧 </span><span style=\"color: #008000; text-decoration-color: #008000\">Used Search the internet with Serper (1)</span>\n",
              "        └── <span style=\"color: #000080; text-decoration-color: #000080; font-weight: bold\">🧠 </span><span style=\"color: #000080; text-decoration-color: #000080\">Thinking...</span>\n",
              "</pre>\n"
            ]
          },
          "metadata": {}
        },
        {
          "output_type": "display_data",
          "data": {
            "text/plain": [
              "\n"
            ],
            "text/html": [
              "<pre style=\"white-space:pre;overflow-x:auto;line-height:normal;font-family:Menlo,'DejaVu Sans Mono',consolas,'Courier New',monospace\">\n",
              "</pre>\n"
            ]
          },
          "metadata": {}
        },
        {
          "output_type": "stream",
          "name": "stderr",
          "text": [
            "\u001b[92m01:13:54 - LiteLLM:WARNING\u001b[0m: utils.py:428 - `litellm.set_verbose` is deprecated. Please set `os.environ['LITELLM_LOG'] = 'DEBUG'` for debug logs.\n",
            "WARNING:LiteLLM:`litellm.set_verbose` is deprecated. Please set `os.environ['LITELLM_LOG'] = 'DEBUG'` for debug logs.\n"
          ]
        },
        {
          "output_type": "stream",
          "name": "stdout",
          "text": [
            "Initialized litellm callbacks, Async Success Callbacks: [<crewai.utilities.token_counter_callback.TokenCalcHandler object at 0x7c079775c190>]\n",
            "SYNC kwargs[caching]: False; litellm.cache: None; kwargs.get('cache')['no-cache']: False\n",
            "Final returned optional params: {'temperature': 0, 'stream': False, 'stop': ['\\nObservation:'], 'extra_body': {}}\n",
            "RAW RESPONSE:\n",
            "{\"id\": \"chatcmpl-BCylmV8OSpJVBwxTMBVUUCN186uGx\", \"choices\": [{\"finish_reason\": \"stop\", \"index\": 0, \"logprobs\": null, \"message\": {\"content\": \"Thought: I have gathered results from both the Booking.com and TripAdvisor queries. Now, I will compile the results into the required JSON format.\\n\\nFinal Answer: {\\n  \\\"results\\\": [\\n    {\\n      \\\"title\\\": \\\"The 10 best family hotels in Hurghada, Egypt | Booking.com\\\",\\n      \\\"url\\\": \\\"https://www.booking.com/family/city/eg/al-ghardaqah.html\\\",\\n      \\\"snippet\\\": \\\"Find and book deals on the best family hotels in Hurghada, Egypt! Explore guest reviews and book the perfect family hotel for your trip. ... Popular with guests booking family hotels in Hurghada. Review score. 8.8. ... We stayed 3 nights 4 days from 16-19 may we had a pleasant experience with welcomed staff, clean room and good ac, aqua and\\\",\\n      \\\"score\\\": 0.78214747,\\n      \\\"search_query\\\": \\\"Booking.com family hotel deals Hurghada Egypt 4 days $200-$800\\\"\\n    },\\n    {\\n      \\\"title\\\": \\\"10 Best Hurghada Hotels, Egypt (From $19) - Booking.com\\\",\\n      \\\"url\\\": \\\"https://www.booking.com/city/eg/al-ghardaqah.html\\\",\\n      \\\"snippet\\\": \\\"The average price per night for a 3-star hotel in Hurghada this weekend is $69 or, for a 4-star hotel, $137. Looking for something even fancier? 5-star hotels in Hurghada for this weekend cost around $250 per night, on average (based on Booking.com prices).\\\",\\n      \\\"score\\\": 0.6257817,\\n      \\\"search_query\\\": \\\"Booking.com family hotel deals Hurghada Egypt 4 days $200-$800\\\"\\n    },\\n    {\\n      \\\"title\\\": \\\"THE 10 BEST Hurghada Family Hotels 2025 (with Prices) - Tripadvisor\\\",\\n      \\\"url\\\": \\\"https://www.tripadvisor.com/Hotels-g297549-zff4-Hurghada_Red_Sea_and_Sinai-Hotels.html\\\",\\n      \\\"snippet\\\": \\\"1. Pickalbatros Jungle Aqua Park Neverland \\u00b7 2. Hilton Hurghada Plaza \\u00b7 3. Jaz Makadi Star & Spa \\u00b7 4. Long Beach Resort \\u00b7 5. Titanic Resort & ...\\\",\\n      \\\"score\\\": null,\\n      \\\"search_query\\\": \\\"TripAdvisor family-friendly hotels Hurghada Egypt 4-day stay budget $200-$800\\\"\\n    },\\n    {\\n      \\\"title\\\": \\\"THE 10 BEST All Inclusive Resorts for Families in Hurghada\\\",\\n      \\\"url\\\": \\\"https://www.tripadvisor.com/HotelsList-Hurghada-Family_friendly-All_Inclusive-Resort-zfp13652541.html\\\",\\n      \\\"snippet\\\": \\\"Hurghada All Inclusive Family Resorts \\u00b7 1. Long Beach Resort \\u00b7 2. Jaz Aquaviva \\u00b7 3. Steigenberger Aqua Magic \\u00b7 4. Jaz Makadi Saraya Resort \\u00b7 5.\\\",\\n      \\\"score\\\": null,\\n      \\\"search_query\\\": \\\"TripAdvisor family-friendly hotels Hurghada Egypt 4-day stay budget $200-$800\\\"\\n    }\\n  ]\\n}\", \"refusal\": null, \"role\": \"assistant\", \"audio\": null, \"function_call\": null, \"tool_calls\": null, \"annotations\": []}}], \"created\": 1742433234, \"model\": \"gpt-4o-2024-08-06\", \"object\": \"chat.completion\", \"service_tier\": \"default\", \"system_fingerprint\": \"fp_6ec83003ad\", \"usage\": {\"completion_tokens\": 649, \"prompt_tokens\": 2988, \"total_tokens\": 3637, \"completion_tokens_details\": {\"accepted_prediction_tokens\": 0, \"audio_tokens\": 0, \"reasoning_tokens\": 0, \"rejected_prediction_tokens\": 0}, \"prompt_tokens_details\": {\"audio_tokens\": 0, \"cached_tokens\": 1536}}}\n",
            "\n",
            "\n"
          ]
        },
        {
          "output_type": "display_data",
          "data": {
            "text/plain": [
              "\u001b[1;36m🚀 Crew: \u001b[0m\u001b[1;36mcrew\u001b[0m\n",
              "├── \u001b[1;32m📋 Task: bcf4ba67-2cd5-45cd-9a30-27a6a5611dcf\u001b[0m\n",
              "│   \u001b[37m   Assigned to: \u001b[0m\u001b[32mSearch Query Generator Agent\u001b[0m\n",
              "│   \u001b[37m   Status: \u001b[0m\u001b[1;32m✅ Completed\u001b[0m\n",
              "│   └── \u001b[1;32m🤖 Agent: \u001b[0m\u001b[32mSearch Query Generator Agent\u001b[0m\n",
              "│       \u001b[37m    Status: \u001b[0m\u001b[1;32m✅ Completed\u001b[0m\n",
              "└── \u001b[1;33m📋 Task: 38bdebe6-607d-447b-a60f-f2de84f4cfb9\u001b[0m\n",
              "    \u001b[37m   Status: \u001b[0m\u001b[2;33mExecuting Task...\u001b[0m\n",
              "    └── \u001b[1;32m🤖 Agent: \u001b[0m\u001b[32mSearch Engine Agent\u001b[0m\n",
              "        \u001b[37m    Status: \u001b[0m\u001b[1;32mIn Progress\u001b[0m\n",
              "        ├── \u001b[1;32m🔧 \u001b[0m\u001b[32mUsed search_engine_tool (1)\u001b[0m\n",
              "        └── \u001b[1;32m🔧 \u001b[0m\u001b[32mUsed Search the internet with Serper (1)\u001b[0m\n"
            ],
            "text/html": [
              "<pre style=\"white-space:pre;overflow-x:auto;line-height:normal;font-family:Menlo,'DejaVu Sans Mono',consolas,'Courier New',monospace\"><span style=\"color: #008080; text-decoration-color: #008080; font-weight: bold\">🚀 Crew: crew</span>\n",
              "├── <span style=\"color: #008000; text-decoration-color: #008000; font-weight: bold\">📋 Task: bcf4ba67-2cd5-45cd-9a30-27a6a5611dcf</span>\n",
              "│   <span style=\"color: #c0c0c0; text-decoration-color: #c0c0c0\">   Assigned to: </span><span style=\"color: #008000; text-decoration-color: #008000\">Search Query Generator Agent</span>\n",
              "│   <span style=\"color: #c0c0c0; text-decoration-color: #c0c0c0\">   Status: </span><span style=\"color: #008000; text-decoration-color: #008000; font-weight: bold\">✅ Completed</span>\n",
              "│   └── <span style=\"color: #008000; text-decoration-color: #008000; font-weight: bold\">🤖 Agent: </span><span style=\"color: #008000; text-decoration-color: #008000\">Search Query Generator Agent</span>\n",
              "│       <span style=\"color: #c0c0c0; text-decoration-color: #c0c0c0\">    Status: </span><span style=\"color: #008000; text-decoration-color: #008000; font-weight: bold\">✅ Completed</span>\n",
              "└── <span style=\"color: #808000; text-decoration-color: #808000; font-weight: bold\">📋 Task: 38bdebe6-607d-447b-a60f-f2de84f4cfb9</span>\n",
              "    <span style=\"color: #c0c0c0; text-decoration-color: #c0c0c0\">   Status: </span><span style=\"color: #bfbf7f; text-decoration-color: #bfbf7f\">Executing Task...</span>\n",
              "    └── <span style=\"color: #008000; text-decoration-color: #008000; font-weight: bold\">🤖 Agent: </span><span style=\"color: #008000; text-decoration-color: #008000\">Search Engine Agent</span>\n",
              "        <span style=\"color: #c0c0c0; text-decoration-color: #c0c0c0\">    Status: </span><span style=\"color: #008000; text-decoration-color: #008000; font-weight: bold\">In Progress</span>\n",
              "        ├── <span style=\"color: #008000; text-decoration-color: #008000; font-weight: bold\">🔧 </span><span style=\"color: #008000; text-decoration-color: #008000\">Used search_engine_tool (1)</span>\n",
              "        └── <span style=\"color: #008000; text-decoration-color: #008000; font-weight: bold\">🔧 </span><span style=\"color: #008000; text-decoration-color: #008000\">Used Search the internet with Serper (1)</span>\n",
              "</pre>\n"
            ]
          },
          "metadata": {}
        },
        {
          "output_type": "display_data",
          "data": {
            "text/plain": [
              "\n"
            ],
            "text/html": [
              "<pre style=\"white-space:pre;overflow-x:auto;line-height:normal;font-family:Menlo,'DejaVu Sans Mono',consolas,'Courier New',monospace\">\n",
              "</pre>\n"
            ]
          },
          "metadata": {}
        },
        {
          "output_type": "stream",
          "name": "stdout",
          "text": [
            "\n",
            "\n",
            "\u001b[1m\u001b[95m# Agent:\u001b[00m \u001b[1m\u001b[92mSearch Engine Agent\u001b[00m\n",
            "\u001b[95m## Final Answer:\u001b[00m \u001b[92m\n",
            "{\n",
            "  \"results\": [\n",
            "    {\n",
            "      \"title\": \"The 10 best family hotels in Hurghada, Egypt | Booking.com\",\n",
            "      \"url\": \"https://www.booking.com/family/city/eg/al-ghardaqah.html\",\n",
            "      \"snippet\": \"Find and book deals on the best family hotels in Hurghada, Egypt! Explore guest reviews and book the perfect family hotel for your trip. ... Popular with guests booking family hotels in Hurghada. Review score. 8.8. ... We stayed 3 nights 4 days from 16-19 may we had a pleasant experience with welcomed staff, clean room and good ac, aqua and\",\n",
            "      \"score\": 0.78214747,\n",
            "      \"search_query\": \"Booking.com family hotel deals Hurghada Egypt 4 days $200-$800\"\n",
            "    },\n",
            "    {\n",
            "      \"title\": \"10 Best Hurghada Hotels, Egypt (From $19) - Booking.com\",\n",
            "      \"url\": \"https://www.booking.com/city/eg/al-ghardaqah.html\",\n",
            "      \"snippet\": \"The average price per night for a 3-star hotel in Hurghada this weekend is $69 or, for a 4-star hotel, $137. Looking for something even fancier? 5-star hotels in Hurghada for this weekend cost around $250 per night, on average (based on Booking.com prices).\",\n",
            "      \"score\": 0.6257817,\n",
            "      \"search_query\": \"Booking.com family hotel deals Hurghada Egypt 4 days $200-$800\"\n",
            "    },\n",
            "    {\n",
            "      \"title\": \"THE 10 BEST Hurghada Family Hotels 2025 (with Prices) - Tripadvisor\",\n",
            "      \"url\": \"https://www.tripadvisor.com/Hotels-g297549-zff4-Hurghada_Red_Sea_and_Sinai-Hotels.html\",\n",
            "      \"snippet\": \"1. Pickalbatros Jungle Aqua Park Neverland · 2. Hilton Hurghada Plaza · 3. Jaz Makadi Star & Spa · 4. Long Beach Resort · 5. Titanic Resort & ...\",\n",
            "      \"score\": null,\n",
            "      \"search_query\": \"TripAdvisor family-friendly hotels Hurghada Egypt 4-day stay budget $200-$800\"\n",
            "    },\n",
            "    {\n",
            "      \"title\": \"THE 10 BEST All Inclusive Resorts for Families in Hurghada\",\n",
            "      \"url\": \"https://www.tripadvisor.com/HotelsList-Hurghada-Family_friendly-All_Inclusive-Resort-zfp13652541.html\",\n",
            "      \"snippet\": \"Hurghada All Inclusive Family Resorts · 1. Long Beach Resort · 2. Jaz Aquaviva · 3. Steigenberger Aqua Magic · 4. Jaz Makadi Saraya Resort · 5.\",\n",
            "      \"score\": null,\n",
            "      \"search_query\": \"TripAdvisor family-friendly hotels Hurghada Egypt 4-day stay budget $200-$800\"\n",
            "    }\n",
            "  ]\n",
            "}\u001b[00m\n",
            "\n",
            "\n"
          ]
        },
        {
          "output_type": "display_data",
          "data": {
            "text/plain": [
              "\u001b[1;36m🚀 Crew: \u001b[0m\u001b[1;36mcrew\u001b[0m\n",
              "├── \u001b[1;32m📋 Task: bcf4ba67-2cd5-45cd-9a30-27a6a5611dcf\u001b[0m\n",
              "│   \u001b[37m   Assigned to: \u001b[0m\u001b[32mSearch Query Generator Agent\u001b[0m\n",
              "│   \u001b[37m   Status: \u001b[0m\u001b[1;32m✅ Completed\u001b[0m\n",
              "│   └── \u001b[1;32m🤖 Agent: \u001b[0m\u001b[32mSearch Query Generator Agent\u001b[0m\n",
              "│       \u001b[37m    Status: \u001b[0m\u001b[1;32m✅ Completed\u001b[0m\n",
              "└── \u001b[1;33m📋 Task: 38bdebe6-607d-447b-a60f-f2de84f4cfb9\u001b[0m\n",
              "    \u001b[37m   Status: \u001b[0m\u001b[2;33mExecuting Task...\u001b[0m\n",
              "    └── \u001b[1;32m🤖 Agent: \u001b[0m\u001b[32mSearch Engine Agent\u001b[0m\n",
              "        \u001b[37m    Status: \u001b[0m\u001b[1;32m✅ Completed\u001b[0m\n",
              "        ├── \u001b[1;32m🔧 \u001b[0m\u001b[32mUsed search_engine_tool (1)\u001b[0m\n",
              "        └── \u001b[1;32m🔧 \u001b[0m\u001b[32mUsed Search the internet with Serper (1)\u001b[0m\n"
            ],
            "text/html": [
              "<pre style=\"white-space:pre;overflow-x:auto;line-height:normal;font-family:Menlo,'DejaVu Sans Mono',consolas,'Courier New',monospace\"><span style=\"color: #008080; text-decoration-color: #008080; font-weight: bold\">🚀 Crew: crew</span>\n",
              "├── <span style=\"color: #008000; text-decoration-color: #008000; font-weight: bold\">📋 Task: bcf4ba67-2cd5-45cd-9a30-27a6a5611dcf</span>\n",
              "│   <span style=\"color: #c0c0c0; text-decoration-color: #c0c0c0\">   Assigned to: </span><span style=\"color: #008000; text-decoration-color: #008000\">Search Query Generator Agent</span>\n",
              "│   <span style=\"color: #c0c0c0; text-decoration-color: #c0c0c0\">   Status: </span><span style=\"color: #008000; text-decoration-color: #008000; font-weight: bold\">✅ Completed</span>\n",
              "│   └── <span style=\"color: #008000; text-decoration-color: #008000; font-weight: bold\">🤖 Agent: </span><span style=\"color: #008000; text-decoration-color: #008000\">Search Query Generator Agent</span>\n",
              "│       <span style=\"color: #c0c0c0; text-decoration-color: #c0c0c0\">    Status: </span><span style=\"color: #008000; text-decoration-color: #008000; font-weight: bold\">✅ Completed</span>\n",
              "└── <span style=\"color: #808000; text-decoration-color: #808000; font-weight: bold\">📋 Task: 38bdebe6-607d-447b-a60f-f2de84f4cfb9</span>\n",
              "    <span style=\"color: #c0c0c0; text-decoration-color: #c0c0c0\">   Status: </span><span style=\"color: #bfbf7f; text-decoration-color: #bfbf7f\">Executing Task...</span>\n",
              "    └── <span style=\"color: #008000; text-decoration-color: #008000; font-weight: bold\">🤖 Agent: </span><span style=\"color: #008000; text-decoration-color: #008000\">Search Engine Agent</span>\n",
              "        <span style=\"color: #c0c0c0; text-decoration-color: #c0c0c0\">    Status: </span><span style=\"color: #008000; text-decoration-color: #008000; font-weight: bold\">✅ Completed</span>\n",
              "        ├── <span style=\"color: #008000; text-decoration-color: #008000; font-weight: bold\">🔧 </span><span style=\"color: #008000; text-decoration-color: #008000\">Used search_engine_tool (1)</span>\n",
              "        └── <span style=\"color: #008000; text-decoration-color: #008000; font-weight: bold\">🔧 </span><span style=\"color: #008000; text-decoration-color: #008000\">Used Search the internet with Serper (1)</span>\n",
              "</pre>\n"
            ]
          },
          "metadata": {}
        },
        {
          "output_type": "display_data",
          "data": {
            "text/plain": [
              "\n"
            ],
            "text/html": [
              "<pre style=\"white-space:pre;overflow-x:auto;line-height:normal;font-family:Menlo,'DejaVu Sans Mono',consolas,'Courier New',monospace\">\n",
              "</pre>\n"
            ]
          },
          "metadata": {}
        },
        {
          "output_type": "stream",
          "name": "stderr",
          "text": [
            "/usr/local/lib/python3.11/dist-packages/google/colab/html/_background_server.py:103: DeprecationWarning: make_current is deprecated; start the event loop first\n",
            "  ioloop.make_current()\n",
            "\u001b[92m01:14:14 - LiteLLM:WARNING\u001b[0m: utils.py:428 - `litellm.set_verbose` is deprecated. Please set `os.environ['LITELLM_LOG'] = 'DEBUG'` for debug logs.\n",
            "WARNING:LiteLLM:`litellm.set_verbose` is deprecated. Please set `os.environ['LITELLM_LOG'] = 'DEBUG'` for debug logs.\n"
          ]
        },
        {
          "output_type": "stream",
          "name": "stdout",
          "text": [
            "Initialized litellm callbacks, Async Success Callbacks: [<crewai.utilities.token_counter_callback.TokenCalcHandler object at 0x7c079775c190>]\n",
            "SYNC kwargs[caching]: False; litellm.cache: None; kwargs.get('cache')['no-cache']: False\n",
            "Final returned optional params: {'tools': [{'type': 'function', 'function': {'name': 'AllSearchResults', 'description': 'Correctly extracted `AllSearchResults` with all the required parameters with correct types', 'parameters': {'$defs': {'SearchResult': {'properties': {'title': {'title': 'Title', 'type': 'string'}, 'url': {'title': 'The page URL', 'type': 'string'}, 'snippet': {'title': 'Snippet', 'type': 'string'}, 'score': {'title': 'Score', 'type': 'number'}, 'search_query': {'title': 'Search Query', 'type': 'string'}}, 'required': ['title', 'url', 'snippet', 'score', 'search_query'], 'title': 'SearchResult', 'type': 'object'}}, 'properties': {'results': {'items': {'$ref': '#/$defs/SearchResult'}, 'title': 'Results', 'type': 'array'}}, 'required': ['results'], 'type': 'object'}}}], 'tool_choice': {'type': 'function', 'function': {'name': 'AllSearchResults'}}, 'extra_body': {}}\n",
            "RAW RESPONSE:\n",
            "{\"id\": \"chatcmpl-BCym6ZBHgrDFlcjWKNzclxvRmswRE\", \"choices\": [{\"finish_reason\": \"stop\", \"index\": 0, \"logprobs\": null, \"message\": {\"content\": null, \"refusal\": null, \"role\": \"assistant\", \"audio\": null, \"function_call\": null, \"tool_calls\": [{\"id\": \"call_SaTSppimppiI0DX9g6PKo2gd\", \"function\": {\"arguments\": \"{\\\"results\\\":[{\\\"title\\\":\\\"The 10 best family hotels in Hurghada, Egypt | Booking.com\\\",\\\"url\\\":\\\"https://www.booking.com/family/city/eg/al-ghardaqah.html\\\",\\\"snippet\\\":\\\"Find and book deals on the best family hotels in Hurghada, Egypt! Explore guest reviews and book the perfect family hotel for your trip. ... Popular with guests booking family hotels in Hurghada. Review score. 8.8. ... We stayed 3 nights 4 days from 16-19 may we had a pleasant experience with welcomed staff, clean room and good ac, aqua and\\\",\\\"score\\\":0.78214747,\\\"search_query\\\":\\\"Booking.com family hotel deals Hurghada Egypt 4 days $200-$800\\\"},{\\\"title\\\":\\\"10 Best Hurghada Hotels, Egypt (From $19) - Booking.com\\\",\\\"url\\\":\\\"https://www.booking.com/city/eg/al-ghardaqah.html\\\",\\\"snippet\\\":\\\"The average price per night for a 3-star hotel in Hurghada this weekend is $69 or, for a 4-star hotel, $137. Looking for something even fancier? 5-star hotels in Hurghada for this weekend cost around $250 per night, on average (based on Booking.com prices).\\\",\\\"score\\\":0.6257817,\\\"search_query\\\":\\\"Booking.com family hotel deals Hurghada Egypt 4 days $200-$800\\\"},{\\\"title\\\":\\\"THE 10 BEST Hurghada Family Hotels 2025 (with Prices) - Tripadvisor\\\",\\\"url\\\":\\\"https://www.tripadvisor.com/Hotels-g297549-zff4-Hurghada_Red_Sea_and_Sinai-Hotels.html\\\",\\\"snippet\\\":\\\"1. Pickalbatros Jungle Aqua Park Neverland \\u00b7 2. Hilton Hurghada Plaza \\u00b7 3. Jaz Makadi Star & Spa \\u00b7 4. Long Beach Resort \\u00b7 5. Titanic Resort & ...\\\",\\\"score\\\":0.0,\\\"search_query\\\":\\\"TripAdvisor family-friendly hotels Hurghada Egypt 4-day stay budget $200-$800\\\"},{\\\"title\\\":\\\"THE 10 BEST All Inclusive Resorts for Families in Hurghada\\\",\\\"url\\\":\\\"https://www.tripadvisor.com/HotelsList-Hurghada-Family_friendly-All_Inclusive-Resort-zfp13652541.html\\\",\\\"snippet\\\":\\\"Hurghada All Inclusive Family Resorts \\u00b7 1. Long Beach Resort \\u00b7 2. Jaz Aquaviva \\u00b7 3. Steigenberger Aqua Magic \\u00b7 4. Jaz Makadi Saraya Resort \\u00b7 5.\\\",\\\"score\\\":0.0,\\\"search_query\\\":\\\"TripAdvisor family-friendly hotels Hurghada Egypt 4-day stay budget $200-$800\\\"}]}\", \"name\": \"AllSearchResults\"}, \"type\": \"function\"}], \"annotations\": []}}], \"created\": 1742433254, \"model\": \"gpt-4o-2024-08-06\", \"object\": \"chat.completion\", \"service_tier\": \"default\", \"system_fingerprint\": \"fp_6ec83003ad\", \"usage\": {\"completion_tokens\": 543, \"prompt_tokens\": 726, \"total_tokens\": 1269, \"completion_tokens_details\": {\"accepted_prediction_tokens\": 0, \"audio_tokens\": 0, \"reasoning_tokens\": 0, \"rejected_prediction_tokens\": 0}, \"prompt_tokens_details\": {\"audio_tokens\": 0, \"cached_tokens\": 0}}}\n",
            "\n",
            "\n"
          ]
        },
        {
          "output_type": "display_data",
          "data": {
            "text/plain": [
              "\u001b[1;36m🚀 Crew: \u001b[0m\u001b[1;36mcrew\u001b[0m\n",
              "├── \u001b[1;32m📋 Task: bcf4ba67-2cd5-45cd-9a30-27a6a5611dcf\u001b[0m\n",
              "│   \u001b[37m   Assigned to: \u001b[0m\u001b[32mSearch Query Generator Agent\u001b[0m\n",
              "│   \u001b[37m   Status: \u001b[0m\u001b[1;32m✅ Completed\u001b[0m\n",
              "│   └── \u001b[1;32m🤖 Agent: \u001b[0m\u001b[32mSearch Query Generator Agent\u001b[0m\n",
              "│       \u001b[37m    Status: \u001b[0m\u001b[1;32m✅ Completed\u001b[0m\n",
              "└── \u001b[1;32m📋 Task: 38bdebe6-607d-447b-a60f-f2de84f4cfb9\u001b[0m\n",
              "    \u001b[37m   Assigned to: \u001b[0m\u001b[32mSearch Engine Agent\u001b[0m\n",
              "    \u001b[37m   Status: \u001b[0m\u001b[1;32m✅ Completed\u001b[0m\n",
              "    └── \u001b[1;32m🤖 Agent: \u001b[0m\u001b[32mSearch Engine Agent\u001b[0m\n",
              "        \u001b[37m    Status: \u001b[0m\u001b[1;32m✅ Completed\u001b[0m\n",
              "        ├── \u001b[1;32m🔧 \u001b[0m\u001b[32mUsed search_engine_tool (1)\u001b[0m\n",
              "        └── \u001b[1;32m🔧 \u001b[0m\u001b[32mUsed Search the internet with Serper (1)\u001b[0m\n"
            ],
            "text/html": [
              "<pre style=\"white-space:pre;overflow-x:auto;line-height:normal;font-family:Menlo,'DejaVu Sans Mono',consolas,'Courier New',monospace\"><span style=\"color: #008080; text-decoration-color: #008080; font-weight: bold\">🚀 Crew: crew</span>\n",
              "├── <span style=\"color: #008000; text-decoration-color: #008000; font-weight: bold\">📋 Task: bcf4ba67-2cd5-45cd-9a30-27a6a5611dcf</span>\n",
              "│   <span style=\"color: #c0c0c0; text-decoration-color: #c0c0c0\">   Assigned to: </span><span style=\"color: #008000; text-decoration-color: #008000\">Search Query Generator Agent</span>\n",
              "│   <span style=\"color: #c0c0c0; text-decoration-color: #c0c0c0\">   Status: </span><span style=\"color: #008000; text-decoration-color: #008000; font-weight: bold\">✅ Completed</span>\n",
              "│   └── <span style=\"color: #008000; text-decoration-color: #008000; font-weight: bold\">🤖 Agent: </span><span style=\"color: #008000; text-decoration-color: #008000\">Search Query Generator Agent</span>\n",
              "│       <span style=\"color: #c0c0c0; text-decoration-color: #c0c0c0\">    Status: </span><span style=\"color: #008000; text-decoration-color: #008000; font-weight: bold\">✅ Completed</span>\n",
              "└── <span style=\"color: #008000; text-decoration-color: #008000; font-weight: bold\">📋 Task: 38bdebe6-607d-447b-a60f-f2de84f4cfb9</span>\n",
              "    <span style=\"color: #c0c0c0; text-decoration-color: #c0c0c0\">   Assigned to: </span><span style=\"color: #008000; text-decoration-color: #008000\">Search Engine Agent</span>\n",
              "    <span style=\"color: #c0c0c0; text-decoration-color: #c0c0c0\">   Status: </span><span style=\"color: #008000; text-decoration-color: #008000; font-weight: bold\">✅ Completed</span>\n",
              "    └── <span style=\"color: #008000; text-decoration-color: #008000; font-weight: bold\">🤖 Agent: </span><span style=\"color: #008000; text-decoration-color: #008000\">Search Engine Agent</span>\n",
              "        <span style=\"color: #c0c0c0; text-decoration-color: #c0c0c0\">    Status: </span><span style=\"color: #008000; text-decoration-color: #008000; font-weight: bold\">✅ Completed</span>\n",
              "        ├── <span style=\"color: #008000; text-decoration-color: #008000; font-weight: bold\">🔧 </span><span style=\"color: #008000; text-decoration-color: #008000\">Used search_engine_tool (1)</span>\n",
              "        └── <span style=\"color: #008000; text-decoration-color: #008000; font-weight: bold\">🔧 </span><span style=\"color: #008000; text-decoration-color: #008000\">Used Search the internet with Serper (1)</span>\n",
              "</pre>\n"
            ]
          },
          "metadata": {}
        },
        {
          "output_type": "display_data",
          "data": {
            "text/plain": [
              "\u001b[32m╭─\u001b[0m\u001b[32m───────────────────────────────────────────────\u001b[0m\u001b[32m Task Completion \u001b[0m\u001b[32m───────────────────────────────────────────────\u001b[0m\u001b[32m─╮\u001b[0m\n",
              "\u001b[32m│\u001b[0m                                                                                                                 \u001b[32m│\u001b[0m\n",
              "\u001b[32m│\u001b[0m  \u001b[1;32mTask Completed\u001b[0m                                                                                                 \u001b[32m│\u001b[0m\n",
              "\u001b[32m│\u001b[0m  \u001b[37mName: \u001b[0m\u001b[32m38bdebe6-607d-447b-a60f-f2de84f4cfb9\u001b[0m                                                                     \u001b[32m│\u001b[0m\n",
              "\u001b[32m│\u001b[0m  \u001b[37mAgent: \u001b[0m\u001b[32mSearch Engine Agent\u001b[0m                                                                                     \u001b[32m│\u001b[0m\n",
              "\u001b[32m│\u001b[0m                                                                                                                 \u001b[32m│\u001b[0m\n",
              "\u001b[32m│\u001b[0m                                                                                                                 \u001b[32m│\u001b[0m\n",
              "\u001b[32m╰─────────────────────────────────────────────────────────────────────────────────────────────────────────────────╯\u001b[0m\n"
            ],
            "text/html": [
              "<pre style=\"white-space:pre;overflow-x:auto;line-height:normal;font-family:Menlo,'DejaVu Sans Mono',consolas,'Courier New',monospace\"><span style=\"color: #008000; text-decoration-color: #008000\">╭──────────────────────────────────────────────── Task Completion ────────────────────────────────────────────────╮</span>\n",
              "<span style=\"color: #008000; text-decoration-color: #008000\">│</span>                                                                                                                 <span style=\"color: #008000; text-decoration-color: #008000\">│</span>\n",
              "<span style=\"color: #008000; text-decoration-color: #008000\">│</span>  <span style=\"color: #008000; text-decoration-color: #008000; font-weight: bold\">Task Completed</span>                                                                                                 <span style=\"color: #008000; text-decoration-color: #008000\">│</span>\n",
              "<span style=\"color: #008000; text-decoration-color: #008000\">│</span>  <span style=\"color: #c0c0c0; text-decoration-color: #c0c0c0\">Name: </span><span style=\"color: #008000; text-decoration-color: #008000\">38bdebe6-607d-447b-a60f-f2de84f4cfb9</span>                                                                     <span style=\"color: #008000; text-decoration-color: #008000\">│</span>\n",
              "<span style=\"color: #008000; text-decoration-color: #008000\">│</span>  <span style=\"color: #c0c0c0; text-decoration-color: #c0c0c0\">Agent: </span><span style=\"color: #008000; text-decoration-color: #008000\">Search Engine Agent</span>                                                                                     <span style=\"color: #008000; text-decoration-color: #008000\">│</span>\n",
              "<span style=\"color: #008000; text-decoration-color: #008000\">│</span>                                                                                                                 <span style=\"color: #008000; text-decoration-color: #008000\">│</span>\n",
              "<span style=\"color: #008000; text-decoration-color: #008000\">│</span>                                                                                                                 <span style=\"color: #008000; text-decoration-color: #008000\">│</span>\n",
              "<span style=\"color: #008000; text-decoration-color: #008000\">╰─────────────────────────────────────────────────────────────────────────────────────────────────────────────────╯</span>\n",
              "</pre>\n"
            ]
          },
          "metadata": {}
        },
        {
          "output_type": "display_data",
          "data": {
            "text/plain": [
              "\n"
            ],
            "text/html": [
              "<pre style=\"white-space:pre;overflow-x:auto;line-height:normal;font-family:Menlo,'DejaVu Sans Mono',consolas,'Courier New',monospace\">\n",
              "</pre>\n"
            ]
          },
          "metadata": {}
        },
        {
          "output_type": "display_data",
          "data": {
            "text/plain": [
              "\u001b[1;36m🚀 Crew: \u001b[0m\u001b[1;36mcrew\u001b[0m\n",
              "├── \u001b[1;32m📋 Task: bcf4ba67-2cd5-45cd-9a30-27a6a5611dcf\u001b[0m\n",
              "│   \u001b[37m   Assigned to: \u001b[0m\u001b[32mSearch Query Generator Agent\u001b[0m\n",
              "│   \u001b[37m   Status: \u001b[0m\u001b[1;32m✅ Completed\u001b[0m\n",
              "│   └── \u001b[1;32m🤖 Agent: \u001b[0m\u001b[32mSearch Query Generator Agent\u001b[0m\n",
              "│       \u001b[37m    Status: \u001b[0m\u001b[1;32m✅ Completed\u001b[0m\n",
              "├── \u001b[1;32m📋 Task: 38bdebe6-607d-447b-a60f-f2de84f4cfb9\u001b[0m\n",
              "│   \u001b[37m   Assigned to: \u001b[0m\u001b[32mSearch Engine Agent\u001b[0m\n",
              "│   \u001b[37m   Status: \u001b[0m\u001b[1;32m✅ Completed\u001b[0m\n",
              "│   └── \u001b[1;32m🤖 Agent: \u001b[0m\u001b[32mSearch Engine Agent\u001b[0m\n",
              "│       \u001b[37m    Status: \u001b[0m\u001b[1;32m✅ Completed\u001b[0m\n",
              "│       ├── \u001b[1;32m🔧 \u001b[0m\u001b[32mUsed search_engine_tool (1)\u001b[0m\n",
              "│       └── \u001b[1;32m🔧 \u001b[0m\u001b[32mUsed Search the internet with Serper (1)\u001b[0m\n",
              "└── \u001b[1;33m📋 Task: 4c154cff-ef90-4456-82cd-0f69096b13fa\u001b[0m\n",
              "    \u001b[37m   Status: \u001b[0m\u001b[2;33mExecuting Task...\u001b[0m\n"
            ],
            "text/html": [
              "<pre style=\"white-space:pre;overflow-x:auto;line-height:normal;font-family:Menlo,'DejaVu Sans Mono',consolas,'Courier New',monospace\"><span style=\"color: #008080; text-decoration-color: #008080; font-weight: bold\">🚀 Crew: crew</span>\n",
              "├── <span style=\"color: #008000; text-decoration-color: #008000; font-weight: bold\">📋 Task: bcf4ba67-2cd5-45cd-9a30-27a6a5611dcf</span>\n",
              "│   <span style=\"color: #c0c0c0; text-decoration-color: #c0c0c0\">   Assigned to: </span><span style=\"color: #008000; text-decoration-color: #008000\">Search Query Generator Agent</span>\n",
              "│   <span style=\"color: #c0c0c0; text-decoration-color: #c0c0c0\">   Status: </span><span style=\"color: #008000; text-decoration-color: #008000; font-weight: bold\">✅ Completed</span>\n",
              "│   └── <span style=\"color: #008000; text-decoration-color: #008000; font-weight: bold\">🤖 Agent: </span><span style=\"color: #008000; text-decoration-color: #008000\">Search Query Generator Agent</span>\n",
              "│       <span style=\"color: #c0c0c0; text-decoration-color: #c0c0c0\">    Status: </span><span style=\"color: #008000; text-decoration-color: #008000; font-weight: bold\">✅ Completed</span>\n",
              "├── <span style=\"color: #008000; text-decoration-color: #008000; font-weight: bold\">📋 Task: 38bdebe6-607d-447b-a60f-f2de84f4cfb9</span>\n",
              "│   <span style=\"color: #c0c0c0; text-decoration-color: #c0c0c0\">   Assigned to: </span><span style=\"color: #008000; text-decoration-color: #008000\">Search Engine Agent</span>\n",
              "│   <span style=\"color: #c0c0c0; text-decoration-color: #c0c0c0\">   Status: </span><span style=\"color: #008000; text-decoration-color: #008000; font-weight: bold\">✅ Completed</span>\n",
              "│   └── <span style=\"color: #008000; text-decoration-color: #008000; font-weight: bold\">🤖 Agent: </span><span style=\"color: #008000; text-decoration-color: #008000\">Search Engine Agent</span>\n",
              "│       <span style=\"color: #c0c0c0; text-decoration-color: #c0c0c0\">    Status: </span><span style=\"color: #008000; text-decoration-color: #008000; font-weight: bold\">✅ Completed</span>\n",
              "│       ├── <span style=\"color: #008000; text-decoration-color: #008000; font-weight: bold\">🔧 </span><span style=\"color: #008000; text-decoration-color: #008000\">Used search_engine_tool (1)</span>\n",
              "│       └── <span style=\"color: #008000; text-decoration-color: #008000; font-weight: bold\">🔧 </span><span style=\"color: #008000; text-decoration-color: #008000\">Used Search the internet with Serper (1)</span>\n",
              "└── <span style=\"color: #808000; text-decoration-color: #808000; font-weight: bold\">📋 Task: 4c154cff-ef90-4456-82cd-0f69096b13fa</span>\n",
              "    <span style=\"color: #c0c0c0; text-decoration-color: #c0c0c0\">   Status: </span><span style=\"color: #bfbf7f; text-decoration-color: #bfbf7f\">Executing Task...</span>\n",
              "</pre>\n"
            ]
          },
          "metadata": {}
        },
        {
          "output_type": "display_data",
          "data": {
            "text/plain": [
              "\n"
            ],
            "text/html": [
              "<pre style=\"white-space:pre;overflow-x:auto;line-height:normal;font-family:Menlo,'DejaVu Sans Mono',consolas,'Courier New',monospace\">\n",
              "</pre>\n"
            ]
          },
          "metadata": {}
        },
        {
          "output_type": "display_data",
          "data": {
            "text/plain": [
              "\u001b[1;36m🚀 Crew: \u001b[0m\u001b[1;36mcrew\u001b[0m\n",
              "├── \u001b[1;32m📋 Task: bcf4ba67-2cd5-45cd-9a30-27a6a5611dcf\u001b[0m\n",
              "│   \u001b[37m   Assigned to: \u001b[0m\u001b[32mSearch Query Generator Agent\u001b[0m\n",
              "│   \u001b[37m   Status: \u001b[0m\u001b[1;32m✅ Completed\u001b[0m\n",
              "│   └── \u001b[1;32m🤖 Agent: \u001b[0m\u001b[32mSearch Query Generator Agent\u001b[0m\n",
              "│       \u001b[37m    Status: \u001b[0m\u001b[1;32m✅ Completed\u001b[0m\n",
              "├── \u001b[1;32m📋 Task: 38bdebe6-607d-447b-a60f-f2de84f4cfb9\u001b[0m\n",
              "│   \u001b[37m   Assigned to: \u001b[0m\u001b[32mSearch Engine Agent\u001b[0m\n",
              "│   \u001b[37m   Status: \u001b[0m\u001b[1;32m✅ Completed\u001b[0m\n",
              "│   └── \u001b[1;32m🤖 Agent: \u001b[0m\u001b[32mSearch Engine Agent\u001b[0m\n",
              "│       \u001b[37m    Status: \u001b[0m\u001b[1;32m✅ Completed\u001b[0m\n",
              "│       ├── \u001b[1;32m🔧 \u001b[0m\u001b[32mUsed search_engine_tool (1)\u001b[0m\n",
              "│       └── \u001b[1;32m🔧 \u001b[0m\u001b[32mUsed Search the internet with Serper (1)\u001b[0m\n",
              "└── \u001b[1;33m📋 Task: 4c154cff-ef90-4456-82cd-0f69096b13fa\u001b[0m\n",
              "    \u001b[37m   Status: \u001b[0m\u001b[2;33mExecuting Task...\u001b[0m\n",
              "    └── \u001b[1;32m🤖 Agent: \u001b[0m\u001b[32mWeb Scraping Agent\u001b[0m\n",
              "        \u001b[37m    Status: \u001b[0m\u001b[1;32mIn Progress\u001b[0m\n"
            ],
            "text/html": [
              "<pre style=\"white-space:pre;overflow-x:auto;line-height:normal;font-family:Menlo,'DejaVu Sans Mono',consolas,'Courier New',monospace\"><span style=\"color: #008080; text-decoration-color: #008080; font-weight: bold\">🚀 Crew: crew</span>\n",
              "├── <span style=\"color: #008000; text-decoration-color: #008000; font-weight: bold\">📋 Task: bcf4ba67-2cd5-45cd-9a30-27a6a5611dcf</span>\n",
              "│   <span style=\"color: #c0c0c0; text-decoration-color: #c0c0c0\">   Assigned to: </span><span style=\"color: #008000; text-decoration-color: #008000\">Search Query Generator Agent</span>\n",
              "│   <span style=\"color: #c0c0c0; text-decoration-color: #c0c0c0\">   Status: </span><span style=\"color: #008000; text-decoration-color: #008000; font-weight: bold\">✅ Completed</span>\n",
              "│   └── <span style=\"color: #008000; text-decoration-color: #008000; font-weight: bold\">🤖 Agent: </span><span style=\"color: #008000; text-decoration-color: #008000\">Search Query Generator Agent</span>\n",
              "│       <span style=\"color: #c0c0c0; text-decoration-color: #c0c0c0\">    Status: </span><span style=\"color: #008000; text-decoration-color: #008000; font-weight: bold\">✅ Completed</span>\n",
              "├── <span style=\"color: #008000; text-decoration-color: #008000; font-weight: bold\">📋 Task: 38bdebe6-607d-447b-a60f-f2de84f4cfb9</span>\n",
              "│   <span style=\"color: #c0c0c0; text-decoration-color: #c0c0c0\">   Assigned to: </span><span style=\"color: #008000; text-decoration-color: #008000\">Search Engine Agent</span>\n",
              "│   <span style=\"color: #c0c0c0; text-decoration-color: #c0c0c0\">   Status: </span><span style=\"color: #008000; text-decoration-color: #008000; font-weight: bold\">✅ Completed</span>\n",
              "│   └── <span style=\"color: #008000; text-decoration-color: #008000; font-weight: bold\">🤖 Agent: </span><span style=\"color: #008000; text-decoration-color: #008000\">Search Engine Agent</span>\n",
              "│       <span style=\"color: #c0c0c0; text-decoration-color: #c0c0c0\">    Status: </span><span style=\"color: #008000; text-decoration-color: #008000; font-weight: bold\">✅ Completed</span>\n",
              "│       ├── <span style=\"color: #008000; text-decoration-color: #008000; font-weight: bold\">🔧 </span><span style=\"color: #008000; text-decoration-color: #008000\">Used search_engine_tool (1)</span>\n",
              "│       └── <span style=\"color: #008000; text-decoration-color: #008000; font-weight: bold\">🔧 </span><span style=\"color: #008000; text-decoration-color: #008000\">Used Search the internet with Serper (1)</span>\n",
              "└── <span style=\"color: #808000; text-decoration-color: #808000; font-weight: bold\">📋 Task: 4c154cff-ef90-4456-82cd-0f69096b13fa</span>\n",
              "    <span style=\"color: #c0c0c0; text-decoration-color: #c0c0c0\">   Status: </span><span style=\"color: #bfbf7f; text-decoration-color: #bfbf7f\">Executing Task...</span>\n",
              "    └── <span style=\"color: #008000; text-decoration-color: #008000; font-weight: bold\">🤖 Agent: </span><span style=\"color: #008000; text-decoration-color: #008000\">Web Scraping Agent</span>\n",
              "        <span style=\"color: #c0c0c0; text-decoration-color: #c0c0c0\">    Status: </span><span style=\"color: #008000; text-decoration-color: #008000; font-weight: bold\">In Progress</span>\n",
              "</pre>\n"
            ]
          },
          "metadata": {}
        },
        {
          "output_type": "display_data",
          "data": {
            "text/plain": [
              "\n"
            ],
            "text/html": [
              "<pre style=\"white-space:pre;overflow-x:auto;line-height:normal;font-family:Menlo,'DejaVu Sans Mono',consolas,'Courier New',monospace\">\n",
              "</pre>\n"
            ]
          },
          "metadata": {}
        },
        {
          "output_type": "stream",
          "name": "stdout",
          "text": [
            "\u001b[1m\u001b[95m# Agent:\u001b[00m \u001b[1m\u001b[92mWeb Scraping Agent\u001b[00m\n",
            "\u001b[95m## Task:\u001b[00m \u001b[92mExtract hotel package details including hotel name, price, rating, reviews, meals, and activities from any booking hotel page url.\n",
            "The task has to collect results from multiple pages urls.\n",
            "Collect the best top recommendations hotels from the search results.\u001b[00m\n"
          ]
        },
        {
          "output_type": "display_data",
          "data": {
            "text/plain": [
              "\u001b[1;36m🚀 Crew: \u001b[0m\u001b[1;36mcrew\u001b[0m\n",
              "├── \u001b[1;32m📋 Task: bcf4ba67-2cd5-45cd-9a30-27a6a5611dcf\u001b[0m\n",
              "│   \u001b[37m   Assigned to: \u001b[0m\u001b[32mSearch Query Generator Agent\u001b[0m\n",
              "│   \u001b[37m   Status: \u001b[0m\u001b[1;32m✅ Completed\u001b[0m\n",
              "│   └── \u001b[1;32m🤖 Agent: \u001b[0m\u001b[32mSearch Query Generator Agent\u001b[0m\n",
              "│       \u001b[37m    Status: \u001b[0m\u001b[1;32m✅ Completed\u001b[0m\n",
              "├── \u001b[1;32m📋 Task: 38bdebe6-607d-447b-a60f-f2de84f4cfb9\u001b[0m\n",
              "│   \u001b[37m   Assigned to: \u001b[0m\u001b[32mSearch Engine Agent\u001b[0m\n",
              "│   \u001b[37m   Status: \u001b[0m\u001b[1;32m✅ Completed\u001b[0m\n",
              "│   └── \u001b[1;32m🤖 Agent: \u001b[0m\u001b[32mSearch Engine Agent\u001b[0m\n",
              "│       \u001b[37m    Status: \u001b[0m\u001b[1;32m✅ Completed\u001b[0m\n",
              "│       ├── \u001b[1;32m🔧 \u001b[0m\u001b[32mUsed search_engine_tool (1)\u001b[0m\n",
              "│       └── \u001b[1;32m🔧 \u001b[0m\u001b[32mUsed Search the internet with Serper (1)\u001b[0m\n",
              "└── \u001b[1;33m📋 Task: 4c154cff-ef90-4456-82cd-0f69096b13fa\u001b[0m\n",
              "    \u001b[37m   Status: \u001b[0m\u001b[2;33mExecuting Task...\u001b[0m\n",
              "    └── \u001b[1;32m🤖 Agent: \u001b[0m\u001b[32mWeb Scraping Agent\u001b[0m\n",
              "        \u001b[37m    Status: \u001b[0m\u001b[1;32mIn Progress\u001b[0m\n",
              "        └── \u001b[1;34m🧠 \u001b[0m\u001b[34mThinking...\u001b[0m\n"
            ],
            "text/html": [
              "<pre style=\"white-space:pre;overflow-x:auto;line-height:normal;font-family:Menlo,'DejaVu Sans Mono',consolas,'Courier New',monospace\"><span style=\"color: #008080; text-decoration-color: #008080; font-weight: bold\">🚀 Crew: crew</span>\n",
              "├── <span style=\"color: #008000; text-decoration-color: #008000; font-weight: bold\">📋 Task: bcf4ba67-2cd5-45cd-9a30-27a6a5611dcf</span>\n",
              "│   <span style=\"color: #c0c0c0; text-decoration-color: #c0c0c0\">   Assigned to: </span><span style=\"color: #008000; text-decoration-color: #008000\">Search Query Generator Agent</span>\n",
              "│   <span style=\"color: #c0c0c0; text-decoration-color: #c0c0c0\">   Status: </span><span style=\"color: #008000; text-decoration-color: #008000; font-weight: bold\">✅ Completed</span>\n",
              "│   └── <span style=\"color: #008000; text-decoration-color: #008000; font-weight: bold\">🤖 Agent: </span><span style=\"color: #008000; text-decoration-color: #008000\">Search Query Generator Agent</span>\n",
              "│       <span style=\"color: #c0c0c0; text-decoration-color: #c0c0c0\">    Status: </span><span style=\"color: #008000; text-decoration-color: #008000; font-weight: bold\">✅ Completed</span>\n",
              "├── <span style=\"color: #008000; text-decoration-color: #008000; font-weight: bold\">📋 Task: 38bdebe6-607d-447b-a60f-f2de84f4cfb9</span>\n",
              "│   <span style=\"color: #c0c0c0; text-decoration-color: #c0c0c0\">   Assigned to: </span><span style=\"color: #008000; text-decoration-color: #008000\">Search Engine Agent</span>\n",
              "│   <span style=\"color: #c0c0c0; text-decoration-color: #c0c0c0\">   Status: </span><span style=\"color: #008000; text-decoration-color: #008000; font-weight: bold\">✅ Completed</span>\n",
              "│   └── <span style=\"color: #008000; text-decoration-color: #008000; font-weight: bold\">🤖 Agent: </span><span style=\"color: #008000; text-decoration-color: #008000\">Search Engine Agent</span>\n",
              "│       <span style=\"color: #c0c0c0; text-decoration-color: #c0c0c0\">    Status: </span><span style=\"color: #008000; text-decoration-color: #008000; font-weight: bold\">✅ Completed</span>\n",
              "│       ├── <span style=\"color: #008000; text-decoration-color: #008000; font-weight: bold\">🔧 </span><span style=\"color: #008000; text-decoration-color: #008000\">Used search_engine_tool (1)</span>\n",
              "│       └── <span style=\"color: #008000; text-decoration-color: #008000; font-weight: bold\">🔧 </span><span style=\"color: #008000; text-decoration-color: #008000\">Used Search the internet with Serper (1)</span>\n",
              "└── <span style=\"color: #808000; text-decoration-color: #808000; font-weight: bold\">📋 Task: 4c154cff-ef90-4456-82cd-0f69096b13fa</span>\n",
              "    <span style=\"color: #c0c0c0; text-decoration-color: #c0c0c0\">   Status: </span><span style=\"color: #bfbf7f; text-decoration-color: #bfbf7f\">Executing Task...</span>\n",
              "    └── <span style=\"color: #008000; text-decoration-color: #008000; font-weight: bold\">🤖 Agent: </span><span style=\"color: #008000; text-decoration-color: #008000\">Web Scraping Agent</span>\n",
              "        <span style=\"color: #c0c0c0; text-decoration-color: #c0c0c0\">    Status: </span><span style=\"color: #008000; text-decoration-color: #008000; font-weight: bold\">In Progress</span>\n",
              "        └── <span style=\"color: #000080; text-decoration-color: #000080; font-weight: bold\">🧠 </span><span style=\"color: #000080; text-decoration-color: #000080\">Thinking...</span>\n",
              "</pre>\n"
            ]
          },
          "metadata": {}
        },
        {
          "output_type": "display_data",
          "data": {
            "text/plain": [
              "\n"
            ],
            "text/html": [
              "<pre style=\"white-space:pre;overflow-x:auto;line-height:normal;font-family:Menlo,'DejaVu Sans Mono',consolas,'Courier New',monospace\">\n",
              "</pre>\n"
            ]
          },
          "metadata": {}
        },
        {
          "output_type": "stream",
          "name": "stderr",
          "text": [
            "\u001b[92m01:14:18 - LiteLLM:WARNING\u001b[0m: utils.py:428 - `litellm.set_verbose` is deprecated. Please set `os.environ['LITELLM_LOG'] = 'DEBUG'` for debug logs.\n",
            "WARNING:LiteLLM:`litellm.set_verbose` is deprecated. Please set `os.environ['LITELLM_LOG'] = 'DEBUG'` for debug logs.\n"
          ]
        },
        {
          "output_type": "stream",
          "name": "stdout",
          "text": [
            "Initialized litellm callbacks, Async Success Callbacks: [<crewai.utilities.token_counter_callback.TokenCalcHandler object at 0x7c0798b21950>]\n",
            "SYNC kwargs[caching]: False; litellm.cache: None; kwargs.get('cache')['no-cache']: False\n",
            "Final returned optional params: {'temperature': 0, 'stream': False, 'stop': ['\\nObservation:'], 'extra_body': {}}\n",
            "RAW RESPONSE:\n",
            "{\"id\": \"chatcmpl-BCymAVDiZrdIM0VE7y5zpT8j2ZpN3\", \"choices\": [{\"finish_reason\": \"stop\", \"index\": 0, \"logprobs\": null, \"message\": {\"content\": \"To extract the required hotel package details, I will use the web_scraping_tool to scrape the necessary information from the provided booking hotel page URLs. I will start by scraping the first page URL.\\n\\nAction: web_scraping_tool\\nAction Input: {\\\"page_url\\\": \\\"https://www.booking.com/family/city/eg/luxor.html\\\"}\", \"refusal\": null, \"role\": \"assistant\", \"audio\": null, \"function_call\": null, \"tool_calls\": null, \"annotations\": []}}], \"created\": 1742433258, \"model\": \"gpt-4o-2024-08-06\", \"object\": \"chat.completion\", \"service_tier\": \"default\", \"system_fingerprint\": \"fp_6ec83003ad\", \"usage\": {\"completion_tokens\": 71, \"prompt_tokens\": 569, \"total_tokens\": 640, \"completion_tokens_details\": {\"accepted_prediction_tokens\": 0, \"audio_tokens\": 0, \"reasoning_tokens\": 0, \"rejected_prediction_tokens\": 0}, \"prompt_tokens_details\": {\"audio_tokens\": 0, \"cached_tokens\": 0}}}\n",
            "\n",
            "\n"
          ]
        },
        {
          "output_type": "display_data",
          "data": {
            "text/plain": [
              "\u001b[1;36m🚀 Crew: \u001b[0m\u001b[1;36mcrew\u001b[0m\n",
              "├── \u001b[1;32m📋 Task: bcf4ba67-2cd5-45cd-9a30-27a6a5611dcf\u001b[0m\n",
              "│   \u001b[37m   Assigned to: \u001b[0m\u001b[32mSearch Query Generator Agent\u001b[0m\n",
              "│   \u001b[37m   Status: \u001b[0m\u001b[1;32m✅ Completed\u001b[0m\n",
              "│   └── \u001b[1;32m🤖 Agent: \u001b[0m\u001b[32mSearch Query Generator Agent\u001b[0m\n",
              "│       \u001b[37m    Status: \u001b[0m\u001b[1;32m✅ Completed\u001b[0m\n",
              "├── \u001b[1;32m📋 Task: 38bdebe6-607d-447b-a60f-f2de84f4cfb9\u001b[0m\n",
              "│   \u001b[37m   Assigned to: \u001b[0m\u001b[32mSearch Engine Agent\u001b[0m\n",
              "│   \u001b[37m   Status: \u001b[0m\u001b[1;32m✅ Completed\u001b[0m\n",
              "│   └── \u001b[1;32m🤖 Agent: \u001b[0m\u001b[32mSearch Engine Agent\u001b[0m\n",
              "│       \u001b[37m    Status: \u001b[0m\u001b[1;32m✅ Completed\u001b[0m\n",
              "│       ├── \u001b[1;32m🔧 \u001b[0m\u001b[32mUsed search_engine_tool (1)\u001b[0m\n",
              "│       └── \u001b[1;32m🔧 \u001b[0m\u001b[32mUsed Search the internet with Serper (1)\u001b[0m\n",
              "└── \u001b[1;33m📋 Task: 4c154cff-ef90-4456-82cd-0f69096b13fa\u001b[0m\n",
              "    \u001b[37m   Status: \u001b[0m\u001b[2;33mExecuting Task...\u001b[0m\n",
              "    └── \u001b[1;32m🤖 Agent: \u001b[0m\u001b[32mWeb Scraping Agent\u001b[0m\n",
              "        \u001b[37m    Status: \u001b[0m\u001b[1;32mIn Progress\u001b[0m\n"
            ],
            "text/html": [
              "<pre style=\"white-space:pre;overflow-x:auto;line-height:normal;font-family:Menlo,'DejaVu Sans Mono',consolas,'Courier New',monospace\"><span style=\"color: #008080; text-decoration-color: #008080; font-weight: bold\">🚀 Crew: crew</span>\n",
              "├── <span style=\"color: #008000; text-decoration-color: #008000; font-weight: bold\">📋 Task: bcf4ba67-2cd5-45cd-9a30-27a6a5611dcf</span>\n",
              "│   <span style=\"color: #c0c0c0; text-decoration-color: #c0c0c0\">   Assigned to: </span><span style=\"color: #008000; text-decoration-color: #008000\">Search Query Generator Agent</span>\n",
              "│   <span style=\"color: #c0c0c0; text-decoration-color: #c0c0c0\">   Status: </span><span style=\"color: #008000; text-decoration-color: #008000; font-weight: bold\">✅ Completed</span>\n",
              "│   └── <span style=\"color: #008000; text-decoration-color: #008000; font-weight: bold\">🤖 Agent: </span><span style=\"color: #008000; text-decoration-color: #008000\">Search Query Generator Agent</span>\n",
              "│       <span style=\"color: #c0c0c0; text-decoration-color: #c0c0c0\">    Status: </span><span style=\"color: #008000; text-decoration-color: #008000; font-weight: bold\">✅ Completed</span>\n",
              "├── <span style=\"color: #008000; text-decoration-color: #008000; font-weight: bold\">📋 Task: 38bdebe6-607d-447b-a60f-f2de84f4cfb9</span>\n",
              "│   <span style=\"color: #c0c0c0; text-decoration-color: #c0c0c0\">   Assigned to: </span><span style=\"color: #008000; text-decoration-color: #008000\">Search Engine Agent</span>\n",
              "│   <span style=\"color: #c0c0c0; text-decoration-color: #c0c0c0\">   Status: </span><span style=\"color: #008000; text-decoration-color: #008000; font-weight: bold\">✅ Completed</span>\n",
              "│   └── <span style=\"color: #008000; text-decoration-color: #008000; font-weight: bold\">🤖 Agent: </span><span style=\"color: #008000; text-decoration-color: #008000\">Search Engine Agent</span>\n",
              "│       <span style=\"color: #c0c0c0; text-decoration-color: #c0c0c0\">    Status: </span><span style=\"color: #008000; text-decoration-color: #008000; font-weight: bold\">✅ Completed</span>\n",
              "│       ├── <span style=\"color: #008000; text-decoration-color: #008000; font-weight: bold\">🔧 </span><span style=\"color: #008000; text-decoration-color: #008000\">Used search_engine_tool (1)</span>\n",
              "│       └── <span style=\"color: #008000; text-decoration-color: #008000; font-weight: bold\">🔧 </span><span style=\"color: #008000; text-decoration-color: #008000\">Used Search the internet with Serper (1)</span>\n",
              "└── <span style=\"color: #808000; text-decoration-color: #808000; font-weight: bold\">📋 Task: 4c154cff-ef90-4456-82cd-0f69096b13fa</span>\n",
              "    <span style=\"color: #c0c0c0; text-decoration-color: #c0c0c0\">   Status: </span><span style=\"color: #bfbf7f; text-decoration-color: #bfbf7f\">Executing Task...</span>\n",
              "    └── <span style=\"color: #008000; text-decoration-color: #008000; font-weight: bold\">🤖 Agent: </span><span style=\"color: #008000; text-decoration-color: #008000\">Web Scraping Agent</span>\n",
              "        <span style=\"color: #c0c0c0; text-decoration-color: #c0c0c0\">    Status: </span><span style=\"color: #008000; text-decoration-color: #008000; font-weight: bold\">In Progress</span>\n",
              "</pre>\n"
            ]
          },
          "metadata": {}
        },
        {
          "output_type": "display_data",
          "data": {
            "text/plain": [
              "\n"
            ],
            "text/html": [
              "<pre style=\"white-space:pre;overflow-x:auto;line-height:normal;font-family:Menlo,'DejaVu Sans Mono',consolas,'Courier New',monospace\">\n",
              "</pre>\n"
            ]
          },
          "metadata": {}
        },
        {
          "output_type": "display_data",
          "data": {
            "text/plain": [
              "\u001b[1;36m🚀 Crew: \u001b[0m\u001b[1;36mcrew\u001b[0m\n",
              "├── \u001b[1;32m📋 Task: bcf4ba67-2cd5-45cd-9a30-27a6a5611dcf\u001b[0m\n",
              "│   \u001b[37m   Assigned to: \u001b[0m\u001b[32mSearch Query Generator Agent\u001b[0m\n",
              "│   \u001b[37m   Status: \u001b[0m\u001b[1;32m✅ Completed\u001b[0m\n",
              "│   └── \u001b[1;32m🤖 Agent: \u001b[0m\u001b[32mSearch Query Generator Agent\u001b[0m\n",
              "│       \u001b[37m    Status: \u001b[0m\u001b[1;32m✅ Completed\u001b[0m\n",
              "├── \u001b[1;32m📋 Task: 38bdebe6-607d-447b-a60f-f2de84f4cfb9\u001b[0m\n",
              "│   \u001b[37m   Assigned to: \u001b[0m\u001b[32mSearch Engine Agent\u001b[0m\n",
              "│   \u001b[37m   Status: \u001b[0m\u001b[1;32m✅ Completed\u001b[0m\n",
              "│   └── \u001b[1;32m🤖 Agent: \u001b[0m\u001b[32mSearch Engine Agent\u001b[0m\n",
              "│       \u001b[37m    Status: \u001b[0m\u001b[1;32m✅ Completed\u001b[0m\n",
              "│       ├── \u001b[1;32m🔧 \u001b[0m\u001b[32mUsed search_engine_tool (1)\u001b[0m\n",
              "│       └── \u001b[1;32m🔧 \u001b[0m\u001b[32mUsed Search the internet with Serper (1)\u001b[0m\n",
              "└── \u001b[1;33m📋 Task: 4c154cff-ef90-4456-82cd-0f69096b13fa\u001b[0m\n",
              "    \u001b[37m   Status: \u001b[0m\u001b[2;33mExecuting Task...\u001b[0m\n",
              "    └── \u001b[1;32m🤖 Agent: \u001b[0m\u001b[32mWeb Scraping Agent\u001b[0m\n",
              "        \u001b[37m    Status: \u001b[0m\u001b[1;32mIn Progress\u001b[0m\n",
              "        └── \u001b[1;33m🔧 \u001b[0m\u001b[33mUsing web_scraping_tool (1)\u001b[0m\n"
            ],
            "text/html": [
              "<pre style=\"white-space:pre;overflow-x:auto;line-height:normal;font-family:Menlo,'DejaVu Sans Mono',consolas,'Courier New',monospace\"><span style=\"color: #008080; text-decoration-color: #008080; font-weight: bold\">🚀 Crew: crew</span>\n",
              "├── <span style=\"color: #008000; text-decoration-color: #008000; font-weight: bold\">📋 Task: bcf4ba67-2cd5-45cd-9a30-27a6a5611dcf</span>\n",
              "│   <span style=\"color: #c0c0c0; text-decoration-color: #c0c0c0\">   Assigned to: </span><span style=\"color: #008000; text-decoration-color: #008000\">Search Query Generator Agent</span>\n",
              "│   <span style=\"color: #c0c0c0; text-decoration-color: #c0c0c0\">   Status: </span><span style=\"color: #008000; text-decoration-color: #008000; font-weight: bold\">✅ Completed</span>\n",
              "│   └── <span style=\"color: #008000; text-decoration-color: #008000; font-weight: bold\">🤖 Agent: </span><span style=\"color: #008000; text-decoration-color: #008000\">Search Query Generator Agent</span>\n",
              "│       <span style=\"color: #c0c0c0; text-decoration-color: #c0c0c0\">    Status: </span><span style=\"color: #008000; text-decoration-color: #008000; font-weight: bold\">✅ Completed</span>\n",
              "├── <span style=\"color: #008000; text-decoration-color: #008000; font-weight: bold\">📋 Task: 38bdebe6-607d-447b-a60f-f2de84f4cfb9</span>\n",
              "│   <span style=\"color: #c0c0c0; text-decoration-color: #c0c0c0\">   Assigned to: </span><span style=\"color: #008000; text-decoration-color: #008000\">Search Engine Agent</span>\n",
              "│   <span style=\"color: #c0c0c0; text-decoration-color: #c0c0c0\">   Status: </span><span style=\"color: #008000; text-decoration-color: #008000; font-weight: bold\">✅ Completed</span>\n",
              "│   └── <span style=\"color: #008000; text-decoration-color: #008000; font-weight: bold\">🤖 Agent: </span><span style=\"color: #008000; text-decoration-color: #008000\">Search Engine Agent</span>\n",
              "│       <span style=\"color: #c0c0c0; text-decoration-color: #c0c0c0\">    Status: </span><span style=\"color: #008000; text-decoration-color: #008000; font-weight: bold\">✅ Completed</span>\n",
              "│       ├── <span style=\"color: #008000; text-decoration-color: #008000; font-weight: bold\">🔧 </span><span style=\"color: #008000; text-decoration-color: #008000\">Used search_engine_tool (1)</span>\n",
              "│       └── <span style=\"color: #008000; text-decoration-color: #008000; font-weight: bold\">🔧 </span><span style=\"color: #008000; text-decoration-color: #008000\">Used Search the internet with Serper (1)</span>\n",
              "└── <span style=\"color: #808000; text-decoration-color: #808000; font-weight: bold\">📋 Task: 4c154cff-ef90-4456-82cd-0f69096b13fa</span>\n",
              "    <span style=\"color: #c0c0c0; text-decoration-color: #c0c0c0\">   Status: </span><span style=\"color: #bfbf7f; text-decoration-color: #bfbf7f\">Executing Task...</span>\n",
              "    └── <span style=\"color: #008000; text-decoration-color: #008000; font-weight: bold\">🤖 Agent: </span><span style=\"color: #008000; text-decoration-color: #008000\">Web Scraping Agent</span>\n",
              "        <span style=\"color: #c0c0c0; text-decoration-color: #c0c0c0\">    Status: </span><span style=\"color: #008000; text-decoration-color: #008000; font-weight: bold\">In Progress</span>\n",
              "        └── <span style=\"color: #808000; text-decoration-color: #808000; font-weight: bold\">🔧 </span><span style=\"color: #808000; text-decoration-color: #808000\">Using web_scraping_tool (1)</span>\n",
              "</pre>\n"
            ]
          },
          "metadata": {}
        },
        {
          "output_type": "display_data",
          "data": {
            "text/plain": [
              "\n"
            ],
            "text/html": [
              "<pre style=\"white-space:pre;overflow-x:auto;line-height:normal;font-family:Menlo,'DejaVu Sans Mono',consolas,'Courier New',monospace\">\n",
              "</pre>\n"
            ]
          },
          "metadata": {}
        },
        {
          "output_type": "stream",
          "name": "stderr",
          "text": [
            "<ipython-input-20-80e746201a31>:37: PydanticDeprecatedSince20: The `schema_json` method is deprecated; use `model_json_schema` and json.dumps instead. Deprecated in Pydantic V2.0 to be removed in V3.0. See Pydantic V2 Migration Guide at https://errors.pydantic.dev/2.10/migration/\n",
            "  user_prompt=f\"Extract ```json\\n\" + TripPackageDetails.schema_json() + \"```\\n From the web page\"\n"
          ]
        },
        {
          "output_type": "stream",
          "name": "stdout",
          "text": [
            "⏱️ Scraping https://www.booking.com/family/city/eg/luxor.html completed in 6.07 seconds\n"
          ]
        },
        {
          "output_type": "display_data",
          "data": {
            "text/plain": [
              "\u001b[1;36m🚀 Crew: \u001b[0m\u001b[1;36mcrew\u001b[0m\n",
              "├── \u001b[1;32m📋 Task: bcf4ba67-2cd5-45cd-9a30-27a6a5611dcf\u001b[0m\n",
              "│   \u001b[37m   Assigned to: \u001b[0m\u001b[32mSearch Query Generator Agent\u001b[0m\n",
              "│   \u001b[37m   Status: \u001b[0m\u001b[1;32m✅ Completed\u001b[0m\n",
              "│   └── \u001b[1;32m🤖 Agent: \u001b[0m\u001b[32mSearch Query Generator Agent\u001b[0m\n",
              "│       \u001b[37m    Status: \u001b[0m\u001b[1;32m✅ Completed\u001b[0m\n",
              "├── \u001b[1;32m📋 Task: 38bdebe6-607d-447b-a60f-f2de84f4cfb9\u001b[0m\n",
              "│   \u001b[37m   Assigned to: \u001b[0m\u001b[32mSearch Engine Agent\u001b[0m\n",
              "│   \u001b[37m   Status: \u001b[0m\u001b[1;32m✅ Completed\u001b[0m\n",
              "│   └── \u001b[1;32m🤖 Agent: \u001b[0m\u001b[32mSearch Engine Agent\u001b[0m\n",
              "│       \u001b[37m    Status: \u001b[0m\u001b[1;32m✅ Completed\u001b[0m\n",
              "│       ├── \u001b[1;32m🔧 \u001b[0m\u001b[32mUsed search_engine_tool (1)\u001b[0m\n",
              "│       └── \u001b[1;32m🔧 \u001b[0m\u001b[32mUsed Search the internet with Serper (1)\u001b[0m\n",
              "└── \u001b[1;33m📋 Task: 4c154cff-ef90-4456-82cd-0f69096b13fa\u001b[0m\n",
              "    \u001b[37m   Status: \u001b[0m\u001b[2;33mExecuting Task...\u001b[0m\n",
              "    └── \u001b[1;32m🤖 Agent: \u001b[0m\u001b[32mWeb Scraping Agent\u001b[0m\n",
              "        \u001b[37m    Status: \u001b[0m\u001b[1;32mIn Progress\u001b[0m\n",
              "        └── \u001b[1;32m🔧 \u001b[0m\u001b[32mUsed web_scraping_tool (1)\u001b[0m\n"
            ],
            "text/html": [
              "<pre style=\"white-space:pre;overflow-x:auto;line-height:normal;font-family:Menlo,'DejaVu Sans Mono',consolas,'Courier New',monospace\"><span style=\"color: #008080; text-decoration-color: #008080; font-weight: bold\">🚀 Crew: crew</span>\n",
              "├── <span style=\"color: #008000; text-decoration-color: #008000; font-weight: bold\">📋 Task: bcf4ba67-2cd5-45cd-9a30-27a6a5611dcf</span>\n",
              "│   <span style=\"color: #c0c0c0; text-decoration-color: #c0c0c0\">   Assigned to: </span><span style=\"color: #008000; text-decoration-color: #008000\">Search Query Generator Agent</span>\n",
              "│   <span style=\"color: #c0c0c0; text-decoration-color: #c0c0c0\">   Status: </span><span style=\"color: #008000; text-decoration-color: #008000; font-weight: bold\">✅ Completed</span>\n",
              "│   └── <span style=\"color: #008000; text-decoration-color: #008000; font-weight: bold\">🤖 Agent: </span><span style=\"color: #008000; text-decoration-color: #008000\">Search Query Generator Agent</span>\n",
              "│       <span style=\"color: #c0c0c0; text-decoration-color: #c0c0c0\">    Status: </span><span style=\"color: #008000; text-decoration-color: #008000; font-weight: bold\">✅ Completed</span>\n",
              "├── <span style=\"color: #008000; text-decoration-color: #008000; font-weight: bold\">📋 Task: 38bdebe6-607d-447b-a60f-f2de84f4cfb9</span>\n",
              "│   <span style=\"color: #c0c0c0; text-decoration-color: #c0c0c0\">   Assigned to: </span><span style=\"color: #008000; text-decoration-color: #008000\">Search Engine Agent</span>\n",
              "│   <span style=\"color: #c0c0c0; text-decoration-color: #c0c0c0\">   Status: </span><span style=\"color: #008000; text-decoration-color: #008000; font-weight: bold\">✅ Completed</span>\n",
              "│   └── <span style=\"color: #008000; text-decoration-color: #008000; font-weight: bold\">🤖 Agent: </span><span style=\"color: #008000; text-decoration-color: #008000\">Search Engine Agent</span>\n",
              "│       <span style=\"color: #c0c0c0; text-decoration-color: #c0c0c0\">    Status: </span><span style=\"color: #008000; text-decoration-color: #008000; font-weight: bold\">✅ Completed</span>\n",
              "│       ├── <span style=\"color: #008000; text-decoration-color: #008000; font-weight: bold\">🔧 </span><span style=\"color: #008000; text-decoration-color: #008000\">Used search_engine_tool (1)</span>\n",
              "│       └── <span style=\"color: #008000; text-decoration-color: #008000; font-weight: bold\">🔧 </span><span style=\"color: #008000; text-decoration-color: #008000\">Used Search the internet with Serper (1)</span>\n",
              "└── <span style=\"color: #808000; text-decoration-color: #808000; font-weight: bold\">📋 Task: 4c154cff-ef90-4456-82cd-0f69096b13fa</span>\n",
              "    <span style=\"color: #c0c0c0; text-decoration-color: #c0c0c0\">   Status: </span><span style=\"color: #bfbf7f; text-decoration-color: #bfbf7f\">Executing Task...</span>\n",
              "    └── <span style=\"color: #008000; text-decoration-color: #008000; font-weight: bold\">🤖 Agent: </span><span style=\"color: #008000; text-decoration-color: #008000\">Web Scraping Agent</span>\n",
              "        <span style=\"color: #c0c0c0; text-decoration-color: #c0c0c0\">    Status: </span><span style=\"color: #008000; text-decoration-color: #008000; font-weight: bold\">In Progress</span>\n",
              "        └── <span style=\"color: #008000; text-decoration-color: #008000; font-weight: bold\">🔧 </span><span style=\"color: #008000; text-decoration-color: #008000\">Used web_scraping_tool (1)</span>\n",
              "</pre>\n"
            ]
          },
          "metadata": {}
        },
        {
          "output_type": "display_data",
          "data": {
            "text/plain": [
              "\n"
            ],
            "text/html": [
              "<pre style=\"white-space:pre;overflow-x:auto;line-height:normal;font-family:Menlo,'DejaVu Sans Mono',consolas,'Courier New',monospace\">\n",
              "</pre>\n"
            ]
          },
          "metadata": {}
        },
        {
          "output_type": "stream",
          "name": "stdout",
          "text": [
            "\n",
            "\n",
            "\u001b[1m\u001b[95m# Agent:\u001b[00m \u001b[1m\u001b[92mWeb Scraping Agent\u001b[00m\n",
            "\u001b[95m## Thought:\u001b[00m \u001b[92mTo extract the required hotel package details, I will use the web_scraping_tool to scrape the necessary information from the provided booking hotel page URLs. I will start by scraping the first page URL.\u001b[00m\n",
            "\u001b[95m## Using tool:\u001b[00m \u001b[92mweb_scraping_tool\u001b[00m\n",
            "\u001b[95m## Tool Input:\u001b[00m \u001b[92m\n",
            "\"{\\\"page_url\\\": \\\"https://www.booking.com/family/city/eg/luxor.html\\\"}\"\u001b[00m\n",
            "\u001b[95m## Tool Output:\u001b[00m \u001b[92m\n",
            "{'page_url': 'https://www.booking.com/family/city/eg/luxor.html', 'details': {'request_id': '2df8221d-54a7-4268-8361-37a47031e58b', 'status': 'completed', 'website_url': 'https://www.booking.com/family/city/eg/luxor.html', 'user_prompt': 'Extract ```json\\n{\"$defs\": {\"HotelSpec\": {\"properties\": {\"specification_name\": {\"title\": \"Specification Name\", \"type\": \"string\"}, \"specification_value\": {\"title\": \"Specification Value\", \"type\": \"string\"}}, \"required\": [\"specification_name\", \"specification_value\"], \"title\": \"HotelSpec\", \"type\": \"object\"}}, \"properties\": {\"page_url\": {\"title\": \"The page URL of the hotel page\", \"type\": \"string\"}, \"hotel_name\": {\"title\": \"The name of the hotel\", \"type\": \"string\"}, \"hotel_description\": {\"title\": \"A brief description of the hotel\", \"type\": \"string\"}, \"hotel_address\": {\"title\": \"The address of the hotel\", \"type\": \"string\"}, \"location\": {\"title\": \"The location of the hotel\", \"type\": \"string\"}, \"rating\": {\"default\": null, \"title\": \"The rating of the hotel based on reviews\", \"type\": \"number\"}, \"reviews\": {\"default\": null, \"title\": \"The number of reviews for the hotel\", \"type\": \"integer\"}, \"price\": {\"default\": null, \"title\": \"The price of the hotel package\", \"type\": \"number\"}, \"currency\": {\"default\": null, \"title\": \"The currency of the price\", \"type\": \"string\"}, \"included_meals\": {\"default\": null, \"title\": \"The meals included in the package\", \"type\": \"string\"}, \"excluded_meals\": {\"default\": null, \"title\": \"The meals excluded from the package\", \"type\": \"string\"}, \"facilities\": {\"default\": null, \"title\": \"The facilities which the hotel provides to their guests\", \"type\": \"string\"}, \"product_specs\": {\"items\": {\"$ref\": \"#/$defs/HotelSpec\"}, \"maxItems\": 5, \"minItems\": 1, \"title\": \"The specifications of the hotel. Focus on the most important specs to compare.\", \"type\": \"array\"}, \"agent_recommendation_rank\": {\"title\": \"The rank of the hotel to be considered in the final procurement report. (out of 5, Higher is Better) in the recommendation list ordering from the best to the worst\", \"type\": \"integer\"}, \"agent_recommendation_notes\": {\"items\": {\"type\": \"string\"}, \"title\": \"A set of notes why would you recommend or not recommend this hotel to the traveller, compared to other hotels.\", \"type\": \"array\"}}, \"required\": [\"page_url\", \"hotel_name\", \"hotel_description\", \"hotel_address\", \"location\", \"product_specs\", \"agent_recommendation_rank\", \"agent_recommendation_notes\"], \"title\": \"TripPackageDetails\", \"type\": \"object\"}```\\n From the web page', 'result': {'page_url': '', 'hotel_name': '', 'hotel_description': '', 'hotel_address': '', 'location': '', 'rating': None, 'reviews': None, 'price': None, 'currency': None, 'included_meals': None, 'excluded_meals': None, 'facilities': None, 'product_specs': [], 'agent_recommendation_rank': 0, 'agent_recommendation_notes': []}, 'error': ''}}\u001b[00m\n"
          ]
        },
        {
          "output_type": "display_data",
          "data": {
            "text/plain": [
              "\u001b[1;36m🚀 Crew: \u001b[0m\u001b[1;36mcrew\u001b[0m\n",
              "├── \u001b[1;32m📋 Task: bcf4ba67-2cd5-45cd-9a30-27a6a5611dcf\u001b[0m\n",
              "│   \u001b[37m   Assigned to: \u001b[0m\u001b[32mSearch Query Generator Agent\u001b[0m\n",
              "│   \u001b[37m   Status: \u001b[0m\u001b[1;32m✅ Completed\u001b[0m\n",
              "│   └── \u001b[1;32m🤖 Agent: \u001b[0m\u001b[32mSearch Query Generator Agent\u001b[0m\n",
              "│       \u001b[37m    Status: \u001b[0m\u001b[1;32m✅ Completed\u001b[0m\n",
              "├── \u001b[1;32m📋 Task: 38bdebe6-607d-447b-a60f-f2de84f4cfb9\u001b[0m\n",
              "│   \u001b[37m   Assigned to: \u001b[0m\u001b[32mSearch Engine Agent\u001b[0m\n",
              "│   \u001b[37m   Status: \u001b[0m\u001b[1;32m✅ Completed\u001b[0m\n",
              "│   └── \u001b[1;32m🤖 Agent: \u001b[0m\u001b[32mSearch Engine Agent\u001b[0m\n",
              "│       \u001b[37m    Status: \u001b[0m\u001b[1;32m✅ Completed\u001b[0m\n",
              "│       ├── \u001b[1;32m🔧 \u001b[0m\u001b[32mUsed search_engine_tool (1)\u001b[0m\n",
              "│       └── \u001b[1;32m🔧 \u001b[0m\u001b[32mUsed Search the internet with Serper (1)\u001b[0m\n",
              "└── \u001b[1;33m📋 Task: 4c154cff-ef90-4456-82cd-0f69096b13fa\u001b[0m\n",
              "    \u001b[37m   Status: \u001b[0m\u001b[2;33mExecuting Task...\u001b[0m\n",
              "    └── \u001b[1;32m🤖 Agent: \u001b[0m\u001b[32mWeb Scraping Agent\u001b[0m\n",
              "        \u001b[37m    Status: \u001b[0m\u001b[1;32mIn Progress\u001b[0m\n",
              "        ├── \u001b[1;32m🔧 \u001b[0m\u001b[32mUsed web_scraping_tool (1)\u001b[0m\n",
              "        └── \u001b[1;34m🧠 \u001b[0m\u001b[34mThinking...\u001b[0m\n"
            ],
            "text/html": [
              "<pre style=\"white-space:pre;overflow-x:auto;line-height:normal;font-family:Menlo,'DejaVu Sans Mono',consolas,'Courier New',monospace\"><span style=\"color: #008080; text-decoration-color: #008080; font-weight: bold\">🚀 Crew: crew</span>\n",
              "├── <span style=\"color: #008000; text-decoration-color: #008000; font-weight: bold\">📋 Task: bcf4ba67-2cd5-45cd-9a30-27a6a5611dcf</span>\n",
              "│   <span style=\"color: #c0c0c0; text-decoration-color: #c0c0c0\">   Assigned to: </span><span style=\"color: #008000; text-decoration-color: #008000\">Search Query Generator Agent</span>\n",
              "│   <span style=\"color: #c0c0c0; text-decoration-color: #c0c0c0\">   Status: </span><span style=\"color: #008000; text-decoration-color: #008000; font-weight: bold\">✅ Completed</span>\n",
              "│   └── <span style=\"color: #008000; text-decoration-color: #008000; font-weight: bold\">🤖 Agent: </span><span style=\"color: #008000; text-decoration-color: #008000\">Search Query Generator Agent</span>\n",
              "│       <span style=\"color: #c0c0c0; text-decoration-color: #c0c0c0\">    Status: </span><span style=\"color: #008000; text-decoration-color: #008000; font-weight: bold\">✅ Completed</span>\n",
              "├── <span style=\"color: #008000; text-decoration-color: #008000; font-weight: bold\">📋 Task: 38bdebe6-607d-447b-a60f-f2de84f4cfb9</span>\n",
              "│   <span style=\"color: #c0c0c0; text-decoration-color: #c0c0c0\">   Assigned to: </span><span style=\"color: #008000; text-decoration-color: #008000\">Search Engine Agent</span>\n",
              "│   <span style=\"color: #c0c0c0; text-decoration-color: #c0c0c0\">   Status: </span><span style=\"color: #008000; text-decoration-color: #008000; font-weight: bold\">✅ Completed</span>\n",
              "│   └── <span style=\"color: #008000; text-decoration-color: #008000; font-weight: bold\">🤖 Agent: </span><span style=\"color: #008000; text-decoration-color: #008000\">Search Engine Agent</span>\n",
              "│       <span style=\"color: #c0c0c0; text-decoration-color: #c0c0c0\">    Status: </span><span style=\"color: #008000; text-decoration-color: #008000; font-weight: bold\">✅ Completed</span>\n",
              "│       ├── <span style=\"color: #008000; text-decoration-color: #008000; font-weight: bold\">🔧 </span><span style=\"color: #008000; text-decoration-color: #008000\">Used search_engine_tool (1)</span>\n",
              "│       └── <span style=\"color: #008000; text-decoration-color: #008000; font-weight: bold\">🔧 </span><span style=\"color: #008000; text-decoration-color: #008000\">Used Search the internet with Serper (1)</span>\n",
              "└── <span style=\"color: #808000; text-decoration-color: #808000; font-weight: bold\">📋 Task: 4c154cff-ef90-4456-82cd-0f69096b13fa</span>\n",
              "    <span style=\"color: #c0c0c0; text-decoration-color: #c0c0c0\">   Status: </span><span style=\"color: #bfbf7f; text-decoration-color: #bfbf7f\">Executing Task...</span>\n",
              "    └── <span style=\"color: #008000; text-decoration-color: #008000; font-weight: bold\">🤖 Agent: </span><span style=\"color: #008000; text-decoration-color: #008000\">Web Scraping Agent</span>\n",
              "        <span style=\"color: #c0c0c0; text-decoration-color: #c0c0c0\">    Status: </span><span style=\"color: #008000; text-decoration-color: #008000; font-weight: bold\">In Progress</span>\n",
              "        ├── <span style=\"color: #008000; text-decoration-color: #008000; font-weight: bold\">🔧 </span><span style=\"color: #008000; text-decoration-color: #008000\">Used web_scraping_tool (1)</span>\n",
              "        └── <span style=\"color: #000080; text-decoration-color: #000080; font-weight: bold\">🧠 </span><span style=\"color: #000080; text-decoration-color: #000080\">Thinking...</span>\n",
              "</pre>\n"
            ]
          },
          "metadata": {}
        },
        {
          "output_type": "display_data",
          "data": {
            "text/plain": [
              "\n"
            ],
            "text/html": [
              "<pre style=\"white-space:pre;overflow-x:auto;line-height:normal;font-family:Menlo,'DejaVu Sans Mono',consolas,'Courier New',monospace\">\n",
              "</pre>\n"
            ]
          },
          "metadata": {}
        },
        {
          "output_type": "stream",
          "name": "stderr",
          "text": [
            "\u001b[92m01:14:25 - LiteLLM:WARNING\u001b[0m: utils.py:428 - `litellm.set_verbose` is deprecated. Please set `os.environ['LITELLM_LOG'] = 'DEBUG'` for debug logs.\n",
            "WARNING:LiteLLM:`litellm.set_verbose` is deprecated. Please set `os.environ['LITELLM_LOG'] = 'DEBUG'` for debug logs.\n"
          ]
        },
        {
          "output_type": "stream",
          "name": "stdout",
          "text": [
            "Initialized litellm callbacks, Async Success Callbacks: [<crewai.utilities.token_counter_callback.TokenCalcHandler object at 0x7c0798b21950>]\n",
            "SYNC kwargs[caching]: False; litellm.cache: None; kwargs.get('cache')['no-cache']: False\n",
            "Final returned optional params: {'temperature': 0, 'stream': False, 'stop': ['\\nObservation:'], 'extra_body': {}}\n",
            "RAW RESPONSE:\n",
            "{\"id\": \"chatcmpl-BCymHbZ08Gg7mTSccxnEjnYdkN2u9\", \"choices\": [{\"finish_reason\": \"stop\", \"index\": 0, \"logprobs\": null, \"message\": {\"content\": \"The scraping attempt did not return the expected hotel details. I will attempt to scrape another page URL to gather the necessary information.\\n\\nAction: web_scraping_tool\\nAction Input: {\\\"page_url\\\": \\\"https://www.booking.com/family/city/eg/cairo.html\\\"}\", \"refusal\": null, \"role\": \"assistant\", \"audio\": null, \"function_call\": null, \"tool_calls\": null, \"annotations\": []}}], \"created\": 1742433265, \"model\": \"gpt-4o-2024-08-06\", \"object\": \"chat.completion\", \"service_tier\": \"default\", \"system_fingerprint\": \"fp_6ec83003ad\", \"usage\": {\"completion_tokens\": 55, \"prompt_tokens\": 1417, \"total_tokens\": 1472, \"completion_tokens_details\": {\"accepted_prediction_tokens\": 0, \"audio_tokens\": 0, \"reasoning_tokens\": 0, \"rejected_prediction_tokens\": 0}, \"prompt_tokens_details\": {\"audio_tokens\": 0, \"cached_tokens\": 0}}}\n",
            "\n",
            "\n"
          ]
        },
        {
          "output_type": "display_data",
          "data": {
            "text/plain": [
              "\u001b[1;36m🚀 Crew: \u001b[0m\u001b[1;36mcrew\u001b[0m\n",
              "├── \u001b[1;32m📋 Task: bcf4ba67-2cd5-45cd-9a30-27a6a5611dcf\u001b[0m\n",
              "│   \u001b[37m   Assigned to: \u001b[0m\u001b[32mSearch Query Generator Agent\u001b[0m\n",
              "│   \u001b[37m   Status: \u001b[0m\u001b[1;32m✅ Completed\u001b[0m\n",
              "│   └── \u001b[1;32m🤖 Agent: \u001b[0m\u001b[32mSearch Query Generator Agent\u001b[0m\n",
              "│       \u001b[37m    Status: \u001b[0m\u001b[1;32m✅ Completed\u001b[0m\n",
              "├── \u001b[1;32m📋 Task: 38bdebe6-607d-447b-a60f-f2de84f4cfb9\u001b[0m\n",
              "│   \u001b[37m   Assigned to: \u001b[0m\u001b[32mSearch Engine Agent\u001b[0m\n",
              "│   \u001b[37m   Status: \u001b[0m\u001b[1;32m✅ Completed\u001b[0m\n",
              "│   └── \u001b[1;32m🤖 Agent: \u001b[0m\u001b[32mSearch Engine Agent\u001b[0m\n",
              "│       \u001b[37m    Status: \u001b[0m\u001b[1;32m✅ Completed\u001b[0m\n",
              "│       ├── \u001b[1;32m🔧 \u001b[0m\u001b[32mUsed search_engine_tool (1)\u001b[0m\n",
              "│       └── \u001b[1;32m🔧 \u001b[0m\u001b[32mUsed Search the internet with Serper (1)\u001b[0m\n",
              "└── \u001b[1;33m📋 Task: 4c154cff-ef90-4456-82cd-0f69096b13fa\u001b[0m\n",
              "    \u001b[37m   Status: \u001b[0m\u001b[2;33mExecuting Task...\u001b[0m\n",
              "    └── \u001b[1;32m🤖 Agent: \u001b[0m\u001b[32mWeb Scraping Agent\u001b[0m\n",
              "        \u001b[37m    Status: \u001b[0m\u001b[1;32mIn Progress\u001b[0m\n",
              "        └── \u001b[1;32m🔧 \u001b[0m\u001b[32mUsed web_scraping_tool (1)\u001b[0m\n"
            ],
            "text/html": [
              "<pre style=\"white-space:pre;overflow-x:auto;line-height:normal;font-family:Menlo,'DejaVu Sans Mono',consolas,'Courier New',monospace\"><span style=\"color: #008080; text-decoration-color: #008080; font-weight: bold\">🚀 Crew: crew</span>\n",
              "├── <span style=\"color: #008000; text-decoration-color: #008000; font-weight: bold\">📋 Task: bcf4ba67-2cd5-45cd-9a30-27a6a5611dcf</span>\n",
              "│   <span style=\"color: #c0c0c0; text-decoration-color: #c0c0c0\">   Assigned to: </span><span style=\"color: #008000; text-decoration-color: #008000\">Search Query Generator Agent</span>\n",
              "│   <span style=\"color: #c0c0c0; text-decoration-color: #c0c0c0\">   Status: </span><span style=\"color: #008000; text-decoration-color: #008000; font-weight: bold\">✅ Completed</span>\n",
              "│   └── <span style=\"color: #008000; text-decoration-color: #008000; font-weight: bold\">🤖 Agent: </span><span style=\"color: #008000; text-decoration-color: #008000\">Search Query Generator Agent</span>\n",
              "│       <span style=\"color: #c0c0c0; text-decoration-color: #c0c0c0\">    Status: </span><span style=\"color: #008000; text-decoration-color: #008000; font-weight: bold\">✅ Completed</span>\n",
              "├── <span style=\"color: #008000; text-decoration-color: #008000; font-weight: bold\">📋 Task: 38bdebe6-607d-447b-a60f-f2de84f4cfb9</span>\n",
              "│   <span style=\"color: #c0c0c0; text-decoration-color: #c0c0c0\">   Assigned to: </span><span style=\"color: #008000; text-decoration-color: #008000\">Search Engine Agent</span>\n",
              "│   <span style=\"color: #c0c0c0; text-decoration-color: #c0c0c0\">   Status: </span><span style=\"color: #008000; text-decoration-color: #008000; font-weight: bold\">✅ Completed</span>\n",
              "│   └── <span style=\"color: #008000; text-decoration-color: #008000; font-weight: bold\">🤖 Agent: </span><span style=\"color: #008000; text-decoration-color: #008000\">Search Engine Agent</span>\n",
              "│       <span style=\"color: #c0c0c0; text-decoration-color: #c0c0c0\">    Status: </span><span style=\"color: #008000; text-decoration-color: #008000; font-weight: bold\">✅ Completed</span>\n",
              "│       ├── <span style=\"color: #008000; text-decoration-color: #008000; font-weight: bold\">🔧 </span><span style=\"color: #008000; text-decoration-color: #008000\">Used search_engine_tool (1)</span>\n",
              "│       └── <span style=\"color: #008000; text-decoration-color: #008000; font-weight: bold\">🔧 </span><span style=\"color: #008000; text-decoration-color: #008000\">Used Search the internet with Serper (1)</span>\n",
              "└── <span style=\"color: #808000; text-decoration-color: #808000; font-weight: bold\">📋 Task: 4c154cff-ef90-4456-82cd-0f69096b13fa</span>\n",
              "    <span style=\"color: #c0c0c0; text-decoration-color: #c0c0c0\">   Status: </span><span style=\"color: #bfbf7f; text-decoration-color: #bfbf7f\">Executing Task...</span>\n",
              "    └── <span style=\"color: #008000; text-decoration-color: #008000; font-weight: bold\">🤖 Agent: </span><span style=\"color: #008000; text-decoration-color: #008000\">Web Scraping Agent</span>\n",
              "        <span style=\"color: #c0c0c0; text-decoration-color: #c0c0c0\">    Status: </span><span style=\"color: #008000; text-decoration-color: #008000; font-weight: bold\">In Progress</span>\n",
              "        └── <span style=\"color: #008000; text-decoration-color: #008000; font-weight: bold\">🔧 </span><span style=\"color: #008000; text-decoration-color: #008000\">Used web_scraping_tool (1)</span>\n",
              "</pre>\n"
            ]
          },
          "metadata": {}
        },
        {
          "output_type": "display_data",
          "data": {
            "text/plain": [
              "\n"
            ],
            "text/html": [
              "<pre style=\"white-space:pre;overflow-x:auto;line-height:normal;font-family:Menlo,'DejaVu Sans Mono',consolas,'Courier New',monospace\">\n",
              "</pre>\n"
            ]
          },
          "metadata": {}
        },
        {
          "output_type": "display_data",
          "data": {
            "text/plain": [
              "\u001b[1;36m🚀 Crew: \u001b[0m\u001b[1;36mcrew\u001b[0m\n",
              "├── \u001b[1;32m📋 Task: bcf4ba67-2cd5-45cd-9a30-27a6a5611dcf\u001b[0m\n",
              "│   \u001b[37m   Assigned to: \u001b[0m\u001b[32mSearch Query Generator Agent\u001b[0m\n",
              "│   \u001b[37m   Status: \u001b[0m\u001b[1;32m✅ Completed\u001b[0m\n",
              "│   └── \u001b[1;32m🤖 Agent: \u001b[0m\u001b[32mSearch Query Generator Agent\u001b[0m\n",
              "│       \u001b[37m    Status: \u001b[0m\u001b[1;32m✅ Completed\u001b[0m\n",
              "├── \u001b[1;32m📋 Task: 38bdebe6-607d-447b-a60f-f2de84f4cfb9\u001b[0m\n",
              "│   \u001b[37m   Assigned to: \u001b[0m\u001b[32mSearch Engine Agent\u001b[0m\n",
              "│   \u001b[37m   Status: \u001b[0m\u001b[1;32m✅ Completed\u001b[0m\n",
              "│   └── \u001b[1;32m🤖 Agent: \u001b[0m\u001b[32mSearch Engine Agent\u001b[0m\n",
              "│       \u001b[37m    Status: \u001b[0m\u001b[1;32m✅ Completed\u001b[0m\n",
              "│       ├── \u001b[1;32m🔧 \u001b[0m\u001b[32mUsed search_engine_tool (1)\u001b[0m\n",
              "│       └── \u001b[1;32m🔧 \u001b[0m\u001b[32mUsed Search the internet with Serper (1)\u001b[0m\n",
              "└── \u001b[1;33m📋 Task: 4c154cff-ef90-4456-82cd-0f69096b13fa\u001b[0m\n",
              "    \u001b[37m   Status: \u001b[0m\u001b[2;33mExecuting Task...\u001b[0m\n",
              "    └── \u001b[1;32m🤖 Agent: \u001b[0m\u001b[32mWeb Scraping Agent\u001b[0m\n",
              "        \u001b[37m    Status: \u001b[0m\u001b[1;32mIn Progress\u001b[0m\n",
              "        └── \u001b[1;33m🔧 \u001b[0m\u001b[33mUsing web_scraping_tool (2)\u001b[0m\n"
            ],
            "text/html": [
              "<pre style=\"white-space:pre;overflow-x:auto;line-height:normal;font-family:Menlo,'DejaVu Sans Mono',consolas,'Courier New',monospace\"><span style=\"color: #008080; text-decoration-color: #008080; font-weight: bold\">🚀 Crew: crew</span>\n",
              "├── <span style=\"color: #008000; text-decoration-color: #008000; font-weight: bold\">📋 Task: bcf4ba67-2cd5-45cd-9a30-27a6a5611dcf</span>\n",
              "│   <span style=\"color: #c0c0c0; text-decoration-color: #c0c0c0\">   Assigned to: </span><span style=\"color: #008000; text-decoration-color: #008000\">Search Query Generator Agent</span>\n",
              "│   <span style=\"color: #c0c0c0; text-decoration-color: #c0c0c0\">   Status: </span><span style=\"color: #008000; text-decoration-color: #008000; font-weight: bold\">✅ Completed</span>\n",
              "│   └── <span style=\"color: #008000; text-decoration-color: #008000; font-weight: bold\">🤖 Agent: </span><span style=\"color: #008000; text-decoration-color: #008000\">Search Query Generator Agent</span>\n",
              "│       <span style=\"color: #c0c0c0; text-decoration-color: #c0c0c0\">    Status: </span><span style=\"color: #008000; text-decoration-color: #008000; font-weight: bold\">✅ Completed</span>\n",
              "├── <span style=\"color: #008000; text-decoration-color: #008000; font-weight: bold\">📋 Task: 38bdebe6-607d-447b-a60f-f2de84f4cfb9</span>\n",
              "│   <span style=\"color: #c0c0c0; text-decoration-color: #c0c0c0\">   Assigned to: </span><span style=\"color: #008000; text-decoration-color: #008000\">Search Engine Agent</span>\n",
              "│   <span style=\"color: #c0c0c0; text-decoration-color: #c0c0c0\">   Status: </span><span style=\"color: #008000; text-decoration-color: #008000; font-weight: bold\">✅ Completed</span>\n",
              "│   └── <span style=\"color: #008000; text-decoration-color: #008000; font-weight: bold\">🤖 Agent: </span><span style=\"color: #008000; text-decoration-color: #008000\">Search Engine Agent</span>\n",
              "│       <span style=\"color: #c0c0c0; text-decoration-color: #c0c0c0\">    Status: </span><span style=\"color: #008000; text-decoration-color: #008000; font-weight: bold\">✅ Completed</span>\n",
              "│       ├── <span style=\"color: #008000; text-decoration-color: #008000; font-weight: bold\">🔧 </span><span style=\"color: #008000; text-decoration-color: #008000\">Used search_engine_tool (1)</span>\n",
              "│       └── <span style=\"color: #008000; text-decoration-color: #008000; font-weight: bold\">🔧 </span><span style=\"color: #008000; text-decoration-color: #008000\">Used Search the internet with Serper (1)</span>\n",
              "└── <span style=\"color: #808000; text-decoration-color: #808000; font-weight: bold\">📋 Task: 4c154cff-ef90-4456-82cd-0f69096b13fa</span>\n",
              "    <span style=\"color: #c0c0c0; text-decoration-color: #c0c0c0\">   Status: </span><span style=\"color: #bfbf7f; text-decoration-color: #bfbf7f\">Executing Task...</span>\n",
              "    └── <span style=\"color: #008000; text-decoration-color: #008000; font-weight: bold\">🤖 Agent: </span><span style=\"color: #008000; text-decoration-color: #008000\">Web Scraping Agent</span>\n",
              "        <span style=\"color: #c0c0c0; text-decoration-color: #c0c0c0\">    Status: </span><span style=\"color: #008000; text-decoration-color: #008000; font-weight: bold\">In Progress</span>\n",
              "        └── <span style=\"color: #808000; text-decoration-color: #808000; font-weight: bold\">🔧 </span><span style=\"color: #808000; text-decoration-color: #808000\">Using web_scraping_tool (2)</span>\n",
              "</pre>\n"
            ]
          },
          "metadata": {}
        },
        {
          "output_type": "display_data",
          "data": {
            "text/plain": [
              "\n"
            ],
            "text/html": [
              "<pre style=\"white-space:pre;overflow-x:auto;line-height:normal;font-family:Menlo,'DejaVu Sans Mono',consolas,'Courier New',monospace\">\n",
              "</pre>\n"
            ]
          },
          "metadata": {}
        },
        {
          "output_type": "stream",
          "name": "stderr",
          "text": [
            "<ipython-input-20-80e746201a31>:37: PydanticDeprecatedSince20: The `schema_json` method is deprecated; use `model_json_schema` and json.dumps instead. Deprecated in Pydantic V2.0 to be removed in V3.0. See Pydantic V2 Migration Guide at https://errors.pydantic.dev/2.10/migration/\n",
            "  user_prompt=f\"Extract ```json\\n\" + TripPackageDetails.schema_json() + \"```\\n From the web page\"\n"
          ]
        },
        {
          "output_type": "stream",
          "name": "stdout",
          "text": [
            "⏱️ Scraping https://www.booking.com/family/city/eg/cairo.html completed in 23.99 seconds\n"
          ]
        },
        {
          "output_type": "display_data",
          "data": {
            "text/plain": [
              "\u001b[1;36m🚀 Crew: \u001b[0m\u001b[1;36mcrew\u001b[0m\n",
              "├── \u001b[1;32m📋 Task: bcf4ba67-2cd5-45cd-9a30-27a6a5611dcf\u001b[0m\n",
              "│   \u001b[37m   Assigned to: \u001b[0m\u001b[32mSearch Query Generator Agent\u001b[0m\n",
              "│   \u001b[37m   Status: \u001b[0m\u001b[1;32m✅ Completed\u001b[0m\n",
              "│   └── \u001b[1;32m🤖 Agent: \u001b[0m\u001b[32mSearch Query Generator Agent\u001b[0m\n",
              "│       \u001b[37m    Status: \u001b[0m\u001b[1;32m✅ Completed\u001b[0m\n",
              "├── \u001b[1;32m📋 Task: 38bdebe6-607d-447b-a60f-f2de84f4cfb9\u001b[0m\n",
              "│   \u001b[37m   Assigned to: \u001b[0m\u001b[32mSearch Engine Agent\u001b[0m\n",
              "│   \u001b[37m   Status: \u001b[0m\u001b[1;32m✅ Completed\u001b[0m\n",
              "│   └── \u001b[1;32m🤖 Agent: \u001b[0m\u001b[32mSearch Engine Agent\u001b[0m\n",
              "│       \u001b[37m    Status: \u001b[0m\u001b[1;32m✅ Completed\u001b[0m\n",
              "│       ├── \u001b[1;32m🔧 \u001b[0m\u001b[32mUsed search_engine_tool (1)\u001b[0m\n",
              "│       └── \u001b[1;32m🔧 \u001b[0m\u001b[32mUsed Search the internet with Serper (1)\u001b[0m\n",
              "└── \u001b[1;33m📋 Task: 4c154cff-ef90-4456-82cd-0f69096b13fa\u001b[0m\n",
              "    \u001b[37m   Status: \u001b[0m\u001b[2;33mExecuting Task...\u001b[0m\n",
              "    └── \u001b[1;32m🤖 Agent: \u001b[0m\u001b[32mWeb Scraping Agent\u001b[0m\n",
              "        \u001b[37m    Status: \u001b[0m\u001b[1;32mIn Progress\u001b[0m\n",
              "        └── \u001b[1;32m🔧 \u001b[0m\u001b[32mUsed web_scraping_tool (2)\u001b[0m\n"
            ],
            "text/html": [
              "<pre style=\"white-space:pre;overflow-x:auto;line-height:normal;font-family:Menlo,'DejaVu Sans Mono',consolas,'Courier New',monospace\"><span style=\"color: #008080; text-decoration-color: #008080; font-weight: bold\">🚀 Crew: crew</span>\n",
              "├── <span style=\"color: #008000; text-decoration-color: #008000; font-weight: bold\">📋 Task: bcf4ba67-2cd5-45cd-9a30-27a6a5611dcf</span>\n",
              "│   <span style=\"color: #c0c0c0; text-decoration-color: #c0c0c0\">   Assigned to: </span><span style=\"color: #008000; text-decoration-color: #008000\">Search Query Generator Agent</span>\n",
              "│   <span style=\"color: #c0c0c0; text-decoration-color: #c0c0c0\">   Status: </span><span style=\"color: #008000; text-decoration-color: #008000; font-weight: bold\">✅ Completed</span>\n",
              "│   └── <span style=\"color: #008000; text-decoration-color: #008000; font-weight: bold\">🤖 Agent: </span><span style=\"color: #008000; text-decoration-color: #008000\">Search Query Generator Agent</span>\n",
              "│       <span style=\"color: #c0c0c0; text-decoration-color: #c0c0c0\">    Status: </span><span style=\"color: #008000; text-decoration-color: #008000; font-weight: bold\">✅ Completed</span>\n",
              "├── <span style=\"color: #008000; text-decoration-color: #008000; font-weight: bold\">📋 Task: 38bdebe6-607d-447b-a60f-f2de84f4cfb9</span>\n",
              "│   <span style=\"color: #c0c0c0; text-decoration-color: #c0c0c0\">   Assigned to: </span><span style=\"color: #008000; text-decoration-color: #008000\">Search Engine Agent</span>\n",
              "│   <span style=\"color: #c0c0c0; text-decoration-color: #c0c0c0\">   Status: </span><span style=\"color: #008000; text-decoration-color: #008000; font-weight: bold\">✅ Completed</span>\n",
              "│   └── <span style=\"color: #008000; text-decoration-color: #008000; font-weight: bold\">🤖 Agent: </span><span style=\"color: #008000; text-decoration-color: #008000\">Search Engine Agent</span>\n",
              "│       <span style=\"color: #c0c0c0; text-decoration-color: #c0c0c0\">    Status: </span><span style=\"color: #008000; text-decoration-color: #008000; font-weight: bold\">✅ Completed</span>\n",
              "│       ├── <span style=\"color: #008000; text-decoration-color: #008000; font-weight: bold\">🔧 </span><span style=\"color: #008000; text-decoration-color: #008000\">Used search_engine_tool (1)</span>\n",
              "│       └── <span style=\"color: #008000; text-decoration-color: #008000; font-weight: bold\">🔧 </span><span style=\"color: #008000; text-decoration-color: #008000\">Used Search the internet with Serper (1)</span>\n",
              "└── <span style=\"color: #808000; text-decoration-color: #808000; font-weight: bold\">📋 Task: 4c154cff-ef90-4456-82cd-0f69096b13fa</span>\n",
              "    <span style=\"color: #c0c0c0; text-decoration-color: #c0c0c0\">   Status: </span><span style=\"color: #bfbf7f; text-decoration-color: #bfbf7f\">Executing Task...</span>\n",
              "    └── <span style=\"color: #008000; text-decoration-color: #008000; font-weight: bold\">🤖 Agent: </span><span style=\"color: #008000; text-decoration-color: #008000\">Web Scraping Agent</span>\n",
              "        <span style=\"color: #c0c0c0; text-decoration-color: #c0c0c0\">    Status: </span><span style=\"color: #008000; text-decoration-color: #008000; font-weight: bold\">In Progress</span>\n",
              "        └── <span style=\"color: #008000; text-decoration-color: #008000; font-weight: bold\">🔧 </span><span style=\"color: #008000; text-decoration-color: #008000\">Used web_scraping_tool (2)</span>\n",
              "</pre>\n"
            ]
          },
          "metadata": {}
        },
        {
          "output_type": "display_data",
          "data": {
            "text/plain": [
              "\n"
            ],
            "text/html": [
              "<pre style=\"white-space:pre;overflow-x:auto;line-height:normal;font-family:Menlo,'DejaVu Sans Mono',consolas,'Courier New',monospace\">\n",
              "</pre>\n"
            ]
          },
          "metadata": {}
        },
        {
          "output_type": "stream",
          "name": "stdout",
          "text": [
            "\n",
            "\n",
            "\u001b[1m\u001b[95m# Agent:\u001b[00m \u001b[1m\u001b[92mWeb Scraping Agent\u001b[00m\n",
            "\u001b[95m## Thought:\u001b[00m \u001b[92mThe scraping attempt did not return the expected hotel details. I will attempt to scrape another page URL to gather the necessary information.\u001b[00m\n",
            "\u001b[95m## Using tool:\u001b[00m \u001b[92mweb_scraping_tool\u001b[00m\n",
            "\u001b[95m## Tool Input:\u001b[00m \u001b[92m\n",
            "\"{\\\"page_url\\\": \\\"https://www.booking.com/family/city/eg/cairo.html\\\"}\"\u001b[00m\n",
            "\u001b[95m## Tool Output:\u001b[00m \u001b[92m\n",
            "{'page_url': 'https://www.booking.com/family/city/eg/cairo.html', 'details': {'request_id': '65fe53e6-a354-49bb-8d43-c12c53d2675f', 'status': 'completed', 'website_url': 'https://www.booking.com/family/city/eg/cairo.html', 'user_prompt': 'Extract ```json\\n{\"$defs\": {\"HotelSpec\": {\"properties\": {\"specification_name\": {\"title\": \"Specification Name\", \"type\": \"string\"}, \"specification_value\": {\"title\": \"Specification Value\", \"type\": \"string\"}}, \"required\": [\"specification_name\", \"specification_value\"], \"title\": \"HotelSpec\", \"type\": \"object\"}}, \"properties\": {\"page_url\": {\"title\": \"The page URL of the hotel page\", \"type\": \"string\"}, \"hotel_name\": {\"title\": \"The name of the hotel\", \"type\": \"string\"}, \"hotel_description\": {\"title\": \"A brief description of the hotel\", \"type\": \"string\"}, \"hotel_address\": {\"title\": \"The address of the hotel\", \"type\": \"string\"}, \"location\": {\"title\": \"The location of the hotel\", \"type\": \"string\"}, \"rating\": {\"default\": null, \"title\": \"The rating of the hotel based on reviews\", \"type\": \"number\"}, \"reviews\": {\"default\": null, \"title\": \"The number of reviews for the hotel\", \"type\": \"integer\"}, \"price\": {\"default\": null, \"title\": \"The price of the hotel package\", \"type\": \"number\"}, \"currency\": {\"default\": null, \"title\": \"The currency of the price\", \"type\": \"string\"}, \"included_meals\": {\"default\": null, \"title\": \"The meals included in the package\", \"type\": \"string\"}, \"excluded_meals\": {\"default\": null, \"title\": \"The meals excluded from the package\", \"type\": \"string\"}, \"facilities\": {\"default\": null, \"title\": \"The facilities which the hotel provides to their guests\", \"type\": \"string\"}, \"product_specs\": {\"items\": {\"$ref\": \"#/$defs/HotelSpec\"}, \"maxItems\": 5, \"minItems\": 1, \"title\": \"The specifications of the hotel. Focus on the most important specs to compare.\", \"type\": \"array\"}, \"agent_recommendation_rank\": {\"title\": \"The rank of the hotel to be considered in the final procurement report. (out of 5, Higher is Better) in the recommendation list ordering from the best to the worst\", \"type\": \"integer\"}, \"agent_recommendation_notes\": {\"items\": {\"type\": \"string\"}, \"title\": \"A set of notes why would you recommend or not recommend this hotel to the traveller, compared to other hotels.\", \"type\": \"array\"}}, \"required\": [\"page_url\", \"hotel_name\", \"hotel_description\", \"hotel_address\", \"location\", \"product_specs\", \"agent_recommendation_rank\", \"agent_recommendation_notes\"], \"title\": \"TripPackageDetails\", \"type\": \"object\"}```\\n From the web page', 'result': {'page_url': 'https://www.booking.com/index.html?label=gen173nr-1FCAMYBShDONsDSDNYBGgviAEBmAExuAEXyAEM2AEB6AEB-AECiAIBqAIDuAL-1-2-BsACAdICJGYxZGNkMDBhLTQ0MGYtNGU2Yy05YTVjLWZjODUwNjY2MjgwNtgCBeACAQ&sid=290b1d9d35cd6d82ae7654a7760448f8&click_from_logo=1', 'hotel_name': 'Steigenberger Hotel El Tahrir Cairo', 'hotel_description': 'Among Cairo hotels, Steigenberger El Tahrir secures a spectacular location in El Tahrir Square, overlooking the Egyptian museum, minutes away from Khan El Khalili Bazar, and in close proximity to...', 'hotel_address': 'Downtown Cairo, Cairo', 'location': 'Cairo', 'rating': 9.3, 'reviews': 12283, 'price': 114.332, 'currency': 'USD', 'included_meals': None, 'excluded_meals': None, 'facilities': 'bar, room service, restaurant, terrace', 'product_specs': [{'specification_name': 'Location', 'specification_value': 'El Tahrir Square, overlooking the Egyptian museum'}, {'specification_name': 'Proximity', 'specification_value': 'Minutes away from Khan El Khalili Bazar'}, {'specification_name': 'Amenities', 'specification_value': 'bar, room service, restaurant, terrace'}], 'agent_recommendation_rank': 5, 'agent_recommendation_notes': ['Spectacular location in El Tahrir Square', 'Close proximity to major attractions', 'High review score of 9.3', 'The hotel rooftop has a great view of the pyramids, and we enjoyed having a delicious dinner while watching the light show.', 'One of our rooms also had a view!', 'We really appreciated all the cold free drinking water too.']}, 'error': ''}}\u001b[00m\n"
          ]
        },
        {
          "output_type": "display_data",
          "data": {
            "text/plain": [
              "\u001b[1;36m🚀 Crew: \u001b[0m\u001b[1;36mcrew\u001b[0m\n",
              "├── \u001b[1;32m📋 Task: bcf4ba67-2cd5-45cd-9a30-27a6a5611dcf\u001b[0m\n",
              "│   \u001b[37m   Assigned to: \u001b[0m\u001b[32mSearch Query Generator Agent\u001b[0m\n",
              "│   \u001b[37m   Status: \u001b[0m\u001b[1;32m✅ Completed\u001b[0m\n",
              "│   └── \u001b[1;32m🤖 Agent: \u001b[0m\u001b[32mSearch Query Generator Agent\u001b[0m\n",
              "│       \u001b[37m    Status: \u001b[0m\u001b[1;32m✅ Completed\u001b[0m\n",
              "├── \u001b[1;32m📋 Task: 38bdebe6-607d-447b-a60f-f2de84f4cfb9\u001b[0m\n",
              "│   \u001b[37m   Assigned to: \u001b[0m\u001b[32mSearch Engine Agent\u001b[0m\n",
              "│   \u001b[37m   Status: \u001b[0m\u001b[1;32m✅ Completed\u001b[0m\n",
              "│   └── \u001b[1;32m🤖 Agent: \u001b[0m\u001b[32mSearch Engine Agent\u001b[0m\n",
              "│       \u001b[37m    Status: \u001b[0m\u001b[1;32m✅ Completed\u001b[0m\n",
              "│       ├── \u001b[1;32m🔧 \u001b[0m\u001b[32mUsed search_engine_tool (1)\u001b[0m\n",
              "│       └── \u001b[1;32m🔧 \u001b[0m\u001b[32mUsed Search the internet with Serper (1)\u001b[0m\n",
              "└── \u001b[1;33m📋 Task: 4c154cff-ef90-4456-82cd-0f69096b13fa\u001b[0m\n",
              "    \u001b[37m   Status: \u001b[0m\u001b[2;33mExecuting Task...\u001b[0m\n",
              "    └── \u001b[1;32m🤖 Agent: \u001b[0m\u001b[32mWeb Scraping Agent\u001b[0m\n",
              "        \u001b[37m    Status: \u001b[0m\u001b[1;32mIn Progress\u001b[0m\n",
              "        ├── \u001b[1;32m🔧 \u001b[0m\u001b[32mUsed web_scraping_tool (2)\u001b[0m\n",
              "        └── \u001b[1;34m🧠 \u001b[0m\u001b[34mThinking...\u001b[0m\n"
            ],
            "text/html": [
              "<pre style=\"white-space:pre;overflow-x:auto;line-height:normal;font-family:Menlo,'DejaVu Sans Mono',consolas,'Courier New',monospace\"><span style=\"color: #008080; text-decoration-color: #008080; font-weight: bold\">🚀 Crew: crew</span>\n",
              "├── <span style=\"color: #008000; text-decoration-color: #008000; font-weight: bold\">📋 Task: bcf4ba67-2cd5-45cd-9a30-27a6a5611dcf</span>\n",
              "│   <span style=\"color: #c0c0c0; text-decoration-color: #c0c0c0\">   Assigned to: </span><span style=\"color: #008000; text-decoration-color: #008000\">Search Query Generator Agent</span>\n",
              "│   <span style=\"color: #c0c0c0; text-decoration-color: #c0c0c0\">   Status: </span><span style=\"color: #008000; text-decoration-color: #008000; font-weight: bold\">✅ Completed</span>\n",
              "│   └── <span style=\"color: #008000; text-decoration-color: #008000; font-weight: bold\">🤖 Agent: </span><span style=\"color: #008000; text-decoration-color: #008000\">Search Query Generator Agent</span>\n",
              "│       <span style=\"color: #c0c0c0; text-decoration-color: #c0c0c0\">    Status: </span><span style=\"color: #008000; text-decoration-color: #008000; font-weight: bold\">✅ Completed</span>\n",
              "├── <span style=\"color: #008000; text-decoration-color: #008000; font-weight: bold\">📋 Task: 38bdebe6-607d-447b-a60f-f2de84f4cfb9</span>\n",
              "│   <span style=\"color: #c0c0c0; text-decoration-color: #c0c0c0\">   Assigned to: </span><span style=\"color: #008000; text-decoration-color: #008000\">Search Engine Agent</span>\n",
              "│   <span style=\"color: #c0c0c0; text-decoration-color: #c0c0c0\">   Status: </span><span style=\"color: #008000; text-decoration-color: #008000; font-weight: bold\">✅ Completed</span>\n",
              "│   └── <span style=\"color: #008000; text-decoration-color: #008000; font-weight: bold\">🤖 Agent: </span><span style=\"color: #008000; text-decoration-color: #008000\">Search Engine Agent</span>\n",
              "│       <span style=\"color: #c0c0c0; text-decoration-color: #c0c0c0\">    Status: </span><span style=\"color: #008000; text-decoration-color: #008000; font-weight: bold\">✅ Completed</span>\n",
              "│       ├── <span style=\"color: #008000; text-decoration-color: #008000; font-weight: bold\">🔧 </span><span style=\"color: #008000; text-decoration-color: #008000\">Used search_engine_tool (1)</span>\n",
              "│       └── <span style=\"color: #008000; text-decoration-color: #008000; font-weight: bold\">🔧 </span><span style=\"color: #008000; text-decoration-color: #008000\">Used Search the internet with Serper (1)</span>\n",
              "└── <span style=\"color: #808000; text-decoration-color: #808000; font-weight: bold\">📋 Task: 4c154cff-ef90-4456-82cd-0f69096b13fa</span>\n",
              "    <span style=\"color: #c0c0c0; text-decoration-color: #c0c0c0\">   Status: </span><span style=\"color: #bfbf7f; text-decoration-color: #bfbf7f\">Executing Task...</span>\n",
              "    └── <span style=\"color: #008000; text-decoration-color: #008000; font-weight: bold\">🤖 Agent: </span><span style=\"color: #008000; text-decoration-color: #008000\">Web Scraping Agent</span>\n",
              "        <span style=\"color: #c0c0c0; text-decoration-color: #c0c0c0\">    Status: </span><span style=\"color: #008000; text-decoration-color: #008000; font-weight: bold\">In Progress</span>\n",
              "        ├── <span style=\"color: #008000; text-decoration-color: #008000; font-weight: bold\">🔧 </span><span style=\"color: #008000; text-decoration-color: #008000\">Used web_scraping_tool (2)</span>\n",
              "        └── <span style=\"color: #000080; text-decoration-color: #000080; font-weight: bold\">🧠 </span><span style=\"color: #000080; text-decoration-color: #000080\">Thinking...</span>\n",
              "</pre>\n"
            ]
          },
          "metadata": {}
        },
        {
          "output_type": "display_data",
          "data": {
            "text/plain": [
              "\n"
            ],
            "text/html": [
              "<pre style=\"white-space:pre;overflow-x:auto;line-height:normal;font-family:Menlo,'DejaVu Sans Mono',consolas,'Courier New',monospace\">\n",
              "</pre>\n"
            ]
          },
          "metadata": {}
        },
        {
          "output_type": "stream",
          "name": "stderr",
          "text": [
            "\u001b[92m01:14:50 - LiteLLM:WARNING\u001b[0m: utils.py:428 - `litellm.set_verbose` is deprecated. Please set `os.environ['LITELLM_LOG'] = 'DEBUG'` for debug logs.\n",
            "WARNING:LiteLLM:`litellm.set_verbose` is deprecated. Please set `os.environ['LITELLM_LOG'] = 'DEBUG'` for debug logs.\n"
          ]
        },
        {
          "output_type": "stream",
          "name": "stdout",
          "text": [
            "Initialized litellm callbacks, Async Success Callbacks: [<crewai.utilities.token_counter_callback.TokenCalcHandler object at 0x7c0798b21950>]\n",
            "SYNC kwargs[caching]: False; litellm.cache: None; kwargs.get('cache')['no-cache']: False\n",
            "Final returned optional params: {'temperature': 0, 'stream': False, 'stop': ['\\nObservation:'], 'extra_body': {}}\n",
            "RAW RESPONSE:\n",
            "{\"id\": \"chatcmpl-BCymhPf7wsx2vK11dX0BANBI00aCu\", \"choices\": [{\"finish_reason\": \"stop\", \"index\": 0, \"logprobs\": null, \"message\": {\"content\": \"Thought: I have successfully extracted the hotel package details from the second page URL. I will now compile the information into the required JSON format.\\n\\nFinal Answer: {\\n  \\\"packages\\\": [\\n    {\\n      \\\"page_url\\\": \\\"https://www.booking.com/index.html?label=gen173nr-1FCAMYBShDONsDSDNYBGgviAEBmAExuAEXyAEM2AEB6AEB-AECiAIBqAIDuAL-1-2-BsACAdICJGYxZGNkMDBhLTQ0MGYtNGU2Yy05YTVjLWZjODUwNjY2MjgwNtgCBeACAQ&sid=290b1d9d35cd6d82ae7654a7760448f8&click_from_logo=1\\\",\\n      \\\"hotel_name\\\": \\\"Steigenberger Hotel El Tahrir Cairo\\\",\\n      \\\"hotel_description\\\": \\\"Among Cairo hotels, Steigenberger El Tahrir secures a spectacular location in El Tahrir Square, overlooking the Egyptian museum, minutes away from Khan El Khalili Bazar, and in close proximity to...\\\",\\n      \\\"hotel_address\\\": \\\"Downtown Cairo, Cairo\\\",\\n      \\\"location\\\": \\\"Cairo\\\",\\n      \\\"rating\\\": 9.3,\\n      \\\"reviews\\\": 12283,\\n      \\\"price\\\": 114.332,\\n      \\\"currency\\\": \\\"USD\\\",\\n      \\\"included_meals\\\": null,\\n      \\\"excluded_meals\\\": null,\\n      \\\"facilities\\\": \\\"bar, room service, restaurant, terrace\\\",\\n      \\\"product_specs\\\": [\\n        {\\n          \\\"specification_name\\\": \\\"Location\\\",\\n          \\\"specification_value\\\": \\\"El Tahrir Square, overlooking the Egyptian museum\\\"\\n        },\\n        {\\n          \\\"specification_name\\\": \\\"Proximity\\\",\\n          \\\"specification_value\\\": \\\"Minutes away from Khan El Khalili Bazar\\\"\\n        },\\n        {\\n          \\\"specification_name\\\": \\\"Amenities\\\",\\n          \\\"specification_value\\\": \\\"bar, room service, restaurant, terrace\\\"\\n        }\\n      ],\\n      \\\"agent_recommendation_rank\\\": 5,\\n      \\\"agent_recommendation_notes\\\": [\\n        \\\"Spectacular location in El Tahrir Square\\\",\\n        \\\"Close proximity to major attractions\\\",\\n        \\\"High review score of 9.3\\\",\\n        \\\"The hotel rooftop has a great view of the pyramids, and we enjoyed having a delicious dinner while watching the light show.\\\",\\n        \\\"One of our rooms also had a view!\\\",\\n        \\\"We really appreciated all the cold free drinking water too.\\\"\\n      ]\\n    }\\n  ]\\n}\", \"refusal\": null, \"role\": \"assistant\", \"audio\": null, \"function_call\": null, \"tool_calls\": null, \"annotations\": []}}], \"created\": 1742433291, \"model\": \"gpt-4o-2024-08-06\", \"object\": \"chat.completion\", \"service_tier\": \"default\", \"system_fingerprint\": \"fp_6ec83003ad\", \"usage\": {\"completion_tokens\": 536, \"prompt_tokens\": 2608, \"total_tokens\": 3144, \"completion_tokens_details\": {\"accepted_prediction_tokens\": 0, \"audio_tokens\": 0, \"reasoning_tokens\": 0, \"rejected_prediction_tokens\": 0}, \"prompt_tokens_details\": {\"audio_tokens\": 0, \"cached_tokens\": 1408}}}\n",
            "\n",
            "\n"
          ]
        },
        {
          "output_type": "display_data",
          "data": {
            "text/plain": [
              "\u001b[1;36m🚀 Crew: \u001b[0m\u001b[1;36mcrew\u001b[0m\n",
              "├── \u001b[1;32m📋 Task: bcf4ba67-2cd5-45cd-9a30-27a6a5611dcf\u001b[0m\n",
              "│   \u001b[37m   Assigned to: \u001b[0m\u001b[32mSearch Query Generator Agent\u001b[0m\n",
              "│   \u001b[37m   Status: \u001b[0m\u001b[1;32m✅ Completed\u001b[0m\n",
              "│   └── \u001b[1;32m🤖 Agent: \u001b[0m\u001b[32mSearch Query Generator Agent\u001b[0m\n",
              "│       \u001b[37m    Status: \u001b[0m\u001b[1;32m✅ Completed\u001b[0m\n",
              "├── \u001b[1;32m📋 Task: 38bdebe6-607d-447b-a60f-f2de84f4cfb9\u001b[0m\n",
              "│   \u001b[37m   Assigned to: \u001b[0m\u001b[32mSearch Engine Agent\u001b[0m\n",
              "│   \u001b[37m   Status: \u001b[0m\u001b[1;32m✅ Completed\u001b[0m\n",
              "│   └── \u001b[1;32m🤖 Agent: \u001b[0m\u001b[32mSearch Engine Agent\u001b[0m\n",
              "│       \u001b[37m    Status: \u001b[0m\u001b[1;32m✅ Completed\u001b[0m\n",
              "│       ├── \u001b[1;32m🔧 \u001b[0m\u001b[32mUsed search_engine_tool (1)\u001b[0m\n",
              "│       └── \u001b[1;32m🔧 \u001b[0m\u001b[32mUsed Search the internet with Serper (1)\u001b[0m\n",
              "└── \u001b[1;33m📋 Task: 4c154cff-ef90-4456-82cd-0f69096b13fa\u001b[0m\n",
              "    \u001b[37m   Status: \u001b[0m\u001b[2;33mExecuting Task...\u001b[0m\n",
              "    └── \u001b[1;32m🤖 Agent: \u001b[0m\u001b[32mWeb Scraping Agent\u001b[0m\n",
              "        \u001b[37m    Status: \u001b[0m\u001b[1;32mIn Progress\u001b[0m\n",
              "        └── \u001b[1;32m🔧 \u001b[0m\u001b[32mUsed web_scraping_tool (2)\u001b[0m\n"
            ],
            "text/html": [
              "<pre style=\"white-space:pre;overflow-x:auto;line-height:normal;font-family:Menlo,'DejaVu Sans Mono',consolas,'Courier New',monospace\"><span style=\"color: #008080; text-decoration-color: #008080; font-weight: bold\">🚀 Crew: crew</span>\n",
              "├── <span style=\"color: #008000; text-decoration-color: #008000; font-weight: bold\">📋 Task: bcf4ba67-2cd5-45cd-9a30-27a6a5611dcf</span>\n",
              "│   <span style=\"color: #c0c0c0; text-decoration-color: #c0c0c0\">   Assigned to: </span><span style=\"color: #008000; text-decoration-color: #008000\">Search Query Generator Agent</span>\n",
              "│   <span style=\"color: #c0c0c0; text-decoration-color: #c0c0c0\">   Status: </span><span style=\"color: #008000; text-decoration-color: #008000; font-weight: bold\">✅ Completed</span>\n",
              "│   └── <span style=\"color: #008000; text-decoration-color: #008000; font-weight: bold\">🤖 Agent: </span><span style=\"color: #008000; text-decoration-color: #008000\">Search Query Generator Agent</span>\n",
              "│       <span style=\"color: #c0c0c0; text-decoration-color: #c0c0c0\">    Status: </span><span style=\"color: #008000; text-decoration-color: #008000; font-weight: bold\">✅ Completed</span>\n",
              "├── <span style=\"color: #008000; text-decoration-color: #008000; font-weight: bold\">📋 Task: 38bdebe6-607d-447b-a60f-f2de84f4cfb9</span>\n",
              "│   <span style=\"color: #c0c0c0; text-decoration-color: #c0c0c0\">   Assigned to: </span><span style=\"color: #008000; text-decoration-color: #008000\">Search Engine Agent</span>\n",
              "│   <span style=\"color: #c0c0c0; text-decoration-color: #c0c0c0\">   Status: </span><span style=\"color: #008000; text-decoration-color: #008000; font-weight: bold\">✅ Completed</span>\n",
              "│   └── <span style=\"color: #008000; text-decoration-color: #008000; font-weight: bold\">🤖 Agent: </span><span style=\"color: #008000; text-decoration-color: #008000\">Search Engine Agent</span>\n",
              "│       <span style=\"color: #c0c0c0; text-decoration-color: #c0c0c0\">    Status: </span><span style=\"color: #008000; text-decoration-color: #008000; font-weight: bold\">✅ Completed</span>\n",
              "│       ├── <span style=\"color: #008000; text-decoration-color: #008000; font-weight: bold\">🔧 </span><span style=\"color: #008000; text-decoration-color: #008000\">Used search_engine_tool (1)</span>\n",
              "│       └── <span style=\"color: #008000; text-decoration-color: #008000; font-weight: bold\">🔧 </span><span style=\"color: #008000; text-decoration-color: #008000\">Used Search the internet with Serper (1)</span>\n",
              "└── <span style=\"color: #808000; text-decoration-color: #808000; font-weight: bold\">📋 Task: 4c154cff-ef90-4456-82cd-0f69096b13fa</span>\n",
              "    <span style=\"color: #c0c0c0; text-decoration-color: #c0c0c0\">   Status: </span><span style=\"color: #bfbf7f; text-decoration-color: #bfbf7f\">Executing Task...</span>\n",
              "    └── <span style=\"color: #008000; text-decoration-color: #008000; font-weight: bold\">🤖 Agent: </span><span style=\"color: #008000; text-decoration-color: #008000\">Web Scraping Agent</span>\n",
              "        <span style=\"color: #c0c0c0; text-decoration-color: #c0c0c0\">    Status: </span><span style=\"color: #008000; text-decoration-color: #008000; font-weight: bold\">In Progress</span>\n",
              "        └── <span style=\"color: #008000; text-decoration-color: #008000; font-weight: bold\">🔧 </span><span style=\"color: #008000; text-decoration-color: #008000\">Used web_scraping_tool (2)</span>\n",
              "</pre>\n"
            ]
          },
          "metadata": {}
        },
        {
          "output_type": "display_data",
          "data": {
            "text/plain": [
              "\n"
            ],
            "text/html": [
              "<pre style=\"white-space:pre;overflow-x:auto;line-height:normal;font-family:Menlo,'DejaVu Sans Mono',consolas,'Courier New',monospace\">\n",
              "</pre>\n"
            ]
          },
          "metadata": {}
        },
        {
          "output_type": "stream",
          "name": "stdout",
          "text": [
            "\n",
            "\n",
            "\u001b[1m\u001b[95m# Agent:\u001b[00m \u001b[1m\u001b[92mWeb Scraping Agent\u001b[00m\n",
            "\u001b[95m## Final Answer:\u001b[00m \u001b[92m\n",
            "{\n",
            "  \"packages\": [\n",
            "    {\n",
            "      \"page_url\": \"https://www.booking.com/index.html?label=gen173nr-1FCAMYBShDONsDSDNYBGgviAEBmAExuAEXyAEM2AEB6AEB-AECiAIBqAIDuAL-1-2-BsACAdICJGYxZGNkMDBhLTQ0MGYtNGU2Yy05YTVjLWZjODUwNjY2MjgwNtgCBeACAQ&sid=290b1d9d35cd6d82ae7654a7760448f8&click_from_logo=1\",\n",
            "      \"hotel_name\": \"Steigenberger Hotel El Tahrir Cairo\",\n",
            "      \"hotel_description\": \"Among Cairo hotels, Steigenberger El Tahrir secures a spectacular location in El Tahrir Square, overlooking the Egyptian museum, minutes away from Khan El Khalili Bazar, and in close proximity to...\",\n",
            "      \"hotel_address\": \"Downtown Cairo, Cairo\",\n",
            "      \"location\": \"Cairo\",\n",
            "      \"rating\": 9.3,\n",
            "      \"reviews\": 12283,\n",
            "      \"price\": 114.332,\n",
            "      \"currency\": \"USD\",\n",
            "      \"included_meals\": null,\n",
            "      \"excluded_meals\": null,\n",
            "      \"facilities\": \"bar, room service, restaurant, terrace\",\n",
            "      \"product_specs\": [\n",
            "        {\n",
            "          \"specification_name\": \"Location\",\n",
            "          \"specification_value\": \"El Tahrir Square, overlooking the Egyptian museum\"\n",
            "        },\n",
            "        {\n",
            "          \"specification_name\": \"Proximity\",\n",
            "          \"specification_value\": \"Minutes away from Khan El Khalili Bazar\"\n",
            "        },\n",
            "        {\n",
            "          \"specification_name\": \"Amenities\",\n",
            "          \"specification_value\": \"bar, room service, restaurant, terrace\"\n",
            "        }\n",
            "      ],\n",
            "      \"agent_recommendation_rank\": 5,\n",
            "      \"agent_recommendation_notes\": [\n",
            "        \"Spectacular location in El Tahrir Square\",\n",
            "        \"Close proximity to major attractions\",\n",
            "        \"High review score of 9.3\",\n",
            "        \"The hotel rooftop has a great view of the pyramids, and we enjoyed having a delicious dinner while watching the light show.\",\n",
            "        \"One of our rooms also had a view!\",\n",
            "        \"We really appreciated all the cold free drinking water too.\"\n",
            "      ]\n",
            "    }\n",
            "  ]\n",
            "}\u001b[00m\n",
            "\n",
            "\n"
          ]
        },
        {
          "output_type": "display_data",
          "data": {
            "text/plain": [
              "\u001b[1;36m🚀 Crew: \u001b[0m\u001b[1;36mcrew\u001b[0m\n",
              "├── \u001b[1;32m📋 Task: bcf4ba67-2cd5-45cd-9a30-27a6a5611dcf\u001b[0m\n",
              "│   \u001b[37m   Assigned to: \u001b[0m\u001b[32mSearch Query Generator Agent\u001b[0m\n",
              "│   \u001b[37m   Status: \u001b[0m\u001b[1;32m✅ Completed\u001b[0m\n",
              "│   └── \u001b[1;32m🤖 Agent: \u001b[0m\u001b[32mSearch Query Generator Agent\u001b[0m\n",
              "│       \u001b[37m    Status: \u001b[0m\u001b[1;32m✅ Completed\u001b[0m\n",
              "├── \u001b[1;32m📋 Task: 38bdebe6-607d-447b-a60f-f2de84f4cfb9\u001b[0m\n",
              "│   \u001b[37m   Assigned to: \u001b[0m\u001b[32mSearch Engine Agent\u001b[0m\n",
              "│   \u001b[37m   Status: \u001b[0m\u001b[1;32m✅ Completed\u001b[0m\n",
              "│   └── \u001b[1;32m🤖 Agent: \u001b[0m\u001b[32mSearch Engine Agent\u001b[0m\n",
              "│       \u001b[37m    Status: \u001b[0m\u001b[1;32m✅ Completed\u001b[0m\n",
              "│       ├── \u001b[1;32m🔧 \u001b[0m\u001b[32mUsed search_engine_tool (1)\u001b[0m\n",
              "│       └── \u001b[1;32m🔧 \u001b[0m\u001b[32mUsed Search the internet with Serper (1)\u001b[0m\n",
              "└── \u001b[1;33m📋 Task: 4c154cff-ef90-4456-82cd-0f69096b13fa\u001b[0m\n",
              "    \u001b[37m   Status: \u001b[0m\u001b[2;33mExecuting Task...\u001b[0m\n",
              "    └── \u001b[1;32m🤖 Agent: \u001b[0m\u001b[32mWeb Scraping Agent\u001b[0m\n",
              "        \u001b[37m    Status: \u001b[0m\u001b[1;32m✅ Completed\u001b[0m\n",
              "        └── \u001b[1;32m🔧 \u001b[0m\u001b[32mUsed web_scraping_tool (2)\u001b[0m\n"
            ],
            "text/html": [
              "<pre style=\"white-space:pre;overflow-x:auto;line-height:normal;font-family:Menlo,'DejaVu Sans Mono',consolas,'Courier New',monospace\"><span style=\"color: #008080; text-decoration-color: #008080; font-weight: bold\">🚀 Crew: crew</span>\n",
              "├── <span style=\"color: #008000; text-decoration-color: #008000; font-weight: bold\">📋 Task: bcf4ba67-2cd5-45cd-9a30-27a6a5611dcf</span>\n",
              "│   <span style=\"color: #c0c0c0; text-decoration-color: #c0c0c0\">   Assigned to: </span><span style=\"color: #008000; text-decoration-color: #008000\">Search Query Generator Agent</span>\n",
              "│   <span style=\"color: #c0c0c0; text-decoration-color: #c0c0c0\">   Status: </span><span style=\"color: #008000; text-decoration-color: #008000; font-weight: bold\">✅ Completed</span>\n",
              "│   └── <span style=\"color: #008000; text-decoration-color: #008000; font-weight: bold\">🤖 Agent: </span><span style=\"color: #008000; text-decoration-color: #008000\">Search Query Generator Agent</span>\n",
              "│       <span style=\"color: #c0c0c0; text-decoration-color: #c0c0c0\">    Status: </span><span style=\"color: #008000; text-decoration-color: #008000; font-weight: bold\">✅ Completed</span>\n",
              "├── <span style=\"color: #008000; text-decoration-color: #008000; font-weight: bold\">📋 Task: 38bdebe6-607d-447b-a60f-f2de84f4cfb9</span>\n",
              "│   <span style=\"color: #c0c0c0; text-decoration-color: #c0c0c0\">   Assigned to: </span><span style=\"color: #008000; text-decoration-color: #008000\">Search Engine Agent</span>\n",
              "│   <span style=\"color: #c0c0c0; text-decoration-color: #c0c0c0\">   Status: </span><span style=\"color: #008000; text-decoration-color: #008000; font-weight: bold\">✅ Completed</span>\n",
              "│   └── <span style=\"color: #008000; text-decoration-color: #008000; font-weight: bold\">🤖 Agent: </span><span style=\"color: #008000; text-decoration-color: #008000\">Search Engine Agent</span>\n",
              "│       <span style=\"color: #c0c0c0; text-decoration-color: #c0c0c0\">    Status: </span><span style=\"color: #008000; text-decoration-color: #008000; font-weight: bold\">✅ Completed</span>\n",
              "│       ├── <span style=\"color: #008000; text-decoration-color: #008000; font-weight: bold\">🔧 </span><span style=\"color: #008000; text-decoration-color: #008000\">Used search_engine_tool (1)</span>\n",
              "│       └── <span style=\"color: #008000; text-decoration-color: #008000; font-weight: bold\">🔧 </span><span style=\"color: #008000; text-decoration-color: #008000\">Used Search the internet with Serper (1)</span>\n",
              "└── <span style=\"color: #808000; text-decoration-color: #808000; font-weight: bold\">📋 Task: 4c154cff-ef90-4456-82cd-0f69096b13fa</span>\n",
              "    <span style=\"color: #c0c0c0; text-decoration-color: #c0c0c0\">   Status: </span><span style=\"color: #bfbf7f; text-decoration-color: #bfbf7f\">Executing Task...</span>\n",
              "    └── <span style=\"color: #008000; text-decoration-color: #008000; font-weight: bold\">🤖 Agent: </span><span style=\"color: #008000; text-decoration-color: #008000\">Web Scraping Agent</span>\n",
              "        <span style=\"color: #c0c0c0; text-decoration-color: #c0c0c0\">    Status: </span><span style=\"color: #008000; text-decoration-color: #008000; font-weight: bold\">✅ Completed</span>\n",
              "        └── <span style=\"color: #008000; text-decoration-color: #008000; font-weight: bold\">🔧 </span><span style=\"color: #008000; text-decoration-color: #008000\">Used web_scraping_tool (2)</span>\n",
              "</pre>\n"
            ]
          },
          "metadata": {}
        },
        {
          "output_type": "display_data",
          "data": {
            "text/plain": [
              "\n"
            ],
            "text/html": [
              "<pre style=\"white-space:pre;overflow-x:auto;line-height:normal;font-family:Menlo,'DejaVu Sans Mono',consolas,'Courier New',monospace\">\n",
              "</pre>\n"
            ]
          },
          "metadata": {}
        },
        {
          "output_type": "stream",
          "name": "stderr",
          "text": [
            "\u001b[92m01:14:54 - LiteLLM:WARNING\u001b[0m: utils.py:428 - `litellm.set_verbose` is deprecated. Please set `os.environ['LITELLM_LOG'] = 'DEBUG'` for debug logs.\n",
            "WARNING:LiteLLM:`litellm.set_verbose` is deprecated. Please set `os.environ['LITELLM_LOG'] = 'DEBUG'` for debug logs.\n"
          ]
        },
        {
          "output_type": "stream",
          "name": "stdout",
          "text": [
            "Initialized litellm callbacks, Async Success Callbacks: [<crewai.utilities.token_counter_callback.TokenCalcHandler object at 0x7c0798b21950>]\n",
            "SYNC kwargs[caching]: False; litellm.cache: None; kwargs.get('cache')['no-cache']: False\n",
            "Final returned optional params: {'tools': [{'type': 'function', 'function': {'name': 'AllTripPackages', 'description': 'Correctly extracted `AllTripPackages` with all the required parameters with correct types', 'parameters': {'$defs': {'HotelSpec': {'properties': {'specification_name': {'title': 'Specification Name', 'type': 'string'}, 'specification_value': {'title': 'Specification Value', 'type': 'string'}}, 'required': ['specification_name', 'specification_value'], 'title': 'HotelSpec', 'type': 'object'}, 'TripPackageDetails': {'properties': {'page_url': {'title': 'The page URL of the hotel page', 'type': 'string'}, 'hotel_name': {'title': 'The name of the hotel', 'type': 'string'}, 'hotel_description': {'title': 'A brief description of the hotel', 'type': 'string'}, 'hotel_address': {'title': 'The address of the hotel', 'type': 'string'}, 'location': {'title': 'The location of the hotel', 'type': 'string'}, 'rating': {'default': None, 'title': 'The rating of the hotel based on reviews', 'type': 'number'}, 'reviews': {'default': None, 'title': 'The number of reviews for the hotel', 'type': 'integer'}, 'price': {'default': None, 'title': 'The price of the hotel package', 'type': 'number'}, 'currency': {'default': None, 'title': 'The currency of the price', 'type': 'string'}, 'included_meals': {'default': None, 'title': 'The meals included in the package', 'type': 'string'}, 'excluded_meals': {'default': None, 'title': 'The meals excluded from the package', 'type': 'string'}, 'facilities': {'default': None, 'title': 'The facilities which the hotel provides to their guests', 'type': 'string'}, 'product_specs': {'items': {'$ref': '#/$defs/HotelSpec'}, 'maxItems': 5, 'minItems': 1, 'title': 'The specifications of the hotel. Focus on the most important specs to compare.', 'type': 'array'}, 'agent_recommendation_rank': {'title': 'The rank of the hotel to be considered in the final procurement report. (out of 5, Higher is Better) in the recommendation list ordering from the best to the worst', 'type': 'integer'}, 'agent_recommendation_notes': {'items': {'type': 'string'}, 'title': 'A set of notes why would you recommend or not recommend this hotel to the traveller, compared to other hotels.', 'type': 'array'}}, 'required': ['page_url', 'hotel_name', 'hotel_description', 'hotel_address', 'location', 'product_specs', 'agent_recommendation_rank', 'agent_recommendation_notes'], 'title': 'TripPackageDetails', 'type': 'object'}}, 'properties': {'packages': {'items': {'$ref': '#/$defs/TripPackageDetails'}, 'title': 'Packages', 'type': 'array'}}, 'required': ['packages'], 'type': 'object'}}}], 'tool_choice': {'type': 'function', 'function': {'name': 'AllTripPackages'}}, 'extra_body': {}}\n"
          ]
        },
        {
          "output_type": "stream",
          "name": "stderr",
          "text": [
            "\u001b[92m01:14:57 - LiteLLM:WARNING\u001b[0m: utils.py:428 - `litellm.set_verbose` is deprecated. Please set `os.environ['LITELLM_LOG'] = 'DEBUG'` for debug logs.\n",
            "WARNING:LiteLLM:`litellm.set_verbose` is deprecated. Please set `os.environ['LITELLM_LOG'] = 'DEBUG'` for debug logs.\n"
          ]
        },
        {
          "output_type": "stream",
          "name": "stdout",
          "text": [
            "RAW RESPONSE:\n",
            "{\"id\": \"chatcmpl-BCymkGKN2o55Lof6KHjoNvK0RPAtT\", \"choices\": [{\"finish_reason\": \"stop\", \"index\": 0, \"logprobs\": null, \"message\": {\"content\": null, \"refusal\": null, \"role\": \"assistant\", \"audio\": null, \"function_call\": null, \"tool_calls\": [{\"id\": \"call_k0w9APzRwrR4jYFgdirGIOCv\", \"function\": {\"arguments\": \"{\\\"packages\\\":[{\\\"page_url\\\":\\\"https://www.booking.com/index.html?label=gen173nr-1FCAMYBShDONsDSDNYBGgviAEBmAExuAEXyAEM2AEB6AEB-AECiAIBqAIDuAL-1-2-BsACAdICJGYxZGNkMDBhLTQ0MGYtNGU2Yy05YTVjLWZjODUwNjY2MjgwNtgCBeACAQ&sid=290b1d9d35cd6d82ae7654a7760448f8&click_from_logo=1\\\",\\\"hotel_name\\\":\\\"Steigenberger Hotel El Tahrir Cairo\\\",\\\"hotel_description\\\":\\\"Among Cairo hotels, Steigenberger El Tahrir secures a spectacular location in El Tahrir Square, overlooking the Egyptian museum, minutes away from Khan El Khalili Bazar, and in close proximity to...\\\",\\\"hotel_address\\\":\\\"Downtown Cairo, Cairo\\\",\\\"location\\\":\\\"Cairo\\\",\\\"rating\\\":9.3,\\\"reviews\\\":12283,\\\"price\\\":114.332,\\\"currency\\\":\\\"USD\\\",\\\"included_meals\\\":null,\\\"excluded_meals\\\":null,\\\"facilities\\\":\\\"bar, room service, restaurant, terrace\\\",\\\"product_specs\\\":[{\\\"specification_name\\\":\\\"Location\\\",\\\"specification_value\\\":\\\"El Tahrir Square, overlooking the Egyptian museum\\\"},{\\\"specification_name\\\":\\\"Proximity\\\",\\\"specification_value\\\":\\\"Minutes away from Khan El Khalili Bazar\\\"},{\\\"specification_name\\\":\\\"Amenities\\\",\\\"specification_value\\\":\\\"bar, room service, restaurant, terrace\\\"}],\\\"agent_recommendation_rank\\\":5,\\\"agent_recommendation_notes\\\":[\\\"Spectacular location in El Tahrir Square\\\",\\\"Close proximity to major attractions\\\",\\\"High review score of 9.3\\\",\\\"The hotel rooftop has a great view of the pyramids, and we enjoyed having a delicious dinner while watching the light show.\\\",\\\"One of our rooms also had a view!\\\",\\\"We really appreciated all the cold free drinking water too.\\\"]}]}\", \"name\": \"AllTripPackages\"}, \"type\": \"function\"}], \"annotations\": []}}], \"created\": 1742433294, \"model\": \"gpt-4o-2024-08-06\", \"object\": \"chat.completion\", \"service_tier\": \"default\", \"system_fingerprint\": \"fp_90d33c15d4\", \"usage\": {\"completion_tokens\": 414, \"prompt_tokens\": 898, \"total_tokens\": 1312, \"completion_tokens_details\": {\"accepted_prediction_tokens\": 0, \"audio_tokens\": 0, \"reasoning_tokens\": 0, \"rejected_prediction_tokens\": 0}, \"prompt_tokens_details\": {\"audio_tokens\": 0, \"cached_tokens\": 0}}}\n",
            "\n",
            "\n",
            "Initialized litellm callbacks, Async Success Callbacks: [<crewai.utilities.token_counter_callback.TokenCalcHandler object at 0x7c0798b21950>]\n",
            "SYNC kwargs[caching]: False; litellm.cache: None; kwargs.get('cache')['no-cache']: False\n",
            "Final returned optional params: {'tools': [{'type': 'function', 'function': {'name': 'AllTripPackages', 'description': 'Correctly extracted `AllTripPackages` with all the required parameters with correct types', 'parameters': {'$defs': {'HotelSpec': {'properties': {'specification_name': {'title': 'Specification Name', 'type': 'string'}, 'specification_value': {'title': 'Specification Value', 'type': 'string'}}, 'required': ['specification_name', 'specification_value'], 'title': 'HotelSpec', 'type': 'object'}, 'TripPackageDetails': {'properties': {'page_url': {'title': 'The page URL of the hotel page', 'type': 'string'}, 'hotel_name': {'title': 'The name of the hotel', 'type': 'string'}, 'hotel_description': {'title': 'A brief description of the hotel', 'type': 'string'}, 'hotel_address': {'title': 'The address of the hotel', 'type': 'string'}, 'location': {'title': 'The location of the hotel', 'type': 'string'}, 'rating': {'default': None, 'title': 'The rating of the hotel based on reviews', 'type': 'number'}, 'reviews': {'default': None, 'title': 'The number of reviews for the hotel', 'type': 'integer'}, 'price': {'default': None, 'title': 'The price of the hotel package', 'type': 'number'}, 'currency': {'default': None, 'title': 'The currency of the price', 'type': 'string'}, 'included_meals': {'default': None, 'title': 'The meals included in the package', 'type': 'string'}, 'excluded_meals': {'default': None, 'title': 'The meals excluded from the package', 'type': 'string'}, 'facilities': {'default': None, 'title': 'The facilities which the hotel provides to their guests', 'type': 'string'}, 'product_specs': {'items': {'$ref': '#/$defs/HotelSpec'}, 'maxItems': 5, 'minItems': 1, 'title': 'The specifications of the hotel. Focus on the most important specs to compare.', 'type': 'array'}, 'agent_recommendation_rank': {'title': 'The rank of the hotel to be considered in the final procurement report. (out of 5, Higher is Better) in the recommendation list ordering from the best to the worst', 'type': 'integer'}, 'agent_recommendation_notes': {'items': {'type': 'string'}, 'title': 'A set of notes why would you recommend or not recommend this hotel to the traveller, compared to other hotels.', 'type': 'array'}}, 'required': ['page_url', 'hotel_name', 'hotel_description', 'hotel_address', 'location', 'product_specs', 'agent_recommendation_rank', 'agent_recommendation_notes'], 'title': 'TripPackageDetails', 'type': 'object'}}, 'properties': {'packages': {'items': {'$ref': '#/$defs/TripPackageDetails'}, 'title': 'Packages', 'type': 'array'}}, 'required': ['packages'], 'type': 'object'}}}], 'tool_choice': {'type': 'function', 'function': {'name': 'AllTripPackages'}}, 'extra_body': {}}\n",
            "RAW RESPONSE:\n",
            "{\"id\": \"chatcmpl-BCymoaZp94bVeC6Fm9aZ18SkaqdBi\", \"choices\": [{\"finish_reason\": \"stop\", \"index\": 0, \"logprobs\": null, \"message\": {\"content\": null, \"refusal\": null, \"role\": \"assistant\", \"audio\": null, \"function_call\": null, \"tool_calls\": [{\"id\": \"call_bcLU5iD0XrGyKPISvxz983sj\", \"function\": {\"arguments\": \"{\\\"packages\\\":[{\\\"page_url\\\":\\\"https://www.booking.com/index.html?label=gen173nr-1FCAMYBShDONsDSDNYBGgviAEBmAExuAEXyAEM2AEB6AEB-AECiAIBqAIDuAL-1-2-BsACAdICJGYxZGNkMDBhLTQ0MGYtNGU2Yy05YTVjLWZjODUwNjY2MjgwNtgCBeACAQ&sid=290b1d9d35cd6d82ae7654a7760448f8&click_from_logo=1\\\",\\\"hotel_name\\\":\\\"Steigenberger Hotel El Tahrir Cairo\\\",\\\"hotel_description\\\":\\\"Among Cairo hotels, Steigenberger El Tahrir secures a spectacular location in El Tahrir Square, overlooking the Egyptian museum, minutes away from Khan El Khalili Bazar, and in close proximity to...\\\",\\\"hotel_address\\\":\\\"Downtown Cairo, Cairo\\\",\\\"location\\\":\\\"Cairo\\\",\\\"rating\\\":9.3,\\\"reviews\\\":12283,\\\"price\\\":114.332,\\\"currency\\\":\\\"USD\\\",\\\"included_meals\\\":\\\"Not specified\\\",\\\"excluded_meals\\\":\\\"Not specified\\\",\\\"facilities\\\":\\\"bar, room service, restaurant, terrace\\\",\\\"product_specs\\\":[{\\\"specification_name\\\":\\\"Location\\\",\\\"specification_value\\\":\\\"El Tahrir Square, overlooking the Egyptian museum\\\"},{\\\"specification_name\\\":\\\"Proximity\\\",\\\"specification_value\\\":\\\"Minutes away from Khan El Khalili Bazar\\\"},{\\\"specification_name\\\":\\\"Amenities\\\",\\\"specification_value\\\":\\\"bar, room service, restaurant, terrace\\\"}],\\\"agent_recommendation_rank\\\":5,\\\"agent_recommendation_notes\\\":[\\\"Spectacular location in El Tahrir Square\\\",\\\"Close proximity to major attractions\\\",\\\"High review score of 9.3\\\",\\\"The hotel rooftop has a great view of the pyramids, and we enjoyed having a delicious dinner while watching the light show.\\\",\\\"One of our rooms also had a view!\\\",\\\"We really appreciated all the cold free drinking water too.\\\"]}]}\", \"name\": \"AllTripPackages\"}, \"type\": \"function\"}], \"annotations\": []}}], \"created\": 1742433298, \"model\": \"gpt-4o-2024-08-06\", \"object\": \"chat.completion\", \"service_tier\": \"default\", \"system_fingerprint\": \"fp_90d33c15d4\", \"usage\": {\"completion_tokens\": 416, \"prompt_tokens\": 1450, \"total_tokens\": 1866, \"completion_tokens_details\": {\"accepted_prediction_tokens\": 0, \"audio_tokens\": 0, \"reasoning_tokens\": 0, \"rejected_prediction_tokens\": 0}, \"prompt_tokens_details\": {\"audio_tokens\": 0, \"cached_tokens\": 1280}}}\n",
            "\n",
            "\n"
          ]
        },
        {
          "output_type": "display_data",
          "data": {
            "text/plain": [
              "\u001b[1;36m🚀 Crew: \u001b[0m\u001b[1;36mcrew\u001b[0m\n",
              "├── \u001b[1;32m📋 Task: bcf4ba67-2cd5-45cd-9a30-27a6a5611dcf\u001b[0m\n",
              "│   \u001b[37m   Assigned to: \u001b[0m\u001b[32mSearch Query Generator Agent\u001b[0m\n",
              "│   \u001b[37m   Status: \u001b[0m\u001b[1;32m✅ Completed\u001b[0m\n",
              "│   └── \u001b[1;32m🤖 Agent: \u001b[0m\u001b[32mSearch Query Generator Agent\u001b[0m\n",
              "│       \u001b[37m    Status: \u001b[0m\u001b[1;32m✅ Completed\u001b[0m\n",
              "├── \u001b[1;32m📋 Task: 38bdebe6-607d-447b-a60f-f2de84f4cfb9\u001b[0m\n",
              "│   \u001b[37m   Assigned to: \u001b[0m\u001b[32mSearch Engine Agent\u001b[0m\n",
              "│   \u001b[37m   Status: \u001b[0m\u001b[1;32m✅ Completed\u001b[0m\n",
              "│   └── \u001b[1;32m🤖 Agent: \u001b[0m\u001b[32mSearch Engine Agent\u001b[0m\n",
              "│       \u001b[37m    Status: \u001b[0m\u001b[1;32m✅ Completed\u001b[0m\n",
              "│       ├── \u001b[1;32m🔧 \u001b[0m\u001b[32mUsed search_engine_tool (1)\u001b[0m\n",
              "│       └── \u001b[1;32m🔧 \u001b[0m\u001b[32mUsed Search the internet with Serper (1)\u001b[0m\n",
              "└── \u001b[1;32m📋 Task: 4c154cff-ef90-4456-82cd-0f69096b13fa\u001b[0m\n",
              "    \u001b[37m   Assigned to: \u001b[0m\u001b[32mWeb Scraping Agent\u001b[0m\n",
              "    \u001b[37m   Status: \u001b[0m\u001b[1;32m✅ Completed\u001b[0m\n",
              "    └── \u001b[1;32m🤖 Agent: \u001b[0m\u001b[32mWeb Scraping Agent\u001b[0m\n",
              "        \u001b[37m    Status: \u001b[0m\u001b[1;32m✅ Completed\u001b[0m\n",
              "        └── \u001b[1;32m🔧 \u001b[0m\u001b[32mUsed web_scraping_tool (2)\u001b[0m\n"
            ],
            "text/html": [
              "<pre style=\"white-space:pre;overflow-x:auto;line-height:normal;font-family:Menlo,'DejaVu Sans Mono',consolas,'Courier New',monospace\"><span style=\"color: #008080; text-decoration-color: #008080; font-weight: bold\">🚀 Crew: crew</span>\n",
              "├── <span style=\"color: #008000; text-decoration-color: #008000; font-weight: bold\">📋 Task: bcf4ba67-2cd5-45cd-9a30-27a6a5611dcf</span>\n",
              "│   <span style=\"color: #c0c0c0; text-decoration-color: #c0c0c0\">   Assigned to: </span><span style=\"color: #008000; text-decoration-color: #008000\">Search Query Generator Agent</span>\n",
              "│   <span style=\"color: #c0c0c0; text-decoration-color: #c0c0c0\">   Status: </span><span style=\"color: #008000; text-decoration-color: #008000; font-weight: bold\">✅ Completed</span>\n",
              "│   └── <span style=\"color: #008000; text-decoration-color: #008000; font-weight: bold\">🤖 Agent: </span><span style=\"color: #008000; text-decoration-color: #008000\">Search Query Generator Agent</span>\n",
              "│       <span style=\"color: #c0c0c0; text-decoration-color: #c0c0c0\">    Status: </span><span style=\"color: #008000; text-decoration-color: #008000; font-weight: bold\">✅ Completed</span>\n",
              "├── <span style=\"color: #008000; text-decoration-color: #008000; font-weight: bold\">📋 Task: 38bdebe6-607d-447b-a60f-f2de84f4cfb9</span>\n",
              "│   <span style=\"color: #c0c0c0; text-decoration-color: #c0c0c0\">   Assigned to: </span><span style=\"color: #008000; text-decoration-color: #008000\">Search Engine Agent</span>\n",
              "│   <span style=\"color: #c0c0c0; text-decoration-color: #c0c0c0\">   Status: </span><span style=\"color: #008000; text-decoration-color: #008000; font-weight: bold\">✅ Completed</span>\n",
              "│   └── <span style=\"color: #008000; text-decoration-color: #008000; font-weight: bold\">🤖 Agent: </span><span style=\"color: #008000; text-decoration-color: #008000\">Search Engine Agent</span>\n",
              "│       <span style=\"color: #c0c0c0; text-decoration-color: #c0c0c0\">    Status: </span><span style=\"color: #008000; text-decoration-color: #008000; font-weight: bold\">✅ Completed</span>\n",
              "│       ├── <span style=\"color: #008000; text-decoration-color: #008000; font-weight: bold\">🔧 </span><span style=\"color: #008000; text-decoration-color: #008000\">Used search_engine_tool (1)</span>\n",
              "│       └── <span style=\"color: #008000; text-decoration-color: #008000; font-weight: bold\">🔧 </span><span style=\"color: #008000; text-decoration-color: #008000\">Used Search the internet with Serper (1)</span>\n",
              "└── <span style=\"color: #008000; text-decoration-color: #008000; font-weight: bold\">📋 Task: 4c154cff-ef90-4456-82cd-0f69096b13fa</span>\n",
              "    <span style=\"color: #c0c0c0; text-decoration-color: #c0c0c0\">   Assigned to: </span><span style=\"color: #008000; text-decoration-color: #008000\">Web Scraping Agent</span>\n",
              "    <span style=\"color: #c0c0c0; text-decoration-color: #c0c0c0\">   Status: </span><span style=\"color: #008000; text-decoration-color: #008000; font-weight: bold\">✅ Completed</span>\n",
              "    └── <span style=\"color: #008000; text-decoration-color: #008000; font-weight: bold\">🤖 Agent: </span><span style=\"color: #008000; text-decoration-color: #008000\">Web Scraping Agent</span>\n",
              "        <span style=\"color: #c0c0c0; text-decoration-color: #c0c0c0\">    Status: </span><span style=\"color: #008000; text-decoration-color: #008000; font-weight: bold\">✅ Completed</span>\n",
              "        └── <span style=\"color: #008000; text-decoration-color: #008000; font-weight: bold\">🔧 </span><span style=\"color: #008000; text-decoration-color: #008000\">Used web_scraping_tool (2)</span>\n",
              "</pre>\n"
            ]
          },
          "metadata": {}
        },
        {
          "output_type": "display_data",
          "data": {
            "text/plain": [
              "\u001b[32m╭─\u001b[0m\u001b[32m───────────────────────────────────────────────\u001b[0m\u001b[32m Task Completion \u001b[0m\u001b[32m───────────────────────────────────────────────\u001b[0m\u001b[32m─╮\u001b[0m\n",
              "\u001b[32m│\u001b[0m                                                                                                                 \u001b[32m│\u001b[0m\n",
              "\u001b[32m│\u001b[0m  \u001b[1;32mTask Completed\u001b[0m                                                                                                 \u001b[32m│\u001b[0m\n",
              "\u001b[32m│\u001b[0m  \u001b[37mName: \u001b[0m\u001b[32m4c154cff-ef90-4456-82cd-0f69096b13fa\u001b[0m                                                                     \u001b[32m│\u001b[0m\n",
              "\u001b[32m│\u001b[0m  \u001b[37mAgent: \u001b[0m\u001b[32mWeb Scraping Agent\u001b[0m                                                                                      \u001b[32m│\u001b[0m\n",
              "\u001b[32m│\u001b[0m                                                                                                                 \u001b[32m│\u001b[0m\n",
              "\u001b[32m│\u001b[0m                                                                                                                 \u001b[32m│\u001b[0m\n",
              "\u001b[32m╰─────────────────────────────────────────────────────────────────────────────────────────────────────────────────╯\u001b[0m\n"
            ],
            "text/html": [
              "<pre style=\"white-space:pre;overflow-x:auto;line-height:normal;font-family:Menlo,'DejaVu Sans Mono',consolas,'Courier New',monospace\"><span style=\"color: #008000; text-decoration-color: #008000\">╭──────────────────────────────────────────────── Task Completion ────────────────────────────────────────────────╮</span>\n",
              "<span style=\"color: #008000; text-decoration-color: #008000\">│</span>                                                                                                                 <span style=\"color: #008000; text-decoration-color: #008000\">│</span>\n",
              "<span style=\"color: #008000; text-decoration-color: #008000\">│</span>  <span style=\"color: #008000; text-decoration-color: #008000; font-weight: bold\">Task Completed</span>                                                                                                 <span style=\"color: #008000; text-decoration-color: #008000\">│</span>\n",
              "<span style=\"color: #008000; text-decoration-color: #008000\">│</span>  <span style=\"color: #c0c0c0; text-decoration-color: #c0c0c0\">Name: </span><span style=\"color: #008000; text-decoration-color: #008000\">4c154cff-ef90-4456-82cd-0f69096b13fa</span>                                                                     <span style=\"color: #008000; text-decoration-color: #008000\">│</span>\n",
              "<span style=\"color: #008000; text-decoration-color: #008000\">│</span>  <span style=\"color: #c0c0c0; text-decoration-color: #c0c0c0\">Agent: </span><span style=\"color: #008000; text-decoration-color: #008000\">Web Scraping Agent</span>                                                                                      <span style=\"color: #008000; text-decoration-color: #008000\">│</span>\n",
              "<span style=\"color: #008000; text-decoration-color: #008000\">│</span>                                                                                                                 <span style=\"color: #008000; text-decoration-color: #008000\">│</span>\n",
              "<span style=\"color: #008000; text-decoration-color: #008000\">│</span>                                                                                                                 <span style=\"color: #008000; text-decoration-color: #008000\">│</span>\n",
              "<span style=\"color: #008000; text-decoration-color: #008000\">╰─────────────────────────────────────────────────────────────────────────────────────────────────────────────────╯</span>\n",
              "</pre>\n"
            ]
          },
          "metadata": {}
        },
        {
          "output_type": "display_data",
          "data": {
            "text/plain": [
              "\n"
            ],
            "text/html": [
              "<pre style=\"white-space:pre;overflow-x:auto;line-height:normal;font-family:Menlo,'DejaVu Sans Mono',consolas,'Courier New',monospace\">\n",
              "</pre>\n"
            ]
          },
          "metadata": {}
        },
        {
          "output_type": "display_data",
          "data": {
            "text/plain": [
              "\u001b[1;36m🚀 Crew: \u001b[0m\u001b[1;36mcrew\u001b[0m\n",
              "├── \u001b[1;32m📋 Task: bcf4ba67-2cd5-45cd-9a30-27a6a5611dcf\u001b[0m\n",
              "│   \u001b[37m   Assigned to: \u001b[0m\u001b[32mSearch Query Generator Agent\u001b[0m\n",
              "│   \u001b[37m   Status: \u001b[0m\u001b[1;32m✅ Completed\u001b[0m\n",
              "│   └── \u001b[1;32m🤖 Agent: \u001b[0m\u001b[32mSearch Query Generator Agent\u001b[0m\n",
              "│       \u001b[37m    Status: \u001b[0m\u001b[1;32m✅ Completed\u001b[0m\n",
              "├── \u001b[1;32m📋 Task: 38bdebe6-607d-447b-a60f-f2de84f4cfb9\u001b[0m\n",
              "│   \u001b[37m   Assigned to: \u001b[0m\u001b[32mSearch Engine Agent\u001b[0m\n",
              "│   \u001b[37m   Status: \u001b[0m\u001b[1;32m✅ Completed\u001b[0m\n",
              "│   └── \u001b[1;32m🤖 Agent: \u001b[0m\u001b[32mSearch Engine Agent\u001b[0m\n",
              "│       \u001b[37m    Status: \u001b[0m\u001b[1;32m✅ Completed\u001b[0m\n",
              "│       ├── \u001b[1;32m🔧 \u001b[0m\u001b[32mUsed search_engine_tool (1)\u001b[0m\n",
              "│       └── \u001b[1;32m🔧 \u001b[0m\u001b[32mUsed Search the internet with Serper (1)\u001b[0m\n",
              "├── \u001b[1;32m📋 Task: 4c154cff-ef90-4456-82cd-0f69096b13fa\u001b[0m\n",
              "│   \u001b[37m   Assigned to: \u001b[0m\u001b[32mWeb Scraping Agent\u001b[0m\n",
              "│   \u001b[37m   Status: \u001b[0m\u001b[1;32m✅ Completed\u001b[0m\n",
              "│   └── \u001b[1;32m🤖 Agent: \u001b[0m\u001b[32mWeb Scraping Agent\u001b[0m\n",
              "│       \u001b[37m    Status: \u001b[0m\u001b[1;32m✅ Completed\u001b[0m\n",
              "│       └── \u001b[1;32m🔧 \u001b[0m\u001b[32mUsed web_scraping_tool (2)\u001b[0m\n",
              "└── \u001b[1;33m📋 Task: 9ef9b149-16b5-4809-b848-c23ad0d7b6bb\u001b[0m\n",
              "    \u001b[37m   Status: \u001b[0m\u001b[2;33mExecuting Task...\u001b[0m\n"
            ],
            "text/html": [
              "<pre style=\"white-space:pre;overflow-x:auto;line-height:normal;font-family:Menlo,'DejaVu Sans Mono',consolas,'Courier New',monospace\"><span style=\"color: #008080; text-decoration-color: #008080; font-weight: bold\">🚀 Crew: crew</span>\n",
              "├── <span style=\"color: #008000; text-decoration-color: #008000; font-weight: bold\">📋 Task: bcf4ba67-2cd5-45cd-9a30-27a6a5611dcf</span>\n",
              "│   <span style=\"color: #c0c0c0; text-decoration-color: #c0c0c0\">   Assigned to: </span><span style=\"color: #008000; text-decoration-color: #008000\">Search Query Generator Agent</span>\n",
              "│   <span style=\"color: #c0c0c0; text-decoration-color: #c0c0c0\">   Status: </span><span style=\"color: #008000; text-decoration-color: #008000; font-weight: bold\">✅ Completed</span>\n",
              "│   └── <span style=\"color: #008000; text-decoration-color: #008000; font-weight: bold\">🤖 Agent: </span><span style=\"color: #008000; text-decoration-color: #008000\">Search Query Generator Agent</span>\n",
              "│       <span style=\"color: #c0c0c0; text-decoration-color: #c0c0c0\">    Status: </span><span style=\"color: #008000; text-decoration-color: #008000; font-weight: bold\">✅ Completed</span>\n",
              "├── <span style=\"color: #008000; text-decoration-color: #008000; font-weight: bold\">📋 Task: 38bdebe6-607d-447b-a60f-f2de84f4cfb9</span>\n",
              "│   <span style=\"color: #c0c0c0; text-decoration-color: #c0c0c0\">   Assigned to: </span><span style=\"color: #008000; text-decoration-color: #008000\">Search Engine Agent</span>\n",
              "│   <span style=\"color: #c0c0c0; text-decoration-color: #c0c0c0\">   Status: </span><span style=\"color: #008000; text-decoration-color: #008000; font-weight: bold\">✅ Completed</span>\n",
              "│   └── <span style=\"color: #008000; text-decoration-color: #008000; font-weight: bold\">🤖 Agent: </span><span style=\"color: #008000; text-decoration-color: #008000\">Search Engine Agent</span>\n",
              "│       <span style=\"color: #c0c0c0; text-decoration-color: #c0c0c0\">    Status: </span><span style=\"color: #008000; text-decoration-color: #008000; font-weight: bold\">✅ Completed</span>\n",
              "│       ├── <span style=\"color: #008000; text-decoration-color: #008000; font-weight: bold\">🔧 </span><span style=\"color: #008000; text-decoration-color: #008000\">Used search_engine_tool (1)</span>\n",
              "│       └── <span style=\"color: #008000; text-decoration-color: #008000; font-weight: bold\">🔧 </span><span style=\"color: #008000; text-decoration-color: #008000\">Used Search the internet with Serper (1)</span>\n",
              "├── <span style=\"color: #008000; text-decoration-color: #008000; font-weight: bold\">📋 Task: 4c154cff-ef90-4456-82cd-0f69096b13fa</span>\n",
              "│   <span style=\"color: #c0c0c0; text-decoration-color: #c0c0c0\">   Assigned to: </span><span style=\"color: #008000; text-decoration-color: #008000\">Web Scraping Agent</span>\n",
              "│   <span style=\"color: #c0c0c0; text-decoration-color: #c0c0c0\">   Status: </span><span style=\"color: #008000; text-decoration-color: #008000; font-weight: bold\">✅ Completed</span>\n",
              "│   └── <span style=\"color: #008000; text-decoration-color: #008000; font-weight: bold\">🤖 Agent: </span><span style=\"color: #008000; text-decoration-color: #008000\">Web Scraping Agent</span>\n",
              "│       <span style=\"color: #c0c0c0; text-decoration-color: #c0c0c0\">    Status: </span><span style=\"color: #008000; text-decoration-color: #008000; font-weight: bold\">✅ Completed</span>\n",
              "│       └── <span style=\"color: #008000; text-decoration-color: #008000; font-weight: bold\">🔧 </span><span style=\"color: #008000; text-decoration-color: #008000\">Used web_scraping_tool (2)</span>\n",
              "└── <span style=\"color: #808000; text-decoration-color: #808000; font-weight: bold\">📋 Task: 9ef9b149-16b5-4809-b848-c23ad0d7b6bb</span>\n",
              "    <span style=\"color: #c0c0c0; text-decoration-color: #c0c0c0\">   Status: </span><span style=\"color: #bfbf7f; text-decoration-color: #bfbf7f\">Executing Task...</span>\n",
              "</pre>\n"
            ]
          },
          "metadata": {}
        },
        {
          "output_type": "display_data",
          "data": {
            "text/plain": [
              "\n"
            ],
            "text/html": [
              "<pre style=\"white-space:pre;overflow-x:auto;line-height:normal;font-family:Menlo,'DejaVu Sans Mono',consolas,'Courier New',monospace\">\n",
              "</pre>\n"
            ]
          },
          "metadata": {}
        },
        {
          "output_type": "display_data",
          "data": {
            "text/plain": [
              "\u001b[1;36m🚀 Crew: \u001b[0m\u001b[1;36mcrew\u001b[0m\n",
              "├── \u001b[1;32m📋 Task: bcf4ba67-2cd5-45cd-9a30-27a6a5611dcf\u001b[0m\n",
              "│   \u001b[37m   Assigned to: \u001b[0m\u001b[32mSearch Query Generator Agent\u001b[0m\n",
              "│   \u001b[37m   Status: \u001b[0m\u001b[1;32m✅ Completed\u001b[0m\n",
              "│   └── \u001b[1;32m🤖 Agent: \u001b[0m\u001b[32mSearch Query Generator Agent\u001b[0m\n",
              "│       \u001b[37m    Status: \u001b[0m\u001b[1;32m✅ Completed\u001b[0m\n",
              "├── \u001b[1;32m📋 Task: 38bdebe6-607d-447b-a60f-f2de84f4cfb9\u001b[0m\n",
              "│   \u001b[37m   Assigned to: \u001b[0m\u001b[32mSearch Engine Agent\u001b[0m\n",
              "│   \u001b[37m   Status: \u001b[0m\u001b[1;32m✅ Completed\u001b[0m\n",
              "│   └── \u001b[1;32m🤖 Agent: \u001b[0m\u001b[32mSearch Engine Agent\u001b[0m\n",
              "│       \u001b[37m    Status: \u001b[0m\u001b[1;32m✅ Completed\u001b[0m\n",
              "│       ├── \u001b[1;32m🔧 \u001b[0m\u001b[32mUsed search_engine_tool (1)\u001b[0m\n",
              "│       └── \u001b[1;32m🔧 \u001b[0m\u001b[32mUsed Search the internet with Serper (1)\u001b[0m\n",
              "├── \u001b[1;32m📋 Task: 4c154cff-ef90-4456-82cd-0f69096b13fa\u001b[0m\n",
              "│   \u001b[37m   Assigned to: \u001b[0m\u001b[32mWeb Scraping Agent\u001b[0m\n",
              "│   \u001b[37m   Status: \u001b[0m\u001b[1;32m✅ Completed\u001b[0m\n",
              "│   └── \u001b[1;32m🤖 Agent: \u001b[0m\u001b[32mWeb Scraping Agent\u001b[0m\n",
              "│       \u001b[37m    Status: \u001b[0m\u001b[1;32m✅ Completed\u001b[0m\n",
              "│       └── \u001b[1;32m🔧 \u001b[0m\u001b[32mUsed web_scraping_tool (2)\u001b[0m\n",
              "└── \u001b[1;33m📋 Task: 9ef9b149-16b5-4809-b848-c23ad0d7b6bb\u001b[0m\n",
              "    \u001b[37m   Status: \u001b[0m\u001b[2;33mExecuting Task...\u001b[0m\n",
              "    └── \u001b[1;32m🤖 Agent: \u001b[0m\u001b[32mHotel Report Author Agent\u001b[0m\n",
              "        \u001b[37m    Status: \u001b[0m\u001b[1;32mIn Progress\u001b[0m\n"
            ],
            "text/html": [
              "<pre style=\"white-space:pre;overflow-x:auto;line-height:normal;font-family:Menlo,'DejaVu Sans Mono',consolas,'Courier New',monospace\"><span style=\"color: #008080; text-decoration-color: #008080; font-weight: bold\">🚀 Crew: crew</span>\n",
              "├── <span style=\"color: #008000; text-decoration-color: #008000; font-weight: bold\">📋 Task: bcf4ba67-2cd5-45cd-9a30-27a6a5611dcf</span>\n",
              "│   <span style=\"color: #c0c0c0; text-decoration-color: #c0c0c0\">   Assigned to: </span><span style=\"color: #008000; text-decoration-color: #008000\">Search Query Generator Agent</span>\n",
              "│   <span style=\"color: #c0c0c0; text-decoration-color: #c0c0c0\">   Status: </span><span style=\"color: #008000; text-decoration-color: #008000; font-weight: bold\">✅ Completed</span>\n",
              "│   └── <span style=\"color: #008000; text-decoration-color: #008000; font-weight: bold\">🤖 Agent: </span><span style=\"color: #008000; text-decoration-color: #008000\">Search Query Generator Agent</span>\n",
              "│       <span style=\"color: #c0c0c0; text-decoration-color: #c0c0c0\">    Status: </span><span style=\"color: #008000; text-decoration-color: #008000; font-weight: bold\">✅ Completed</span>\n",
              "├── <span style=\"color: #008000; text-decoration-color: #008000; font-weight: bold\">📋 Task: 38bdebe6-607d-447b-a60f-f2de84f4cfb9</span>\n",
              "│   <span style=\"color: #c0c0c0; text-decoration-color: #c0c0c0\">   Assigned to: </span><span style=\"color: #008000; text-decoration-color: #008000\">Search Engine Agent</span>\n",
              "│   <span style=\"color: #c0c0c0; text-decoration-color: #c0c0c0\">   Status: </span><span style=\"color: #008000; text-decoration-color: #008000; font-weight: bold\">✅ Completed</span>\n",
              "│   └── <span style=\"color: #008000; text-decoration-color: #008000; font-weight: bold\">🤖 Agent: </span><span style=\"color: #008000; text-decoration-color: #008000\">Search Engine Agent</span>\n",
              "│       <span style=\"color: #c0c0c0; text-decoration-color: #c0c0c0\">    Status: </span><span style=\"color: #008000; text-decoration-color: #008000; font-weight: bold\">✅ Completed</span>\n",
              "│       ├── <span style=\"color: #008000; text-decoration-color: #008000; font-weight: bold\">🔧 </span><span style=\"color: #008000; text-decoration-color: #008000\">Used search_engine_tool (1)</span>\n",
              "│       └── <span style=\"color: #008000; text-decoration-color: #008000; font-weight: bold\">🔧 </span><span style=\"color: #008000; text-decoration-color: #008000\">Used Search the internet with Serper (1)</span>\n",
              "├── <span style=\"color: #008000; text-decoration-color: #008000; font-weight: bold\">📋 Task: 4c154cff-ef90-4456-82cd-0f69096b13fa</span>\n",
              "│   <span style=\"color: #c0c0c0; text-decoration-color: #c0c0c0\">   Assigned to: </span><span style=\"color: #008000; text-decoration-color: #008000\">Web Scraping Agent</span>\n",
              "│   <span style=\"color: #c0c0c0; text-decoration-color: #c0c0c0\">   Status: </span><span style=\"color: #008000; text-decoration-color: #008000; font-weight: bold\">✅ Completed</span>\n",
              "│   └── <span style=\"color: #008000; text-decoration-color: #008000; font-weight: bold\">🤖 Agent: </span><span style=\"color: #008000; text-decoration-color: #008000\">Web Scraping Agent</span>\n",
              "│       <span style=\"color: #c0c0c0; text-decoration-color: #c0c0c0\">    Status: </span><span style=\"color: #008000; text-decoration-color: #008000; font-weight: bold\">✅ Completed</span>\n",
              "│       └── <span style=\"color: #008000; text-decoration-color: #008000; font-weight: bold\">🔧 </span><span style=\"color: #008000; text-decoration-color: #008000\">Used web_scraping_tool (2)</span>\n",
              "└── <span style=\"color: #808000; text-decoration-color: #808000; font-weight: bold\">📋 Task: 9ef9b149-16b5-4809-b848-c23ad0d7b6bb</span>\n",
              "    <span style=\"color: #c0c0c0; text-decoration-color: #c0c0c0\">   Status: </span><span style=\"color: #bfbf7f; text-decoration-color: #bfbf7f\">Executing Task...</span>\n",
              "    └── <span style=\"color: #008000; text-decoration-color: #008000; font-weight: bold\">🤖 Agent: </span><span style=\"color: #008000; text-decoration-color: #008000\">Hotel Report Author Agent</span>\n",
              "        <span style=\"color: #c0c0c0; text-decoration-color: #c0c0c0\">    Status: </span><span style=\"color: #008000; text-decoration-color: #008000; font-weight: bold\">In Progress</span>\n",
              "</pre>\n"
            ]
          },
          "metadata": {}
        },
        {
          "output_type": "display_data",
          "data": {
            "text/plain": [
              "\n"
            ],
            "text/html": [
              "<pre style=\"white-space:pre;overflow-x:auto;line-height:normal;font-family:Menlo,'DejaVu Sans Mono',consolas,'Courier New',monospace\">\n",
              "</pre>\n"
            ]
          },
          "metadata": {}
        },
        {
          "output_type": "stream",
          "name": "stdout",
          "text": [
            "\u001b[1m\u001b[95m# Agent:\u001b[00m \u001b[1m\u001b[92mHotel Report Author Agent\u001b[00m\n",
            "\u001b[95m## Task:\u001b[00m \u001b[92mThe task is to generate a professional HTML page for the Hotel recommendation report.\n",
            "You have to use Bootstrap CSS framework for a better UI.\n",
            "The report will include the search results and prices of hotels from different websites.\n",
            "The report should be structured with the following sections:\n",
            "1. Executive Summary: A brief overview of the hotel process and key findings.\n",
            "2. Introduction: An introduction to the purpose and scope of the report.\n",
            "3. Methodology: A description of the methods used to gather and compare prices.\n",
            "4. Findings: Detailed comparison of prices from different websites, including tables and charts.\n",
            "5. Analysis: An analysis of the findings, highlighting any significant trends or observations.\n",
            "6. Recommendations: Suggestions for Hotel based on the analysis.\n",
            "7. Conclusion: A summary of the report and final thoughts.\n",
            "8. Appendices: Any additional information, such as raw data or supplementary materials.\u001b[00m\n"
          ]
        },
        {
          "output_type": "display_data",
          "data": {
            "text/plain": [
              "\u001b[1;36m🚀 Crew: \u001b[0m\u001b[1;36mcrew\u001b[0m\n",
              "├── \u001b[1;32m📋 Task: bcf4ba67-2cd5-45cd-9a30-27a6a5611dcf\u001b[0m\n",
              "│   \u001b[37m   Assigned to: \u001b[0m\u001b[32mSearch Query Generator Agent\u001b[0m\n",
              "│   \u001b[37m   Status: \u001b[0m\u001b[1;32m✅ Completed\u001b[0m\n",
              "│   └── \u001b[1;32m🤖 Agent: \u001b[0m\u001b[32mSearch Query Generator Agent\u001b[0m\n",
              "│       \u001b[37m    Status: \u001b[0m\u001b[1;32m✅ Completed\u001b[0m\n",
              "├── \u001b[1;32m📋 Task: 38bdebe6-607d-447b-a60f-f2de84f4cfb9\u001b[0m\n",
              "│   \u001b[37m   Assigned to: \u001b[0m\u001b[32mSearch Engine Agent\u001b[0m\n",
              "│   \u001b[37m   Status: \u001b[0m\u001b[1;32m✅ Completed\u001b[0m\n",
              "│   └── \u001b[1;32m🤖 Agent: \u001b[0m\u001b[32mSearch Engine Agent\u001b[0m\n",
              "│       \u001b[37m    Status: \u001b[0m\u001b[1;32m✅ Completed\u001b[0m\n",
              "│       ├── \u001b[1;32m🔧 \u001b[0m\u001b[32mUsed search_engine_tool (1)\u001b[0m\n",
              "│       └── \u001b[1;32m🔧 \u001b[0m\u001b[32mUsed Search the internet with Serper (1)\u001b[0m\n",
              "├── \u001b[1;32m📋 Task: 4c154cff-ef90-4456-82cd-0f69096b13fa\u001b[0m\n",
              "│   \u001b[37m   Assigned to: \u001b[0m\u001b[32mWeb Scraping Agent\u001b[0m\n",
              "│   \u001b[37m   Status: \u001b[0m\u001b[1;32m✅ Completed\u001b[0m\n",
              "│   └── \u001b[1;32m🤖 Agent: \u001b[0m\u001b[32mWeb Scraping Agent\u001b[0m\n",
              "│       \u001b[37m    Status: \u001b[0m\u001b[1;32m✅ Completed\u001b[0m\n",
              "│       └── \u001b[1;32m🔧 \u001b[0m\u001b[32mUsed web_scraping_tool (2)\u001b[0m\n",
              "└── \u001b[1;33m📋 Task: 9ef9b149-16b5-4809-b848-c23ad0d7b6bb\u001b[0m\n",
              "    \u001b[37m   Status: \u001b[0m\u001b[2;33mExecuting Task...\u001b[0m\n",
              "    └── \u001b[1;32m🤖 Agent: \u001b[0m\u001b[32mHotel Report Author Agent\u001b[0m\n",
              "        \u001b[37m    Status: \u001b[0m\u001b[1;32mIn Progress\u001b[0m\n",
              "        └── \u001b[1;34m🧠 \u001b[0m\u001b[34mThinking...\u001b[0m\n"
            ],
            "text/html": [
              "<pre style=\"white-space:pre;overflow-x:auto;line-height:normal;font-family:Menlo,'DejaVu Sans Mono',consolas,'Courier New',monospace\"><span style=\"color: #008080; text-decoration-color: #008080; font-weight: bold\">🚀 Crew: crew</span>\n",
              "├── <span style=\"color: #008000; text-decoration-color: #008000; font-weight: bold\">📋 Task: bcf4ba67-2cd5-45cd-9a30-27a6a5611dcf</span>\n",
              "│   <span style=\"color: #c0c0c0; text-decoration-color: #c0c0c0\">   Assigned to: </span><span style=\"color: #008000; text-decoration-color: #008000\">Search Query Generator Agent</span>\n",
              "│   <span style=\"color: #c0c0c0; text-decoration-color: #c0c0c0\">   Status: </span><span style=\"color: #008000; text-decoration-color: #008000; font-weight: bold\">✅ Completed</span>\n",
              "│   └── <span style=\"color: #008000; text-decoration-color: #008000; font-weight: bold\">🤖 Agent: </span><span style=\"color: #008000; text-decoration-color: #008000\">Search Query Generator Agent</span>\n",
              "│       <span style=\"color: #c0c0c0; text-decoration-color: #c0c0c0\">    Status: </span><span style=\"color: #008000; text-decoration-color: #008000; font-weight: bold\">✅ Completed</span>\n",
              "├── <span style=\"color: #008000; text-decoration-color: #008000; font-weight: bold\">📋 Task: 38bdebe6-607d-447b-a60f-f2de84f4cfb9</span>\n",
              "│   <span style=\"color: #c0c0c0; text-decoration-color: #c0c0c0\">   Assigned to: </span><span style=\"color: #008000; text-decoration-color: #008000\">Search Engine Agent</span>\n",
              "│   <span style=\"color: #c0c0c0; text-decoration-color: #c0c0c0\">   Status: </span><span style=\"color: #008000; text-decoration-color: #008000; font-weight: bold\">✅ Completed</span>\n",
              "│   └── <span style=\"color: #008000; text-decoration-color: #008000; font-weight: bold\">🤖 Agent: </span><span style=\"color: #008000; text-decoration-color: #008000\">Search Engine Agent</span>\n",
              "│       <span style=\"color: #c0c0c0; text-decoration-color: #c0c0c0\">    Status: </span><span style=\"color: #008000; text-decoration-color: #008000; font-weight: bold\">✅ Completed</span>\n",
              "│       ├── <span style=\"color: #008000; text-decoration-color: #008000; font-weight: bold\">🔧 </span><span style=\"color: #008000; text-decoration-color: #008000\">Used search_engine_tool (1)</span>\n",
              "│       └── <span style=\"color: #008000; text-decoration-color: #008000; font-weight: bold\">🔧 </span><span style=\"color: #008000; text-decoration-color: #008000\">Used Search the internet with Serper (1)</span>\n",
              "├── <span style=\"color: #008000; text-decoration-color: #008000; font-weight: bold\">📋 Task: 4c154cff-ef90-4456-82cd-0f69096b13fa</span>\n",
              "│   <span style=\"color: #c0c0c0; text-decoration-color: #c0c0c0\">   Assigned to: </span><span style=\"color: #008000; text-decoration-color: #008000\">Web Scraping Agent</span>\n",
              "│   <span style=\"color: #c0c0c0; text-decoration-color: #c0c0c0\">   Status: </span><span style=\"color: #008000; text-decoration-color: #008000; font-weight: bold\">✅ Completed</span>\n",
              "│   └── <span style=\"color: #008000; text-decoration-color: #008000; font-weight: bold\">🤖 Agent: </span><span style=\"color: #008000; text-decoration-color: #008000\">Web Scraping Agent</span>\n",
              "│       <span style=\"color: #c0c0c0; text-decoration-color: #c0c0c0\">    Status: </span><span style=\"color: #008000; text-decoration-color: #008000; font-weight: bold\">✅ Completed</span>\n",
              "│       └── <span style=\"color: #008000; text-decoration-color: #008000; font-weight: bold\">🔧 </span><span style=\"color: #008000; text-decoration-color: #008000\">Used web_scraping_tool (2)</span>\n",
              "└── <span style=\"color: #808000; text-decoration-color: #808000; font-weight: bold\">📋 Task: 9ef9b149-16b5-4809-b848-c23ad0d7b6bb</span>\n",
              "    <span style=\"color: #c0c0c0; text-decoration-color: #c0c0c0\">   Status: </span><span style=\"color: #bfbf7f; text-decoration-color: #bfbf7f\">Executing Task...</span>\n",
              "    └── <span style=\"color: #008000; text-decoration-color: #008000; font-weight: bold\">🤖 Agent: </span><span style=\"color: #008000; text-decoration-color: #008000\">Hotel Report Author Agent</span>\n",
              "        <span style=\"color: #c0c0c0; text-decoration-color: #c0c0c0\">    Status: </span><span style=\"color: #008000; text-decoration-color: #008000; font-weight: bold\">In Progress</span>\n",
              "        └── <span style=\"color: #000080; text-decoration-color: #000080; font-weight: bold\">🧠 </span><span style=\"color: #000080; text-decoration-color: #000080\">Thinking...</span>\n",
              "</pre>\n"
            ]
          },
          "metadata": {}
        },
        {
          "output_type": "display_data",
          "data": {
            "text/plain": [
              "\n"
            ],
            "text/html": [
              "<pre style=\"white-space:pre;overflow-x:auto;line-height:normal;font-family:Menlo,'DejaVu Sans Mono',consolas,'Courier New',monospace\">\n",
              "</pre>\n"
            ]
          },
          "metadata": {}
        },
        {
          "output_type": "stream",
          "name": "stderr",
          "text": [
            "\u001b[92m01:15:00 - LiteLLM:WARNING\u001b[0m: utils.py:428 - `litellm.set_verbose` is deprecated. Please set `os.environ['LITELLM_LOG'] = 'DEBUG'` for debug logs.\n",
            "WARNING:LiteLLM:`litellm.set_verbose` is deprecated. Please set `os.environ['LITELLM_LOG'] = 'DEBUG'` for debug logs.\n"
          ]
        },
        {
          "output_type": "stream",
          "name": "stdout",
          "text": [
            "Initialized litellm callbacks, Async Success Callbacks: [<crewai.utilities.token_counter_callback.TokenCalcHandler object at 0x7c07a1b0a250>]\n",
            "SYNC kwargs[caching]: False; litellm.cache: None; kwargs.get('cache')['no-cache']: False\n",
            "Final returned optional params: {'temperature': 0, 'stream': False, 'stop': ['\\nObservation:'], 'extra_body': {}}\n",
            "RAW RESPONSE:\n",
            "{\"id\": \"chatcmpl-BCymqGYlx56HXwypCx1IEZxYN7IIo\", \"choices\": [{\"finish_reason\": \"stop\", \"index\": 0, \"logprobs\": null, \"message\": {\"content\": \"Thought: I now can give a great answer  \\nFinal Answer: \\n\\n```html\\n<!DOCTYPE html>\\n<html lang=\\\"en\\\">\\n<head>\\n    <meta charset=\\\"UTF-8\\\">\\n    <meta name=\\\"viewport\\\" content=\\\"width=device-width, initial-scale=1.0\\\">\\n    <title>Hotel Recommendation Report</title>\\n    <link href=\\\"https://stackpath.bootstrapcdn.com/bootstrap/4.5.2/css/bootstrap.min.css\\\" rel=\\\"stylesheet\\\">\\n</head>\\n<body>\\n    <div class=\\\"container mt-5\\\">\\n        <header class=\\\"text-center mb-4\\\">\\n            <h1>Hotel Recommendation Report</h1>\\n        </header>\\n\\n        <section id=\\\"executive-summary\\\" class=\\\"mb-5\\\">\\n            <h2>Executive Summary</h2>\\n            <p>This report provides a comprehensive analysis of hotel options in Cairo, focusing on the Steigenberger Hotel El Tahrir Cairo. Key findings include its prime location, excellent amenities, and high customer satisfaction ratings.</p>\\n        </section>\\n\\n        <section id=\\\"introduction\\\" class=\\\"mb-5\\\">\\n            <h2>Introduction</h2>\\n            <p>The purpose of this report is to evaluate hotel options in Cairo for potential travelers. The scope includes a detailed comparison of prices and amenities from various booking platforms.</p>\\n        </section>\\n\\n        <section id=\\\"methodology\\\" class=\\\"mb-5\\\">\\n            <h2>Methodology</h2>\\n            <p>Data was gathered from multiple online booking platforms, focusing on price, location, amenities, and customer reviews. The comparison was made to identify the best value for travelers.</p>\\n        </section>\\n\\n        <section id=\\\"findings\\\" class=\\\"mb-5\\\">\\n            <h2>Findings</h2>\\n            <table class=\\\"table table-bordered\\\">\\n                <thead>\\n                    <tr>\\n                        <th>Hotel Name</th>\\n                        <th>Location</th>\\n                        <th>Rating</th>\\n                        <th>Reviews</th>\\n                        <th>Price (USD)</th>\\n                        <th>Facilities</th>\\n                    </tr>\\n                </thead>\\n                <tbody>\\n                    <tr>\\n                        <td><a href=\\\"https://www.booking.com/index.html?label=gen173nr-1FCAMYBShDONsDSDNYBGgviAEBmAExuAEXyAEM2AEB6AEB-AECiAIBqAIDuAL-1-2-BsACAdICJGYxZGNkMDBhLTQ0MGYtNGU2Yy05YTVjLWZjODUwNjY2MjgwNtgCBeACAQ&sid=290b1d9d35cd6d82ae7654a7760448f8&click_from_logo=1\\\">Steigenberger Hotel El Tahrir Cairo</a></td>\\n                        <td>Downtown Cairo, Cairo</td>\\n                        <td>9.3</td>\\n                        <td>12,283</td>\\n                        <td>114.33</td>\\n                        <td>Bar, Room Service, Restaurant, Terrace</td>\\n                    </tr>\\n                </tbody>\\n            </table>\\n        </section>\\n\\n        <section id=\\\"analysis\\\" class=\\\"mb-5\\\">\\n            <h2>Analysis</h2>\\n            <p>The Steigenberger Hotel El Tahrir Cairo stands out due to its central location and high customer ratings. The proximity to major attractions and excellent amenities make it a top choice for travelers.</p>\\n        </section>\\n\\n        <section id=\\\"recommendations\\\" class=\\\"mb-5\\\">\\n            <h2>Recommendations</h2>\\n            <p>Based on the analysis, the Steigenberger Hotel El Tahrir Cairo is highly recommended for its strategic location, excellent service, and competitive pricing.</p>\\n        </section>\\n\\n        <section id=\\\"conclusion\\\" class=\\\"mb-5\\\">\\n            <h2>Conclusion</h2>\\n            <p>In conclusion, the Steigenberger Hotel El Tahrir Cairo offers exceptional value for travelers seeking comfort and convenience in Cairo. Its high ratings and positive reviews further reinforce its status as a preferred choice.</p>\\n        </section>\\n\\n        <section id=\\\"appendices\\\" class=\\\"mb-5\\\">\\n            <h2>Appendices</h2>\\n            <p>Additional information, such as raw data and supplementary materials, can be provided upon request.</p>\\n        </section>\\n    </div>\\n\\n    <script src=\\\"https://code.jquery.com/jquery-3.5.1.slim.min.js\\\"></script>\\n    <script src=\\\"https://cdn.jsdelivr.net/npm/@popperjs/core@2.9.2/dist/umd/popper.min.js\\\"></script>\\n    <script src=\\\"https://stackpath.bootstrapcdn.com/bootstrap/4.5.2/js/bootstrap.min.js\\\"></script>\\n</body>\\n</html>\\n```\\n\\nThis HTML page uses the Bootstrap CSS framework to create a structured and professional report on hotel recommendations, specifically focusing on the Steigenberger Hotel El Tahrir Cairo. Each section of the report is clearly defined, providing a comprehensive overview and analysis of the hotel options.\", \"refusal\": null, \"role\": \"assistant\", \"audio\": null, \"function_call\": null, \"tool_calls\": null, \"annotations\": []}}], \"created\": 1742433300, \"model\": \"gpt-4o-2024-08-06\", \"object\": \"chat.completion\", \"service_tier\": \"default\", \"system_fingerprint\": \"fp_6ec83003ad\", \"usage\": {\"completion_tokens\": 1082, \"prompt_tokens\": 879, \"total_tokens\": 1961, \"completion_tokens_details\": {\"accepted_prediction_tokens\": 0, \"audio_tokens\": 0, \"reasoning_tokens\": 0, \"rejected_prediction_tokens\": 0}, \"prompt_tokens_details\": {\"audio_tokens\": 0, \"cached_tokens\": 0}}}\n",
            "\n",
            "\n"
          ]
        },
        {
          "output_type": "display_data",
          "data": {
            "text/plain": [
              "\u001b[1;36m🚀 Crew: \u001b[0m\u001b[1;36mcrew\u001b[0m\n",
              "├── \u001b[1;32m📋 Task: bcf4ba67-2cd5-45cd-9a30-27a6a5611dcf\u001b[0m\n",
              "│   \u001b[37m   Assigned to: \u001b[0m\u001b[32mSearch Query Generator Agent\u001b[0m\n",
              "│   \u001b[37m   Status: \u001b[0m\u001b[1;32m✅ Completed\u001b[0m\n",
              "│   └── \u001b[1;32m🤖 Agent: \u001b[0m\u001b[32mSearch Query Generator Agent\u001b[0m\n",
              "│       \u001b[37m    Status: \u001b[0m\u001b[1;32m✅ Completed\u001b[0m\n",
              "├── \u001b[1;32m📋 Task: 38bdebe6-607d-447b-a60f-f2de84f4cfb9\u001b[0m\n",
              "│   \u001b[37m   Assigned to: \u001b[0m\u001b[32mSearch Engine Agent\u001b[0m\n",
              "│   \u001b[37m   Status: \u001b[0m\u001b[1;32m✅ Completed\u001b[0m\n",
              "│   └── \u001b[1;32m🤖 Agent: \u001b[0m\u001b[32mSearch Engine Agent\u001b[0m\n",
              "│       \u001b[37m    Status: \u001b[0m\u001b[1;32m✅ Completed\u001b[0m\n",
              "│       ├── \u001b[1;32m🔧 \u001b[0m\u001b[32mUsed search_engine_tool (1)\u001b[0m\n",
              "│       └── \u001b[1;32m🔧 \u001b[0m\u001b[32mUsed Search the internet with Serper (1)\u001b[0m\n",
              "├── \u001b[1;32m📋 Task: 4c154cff-ef90-4456-82cd-0f69096b13fa\u001b[0m\n",
              "│   \u001b[37m   Assigned to: \u001b[0m\u001b[32mWeb Scraping Agent\u001b[0m\n",
              "│   \u001b[37m   Status: \u001b[0m\u001b[1;32m✅ Completed\u001b[0m\n",
              "│   └── \u001b[1;32m🤖 Agent: \u001b[0m\u001b[32mWeb Scraping Agent\u001b[0m\n",
              "│       \u001b[37m    Status: \u001b[0m\u001b[1;32m✅ Completed\u001b[0m\n",
              "│       └── \u001b[1;32m🔧 \u001b[0m\u001b[32mUsed web_scraping_tool (2)\u001b[0m\n",
              "└── \u001b[1;33m📋 Task: 9ef9b149-16b5-4809-b848-c23ad0d7b6bb\u001b[0m\n",
              "    \u001b[37m   Status: \u001b[0m\u001b[2;33mExecuting Task...\u001b[0m\n",
              "    └── \u001b[1;32m🤖 Agent: \u001b[0m\u001b[32mHotel Report Author Agent\u001b[0m\n",
              "        \u001b[37m    Status: \u001b[0m\u001b[1;32mIn Progress\u001b[0m\n"
            ],
            "text/html": [
              "<pre style=\"white-space:pre;overflow-x:auto;line-height:normal;font-family:Menlo,'DejaVu Sans Mono',consolas,'Courier New',monospace\"><span style=\"color: #008080; text-decoration-color: #008080; font-weight: bold\">🚀 Crew: crew</span>\n",
              "├── <span style=\"color: #008000; text-decoration-color: #008000; font-weight: bold\">📋 Task: bcf4ba67-2cd5-45cd-9a30-27a6a5611dcf</span>\n",
              "│   <span style=\"color: #c0c0c0; text-decoration-color: #c0c0c0\">   Assigned to: </span><span style=\"color: #008000; text-decoration-color: #008000\">Search Query Generator Agent</span>\n",
              "│   <span style=\"color: #c0c0c0; text-decoration-color: #c0c0c0\">   Status: </span><span style=\"color: #008000; text-decoration-color: #008000; font-weight: bold\">✅ Completed</span>\n",
              "│   └── <span style=\"color: #008000; text-decoration-color: #008000; font-weight: bold\">🤖 Agent: </span><span style=\"color: #008000; text-decoration-color: #008000\">Search Query Generator Agent</span>\n",
              "│       <span style=\"color: #c0c0c0; text-decoration-color: #c0c0c0\">    Status: </span><span style=\"color: #008000; text-decoration-color: #008000; font-weight: bold\">✅ Completed</span>\n",
              "├── <span style=\"color: #008000; text-decoration-color: #008000; font-weight: bold\">📋 Task: 38bdebe6-607d-447b-a60f-f2de84f4cfb9</span>\n",
              "│   <span style=\"color: #c0c0c0; text-decoration-color: #c0c0c0\">   Assigned to: </span><span style=\"color: #008000; text-decoration-color: #008000\">Search Engine Agent</span>\n",
              "│   <span style=\"color: #c0c0c0; text-decoration-color: #c0c0c0\">   Status: </span><span style=\"color: #008000; text-decoration-color: #008000; font-weight: bold\">✅ Completed</span>\n",
              "│   └── <span style=\"color: #008000; text-decoration-color: #008000; font-weight: bold\">🤖 Agent: </span><span style=\"color: #008000; text-decoration-color: #008000\">Search Engine Agent</span>\n",
              "│       <span style=\"color: #c0c0c0; text-decoration-color: #c0c0c0\">    Status: </span><span style=\"color: #008000; text-decoration-color: #008000; font-weight: bold\">✅ Completed</span>\n",
              "│       ├── <span style=\"color: #008000; text-decoration-color: #008000; font-weight: bold\">🔧 </span><span style=\"color: #008000; text-decoration-color: #008000\">Used search_engine_tool (1)</span>\n",
              "│       └── <span style=\"color: #008000; text-decoration-color: #008000; font-weight: bold\">🔧 </span><span style=\"color: #008000; text-decoration-color: #008000\">Used Search the internet with Serper (1)</span>\n",
              "├── <span style=\"color: #008000; text-decoration-color: #008000; font-weight: bold\">📋 Task: 4c154cff-ef90-4456-82cd-0f69096b13fa</span>\n",
              "│   <span style=\"color: #c0c0c0; text-decoration-color: #c0c0c0\">   Assigned to: </span><span style=\"color: #008000; text-decoration-color: #008000\">Web Scraping Agent</span>\n",
              "│   <span style=\"color: #c0c0c0; text-decoration-color: #c0c0c0\">   Status: </span><span style=\"color: #008000; text-decoration-color: #008000; font-weight: bold\">✅ Completed</span>\n",
              "│   └── <span style=\"color: #008000; text-decoration-color: #008000; font-weight: bold\">🤖 Agent: </span><span style=\"color: #008000; text-decoration-color: #008000\">Web Scraping Agent</span>\n",
              "│       <span style=\"color: #c0c0c0; text-decoration-color: #c0c0c0\">    Status: </span><span style=\"color: #008000; text-decoration-color: #008000; font-weight: bold\">✅ Completed</span>\n",
              "│       └── <span style=\"color: #008000; text-decoration-color: #008000; font-weight: bold\">🔧 </span><span style=\"color: #008000; text-decoration-color: #008000\">Used web_scraping_tool (2)</span>\n",
              "└── <span style=\"color: #808000; text-decoration-color: #808000; font-weight: bold\">📋 Task: 9ef9b149-16b5-4809-b848-c23ad0d7b6bb</span>\n",
              "    <span style=\"color: #c0c0c0; text-decoration-color: #c0c0c0\">   Status: </span><span style=\"color: #bfbf7f; text-decoration-color: #bfbf7f\">Executing Task...</span>\n",
              "    └── <span style=\"color: #008000; text-decoration-color: #008000; font-weight: bold\">🤖 Agent: </span><span style=\"color: #008000; text-decoration-color: #008000\">Hotel Report Author Agent</span>\n",
              "        <span style=\"color: #c0c0c0; text-decoration-color: #c0c0c0\">    Status: </span><span style=\"color: #008000; text-decoration-color: #008000; font-weight: bold\">In Progress</span>\n",
              "</pre>\n"
            ]
          },
          "metadata": {}
        },
        {
          "output_type": "display_data",
          "data": {
            "text/plain": [
              "\n"
            ],
            "text/html": [
              "<pre style=\"white-space:pre;overflow-x:auto;line-height:normal;font-family:Menlo,'DejaVu Sans Mono',consolas,'Courier New',monospace\">\n",
              "</pre>\n"
            ]
          },
          "metadata": {}
        },
        {
          "output_type": "stream",
          "name": "stdout",
          "text": [
            "\n",
            "\n",
            "\u001b[1m\u001b[95m# Agent:\u001b[00m \u001b[1m\u001b[92mHotel Report Author Agent\u001b[00m\n",
            "\u001b[95m## Final Answer:\u001b[00m \u001b[92m\n",
            "```html\n",
            "<!DOCTYPE html>\n",
            "<html lang=\"en\">\n",
            "<head>\n",
            "    <meta charset=\"UTF-8\">\n",
            "    <meta name=\"viewport\" content=\"width=device-width, initial-scale=1.0\">\n",
            "    <title>Hotel Recommendation Report</title>\n",
            "    <link href=\"https://stackpath.bootstrapcdn.com/bootstrap/4.5.2/css/bootstrap.min.css\" rel=\"stylesheet\">\n",
            "</head>\n",
            "<body>\n",
            "    <div class=\"container mt-5\">\n",
            "        <header class=\"text-center mb-4\">\n",
            "            <h1>Hotel Recommendation Report</h1>\n",
            "        </header>\n",
            "\n",
            "        <section id=\"executive-summary\" class=\"mb-5\">\n",
            "            <h2>Executive Summary</h2>\n",
            "            <p>This report provides a comprehensive analysis of hotel options in Cairo, focusing on the Steigenberger Hotel El Tahrir Cairo. Key findings include its prime location, excellent amenities, and high customer satisfaction ratings.</p>\n",
            "        </section>\n",
            "\n",
            "        <section id=\"introduction\" class=\"mb-5\">\n",
            "            <h2>Introduction</h2>\n",
            "            <p>The purpose of this report is to evaluate hotel options in Cairo for potential travelers. The scope includes a detailed comparison of prices and amenities from various booking platforms.</p>\n",
            "        </section>\n",
            "\n",
            "        <section id=\"methodology\" class=\"mb-5\">\n",
            "            <h2>Methodology</h2>\n",
            "            <p>Data was gathered from multiple online booking platforms, focusing on price, location, amenities, and customer reviews. The comparison was made to identify the best value for travelers.</p>\n",
            "        </section>\n",
            "\n",
            "        <section id=\"findings\" class=\"mb-5\">\n",
            "            <h2>Findings</h2>\n",
            "            <table class=\"table table-bordered\">\n",
            "                <thead>\n",
            "                    <tr>\n",
            "                        <th>Hotel Name</th>\n",
            "                        <th>Location</th>\n",
            "                        <th>Rating</th>\n",
            "                        <th>Reviews</th>\n",
            "                        <th>Price (USD)</th>\n",
            "                        <th>Facilities</th>\n",
            "                    </tr>\n",
            "                </thead>\n",
            "                <tbody>\n",
            "                    <tr>\n",
            "                        <td><a href=\"https://www.booking.com/index.html?label=gen173nr-1FCAMYBShDONsDSDNYBGgviAEBmAExuAEXyAEM2AEB6AEB-AECiAIBqAIDuAL-1-2-BsACAdICJGYxZGNkMDBhLTQ0MGYtNGU2Yy05YTVjLWZjODUwNjY2MjgwNtgCBeACAQ&sid=290b1d9d35cd6d82ae7654a7760448f8&click_from_logo=1\">Steigenberger Hotel El Tahrir Cairo</a></td>\n",
            "                        <td>Downtown Cairo, Cairo</td>\n",
            "                        <td>9.3</td>\n",
            "                        <td>12,283</td>\n",
            "                        <td>114.33</td>\n",
            "                        <td>Bar, Room Service, Restaurant, Terrace</td>\n",
            "                    </tr>\n",
            "                </tbody>\n",
            "            </table>\n",
            "        </section>\n",
            "\n",
            "        <section id=\"analysis\" class=\"mb-5\">\n",
            "            <h2>Analysis</h2>\n",
            "            <p>The Steigenberger Hotel El Tahrir Cairo stands out due to its central location and high customer ratings. The proximity to major attractions and excellent amenities make it a top choice for travelers.</p>\n",
            "        </section>\n",
            "\n",
            "        <section id=\"recommendations\" class=\"mb-5\">\n",
            "            <h2>Recommendations</h2>\n",
            "            <p>Based on the analysis, the Steigenberger Hotel El Tahrir Cairo is highly recommended for its strategic location, excellent service, and competitive pricing.</p>\n",
            "        </section>\n",
            "\n",
            "        <section id=\"conclusion\" class=\"mb-5\">\n",
            "            <h2>Conclusion</h2>\n",
            "            <p>In conclusion, the Steigenberger Hotel El Tahrir Cairo offers exceptional value for travelers seeking comfort and convenience in Cairo. Its high ratings and positive reviews further reinforce its status as a preferred choice.</p>\n",
            "        </section>\n",
            "\n",
            "        <section id=\"appendices\" class=\"mb-5\">\n",
            "            <h2>Appendices</h2>\n",
            "            <p>Additional information, such as raw data and supplementary materials, can be provided upon request.</p>\n",
            "        </section>\n",
            "    </div>\n",
            "\n",
            "    <script src=\"https://code.jquery.com/jquery-3.5.1.slim.min.js\"></script>\n",
            "    <script src=\"https://cdn.jsdelivr.net/npm/@popperjs/core@2.9.2/dist/umd/popper.min.js\"></script>\n",
            "    <script src=\"https://stackpath.bootstrapcdn.com/bootstrap/4.5.2/js/bootstrap.min.js\"></script>\n",
            "</body>\n",
            "</html>\n",
            "```\n",
            "\n",
            "This HTML page uses the Bootstrap CSS framework to create a structured and professional report on hotel recommendations, specifically focusing on the Steigenberger Hotel El Tahrir Cairo. Each section of the report is clearly defined, providing a comprehensive overview and analysis of the hotel options.\u001b[00m\n",
            "\n",
            "\n"
          ]
        },
        {
          "output_type": "display_data",
          "data": {
            "text/plain": [
              "\u001b[1;36m🚀 Crew: \u001b[0m\u001b[1;36mcrew\u001b[0m\n",
              "├── \u001b[1;32m📋 Task: bcf4ba67-2cd5-45cd-9a30-27a6a5611dcf\u001b[0m\n",
              "│   \u001b[37m   Assigned to: \u001b[0m\u001b[32mSearch Query Generator Agent\u001b[0m\n",
              "│   \u001b[37m   Status: \u001b[0m\u001b[1;32m✅ Completed\u001b[0m\n",
              "│   └── \u001b[1;32m🤖 Agent: \u001b[0m\u001b[32mSearch Query Generator Agent\u001b[0m\n",
              "│       \u001b[37m    Status: \u001b[0m\u001b[1;32m✅ Completed\u001b[0m\n",
              "├── \u001b[1;32m📋 Task: 38bdebe6-607d-447b-a60f-f2de84f4cfb9\u001b[0m\n",
              "│   \u001b[37m   Assigned to: \u001b[0m\u001b[32mSearch Engine Agent\u001b[0m\n",
              "│   \u001b[37m   Status: \u001b[0m\u001b[1;32m✅ Completed\u001b[0m\n",
              "│   └── \u001b[1;32m🤖 Agent: \u001b[0m\u001b[32mSearch Engine Agent\u001b[0m\n",
              "│       \u001b[37m    Status: \u001b[0m\u001b[1;32m✅ Completed\u001b[0m\n",
              "│       ├── \u001b[1;32m🔧 \u001b[0m\u001b[32mUsed search_engine_tool (1)\u001b[0m\n",
              "│       └── \u001b[1;32m🔧 \u001b[0m\u001b[32mUsed Search the internet with Serper (1)\u001b[0m\n",
              "├── \u001b[1;32m📋 Task: 4c154cff-ef90-4456-82cd-0f69096b13fa\u001b[0m\n",
              "│   \u001b[37m   Assigned to: \u001b[0m\u001b[32mWeb Scraping Agent\u001b[0m\n",
              "│   \u001b[37m   Status: \u001b[0m\u001b[1;32m✅ Completed\u001b[0m\n",
              "│   └── \u001b[1;32m🤖 Agent: \u001b[0m\u001b[32mWeb Scraping Agent\u001b[0m\n",
              "│       \u001b[37m    Status: \u001b[0m\u001b[1;32m✅ Completed\u001b[0m\n",
              "│       └── \u001b[1;32m🔧 \u001b[0m\u001b[32mUsed web_scraping_tool (2)\u001b[0m\n",
              "└── \u001b[1;33m📋 Task: 9ef9b149-16b5-4809-b848-c23ad0d7b6bb\u001b[0m\n",
              "    \u001b[37m   Status: \u001b[0m\u001b[2;33mExecuting Task...\u001b[0m\n",
              "    └── \u001b[1;32m🤖 Agent: \u001b[0m\u001b[32mHotel Report Author Agent\u001b[0m\n",
              "        \u001b[37m    Status: \u001b[0m\u001b[1;32m✅ Completed\u001b[0m\n"
            ],
            "text/html": [
              "<pre style=\"white-space:pre;overflow-x:auto;line-height:normal;font-family:Menlo,'DejaVu Sans Mono',consolas,'Courier New',monospace\"><span style=\"color: #008080; text-decoration-color: #008080; font-weight: bold\">🚀 Crew: crew</span>\n",
              "├── <span style=\"color: #008000; text-decoration-color: #008000; font-weight: bold\">📋 Task: bcf4ba67-2cd5-45cd-9a30-27a6a5611dcf</span>\n",
              "│   <span style=\"color: #c0c0c0; text-decoration-color: #c0c0c0\">   Assigned to: </span><span style=\"color: #008000; text-decoration-color: #008000\">Search Query Generator Agent</span>\n",
              "│   <span style=\"color: #c0c0c0; text-decoration-color: #c0c0c0\">   Status: </span><span style=\"color: #008000; text-decoration-color: #008000; font-weight: bold\">✅ Completed</span>\n",
              "│   └── <span style=\"color: #008000; text-decoration-color: #008000; font-weight: bold\">🤖 Agent: </span><span style=\"color: #008000; text-decoration-color: #008000\">Search Query Generator Agent</span>\n",
              "│       <span style=\"color: #c0c0c0; text-decoration-color: #c0c0c0\">    Status: </span><span style=\"color: #008000; text-decoration-color: #008000; font-weight: bold\">✅ Completed</span>\n",
              "├── <span style=\"color: #008000; text-decoration-color: #008000; font-weight: bold\">📋 Task: 38bdebe6-607d-447b-a60f-f2de84f4cfb9</span>\n",
              "│   <span style=\"color: #c0c0c0; text-decoration-color: #c0c0c0\">   Assigned to: </span><span style=\"color: #008000; text-decoration-color: #008000\">Search Engine Agent</span>\n",
              "│   <span style=\"color: #c0c0c0; text-decoration-color: #c0c0c0\">   Status: </span><span style=\"color: #008000; text-decoration-color: #008000; font-weight: bold\">✅ Completed</span>\n",
              "│   └── <span style=\"color: #008000; text-decoration-color: #008000; font-weight: bold\">🤖 Agent: </span><span style=\"color: #008000; text-decoration-color: #008000\">Search Engine Agent</span>\n",
              "│       <span style=\"color: #c0c0c0; text-decoration-color: #c0c0c0\">    Status: </span><span style=\"color: #008000; text-decoration-color: #008000; font-weight: bold\">✅ Completed</span>\n",
              "│       ├── <span style=\"color: #008000; text-decoration-color: #008000; font-weight: bold\">🔧 </span><span style=\"color: #008000; text-decoration-color: #008000\">Used search_engine_tool (1)</span>\n",
              "│       └── <span style=\"color: #008000; text-decoration-color: #008000; font-weight: bold\">🔧 </span><span style=\"color: #008000; text-decoration-color: #008000\">Used Search the internet with Serper (1)</span>\n",
              "├── <span style=\"color: #008000; text-decoration-color: #008000; font-weight: bold\">📋 Task: 4c154cff-ef90-4456-82cd-0f69096b13fa</span>\n",
              "│   <span style=\"color: #c0c0c0; text-decoration-color: #c0c0c0\">   Assigned to: </span><span style=\"color: #008000; text-decoration-color: #008000\">Web Scraping Agent</span>\n",
              "│   <span style=\"color: #c0c0c0; text-decoration-color: #c0c0c0\">   Status: </span><span style=\"color: #008000; text-decoration-color: #008000; font-weight: bold\">✅ Completed</span>\n",
              "│   └── <span style=\"color: #008000; text-decoration-color: #008000; font-weight: bold\">🤖 Agent: </span><span style=\"color: #008000; text-decoration-color: #008000\">Web Scraping Agent</span>\n",
              "│       <span style=\"color: #c0c0c0; text-decoration-color: #c0c0c0\">    Status: </span><span style=\"color: #008000; text-decoration-color: #008000; font-weight: bold\">✅ Completed</span>\n",
              "│       └── <span style=\"color: #008000; text-decoration-color: #008000; font-weight: bold\">🔧 </span><span style=\"color: #008000; text-decoration-color: #008000\">Used web_scraping_tool (2)</span>\n",
              "└── <span style=\"color: #808000; text-decoration-color: #808000; font-weight: bold\">📋 Task: 9ef9b149-16b5-4809-b848-c23ad0d7b6bb</span>\n",
              "    <span style=\"color: #c0c0c0; text-decoration-color: #c0c0c0\">   Status: </span><span style=\"color: #bfbf7f; text-decoration-color: #bfbf7f\">Executing Task...</span>\n",
              "    └── <span style=\"color: #008000; text-decoration-color: #008000; font-weight: bold\">🤖 Agent: </span><span style=\"color: #008000; text-decoration-color: #008000\">Hotel Report Author Agent</span>\n",
              "        <span style=\"color: #c0c0c0; text-decoration-color: #c0c0c0\">    Status: </span><span style=\"color: #008000; text-decoration-color: #008000; font-weight: bold\">✅ Completed</span>\n",
              "</pre>\n"
            ]
          },
          "metadata": {}
        },
        {
          "output_type": "display_data",
          "data": {
            "text/plain": [
              "\n"
            ],
            "text/html": [
              "<pre style=\"white-space:pre;overflow-x:auto;line-height:normal;font-family:Menlo,'DejaVu Sans Mono',consolas,'Courier New',monospace\">\n",
              "</pre>\n"
            ]
          },
          "metadata": {}
        },
        {
          "output_type": "display_data",
          "data": {
            "text/plain": [
              "\u001b[1;36m🚀 Crew: \u001b[0m\u001b[1;36mcrew\u001b[0m\n",
              "├── \u001b[1;32m📋 Task: bcf4ba67-2cd5-45cd-9a30-27a6a5611dcf\u001b[0m\n",
              "│   \u001b[37m   Assigned to: \u001b[0m\u001b[32mSearch Query Generator Agent\u001b[0m\n",
              "│   \u001b[37m   Status: \u001b[0m\u001b[1;32m✅ Completed\u001b[0m\n",
              "│   └── \u001b[1;32m🤖 Agent: \u001b[0m\u001b[32mSearch Query Generator Agent\u001b[0m\n",
              "│       \u001b[37m    Status: \u001b[0m\u001b[1;32m✅ Completed\u001b[0m\n",
              "├── \u001b[1;32m📋 Task: 38bdebe6-607d-447b-a60f-f2de84f4cfb9\u001b[0m\n",
              "│   \u001b[37m   Assigned to: \u001b[0m\u001b[32mSearch Engine Agent\u001b[0m\n",
              "│   \u001b[37m   Status: \u001b[0m\u001b[1;32m✅ Completed\u001b[0m\n",
              "│   └── \u001b[1;32m🤖 Agent: \u001b[0m\u001b[32mSearch Engine Agent\u001b[0m\n",
              "│       \u001b[37m    Status: \u001b[0m\u001b[1;32m✅ Completed\u001b[0m\n",
              "│       ├── \u001b[1;32m🔧 \u001b[0m\u001b[32mUsed search_engine_tool (1)\u001b[0m\n",
              "│       └── \u001b[1;32m🔧 \u001b[0m\u001b[32mUsed Search the internet with Serper (1)\u001b[0m\n",
              "├── \u001b[1;32m📋 Task: 4c154cff-ef90-4456-82cd-0f69096b13fa\u001b[0m\n",
              "│   \u001b[37m   Assigned to: \u001b[0m\u001b[32mWeb Scraping Agent\u001b[0m\n",
              "│   \u001b[37m   Status: \u001b[0m\u001b[1;32m✅ Completed\u001b[0m\n",
              "│   └── \u001b[1;32m🤖 Agent: \u001b[0m\u001b[32mWeb Scraping Agent\u001b[0m\n",
              "│       \u001b[37m    Status: \u001b[0m\u001b[1;32m✅ Completed\u001b[0m\n",
              "│       └── \u001b[1;32m🔧 \u001b[0m\u001b[32mUsed web_scraping_tool (2)\u001b[0m\n",
              "└── \u001b[1;32m📋 Task: 9ef9b149-16b5-4809-b848-c23ad0d7b6bb\u001b[0m\n",
              "    \u001b[37m   Assigned to: \u001b[0m\u001b[32mHotel Report Author Agent\u001b[0m\n",
              "    \u001b[37m   Status: \u001b[0m\u001b[1;32m✅ Completed\u001b[0m\n",
              "    └── \u001b[1;32m🤖 Agent: \u001b[0m\u001b[32mHotel Report Author Agent\u001b[0m\n",
              "        \u001b[37m    Status: \u001b[0m\u001b[1;32m✅ Completed\u001b[0m\n"
            ],
            "text/html": [
              "<pre style=\"white-space:pre;overflow-x:auto;line-height:normal;font-family:Menlo,'DejaVu Sans Mono',consolas,'Courier New',monospace\"><span style=\"color: #008080; text-decoration-color: #008080; font-weight: bold\">🚀 Crew: crew</span>\n",
              "├── <span style=\"color: #008000; text-decoration-color: #008000; font-weight: bold\">📋 Task: bcf4ba67-2cd5-45cd-9a30-27a6a5611dcf</span>\n",
              "│   <span style=\"color: #c0c0c0; text-decoration-color: #c0c0c0\">   Assigned to: </span><span style=\"color: #008000; text-decoration-color: #008000\">Search Query Generator Agent</span>\n",
              "│   <span style=\"color: #c0c0c0; text-decoration-color: #c0c0c0\">   Status: </span><span style=\"color: #008000; text-decoration-color: #008000; font-weight: bold\">✅ Completed</span>\n",
              "│   └── <span style=\"color: #008000; text-decoration-color: #008000; font-weight: bold\">🤖 Agent: </span><span style=\"color: #008000; text-decoration-color: #008000\">Search Query Generator Agent</span>\n",
              "│       <span style=\"color: #c0c0c0; text-decoration-color: #c0c0c0\">    Status: </span><span style=\"color: #008000; text-decoration-color: #008000; font-weight: bold\">✅ Completed</span>\n",
              "├── <span style=\"color: #008000; text-decoration-color: #008000; font-weight: bold\">📋 Task: 38bdebe6-607d-447b-a60f-f2de84f4cfb9</span>\n",
              "│   <span style=\"color: #c0c0c0; text-decoration-color: #c0c0c0\">   Assigned to: </span><span style=\"color: #008000; text-decoration-color: #008000\">Search Engine Agent</span>\n",
              "│   <span style=\"color: #c0c0c0; text-decoration-color: #c0c0c0\">   Status: </span><span style=\"color: #008000; text-decoration-color: #008000; font-weight: bold\">✅ Completed</span>\n",
              "│   └── <span style=\"color: #008000; text-decoration-color: #008000; font-weight: bold\">🤖 Agent: </span><span style=\"color: #008000; text-decoration-color: #008000\">Search Engine Agent</span>\n",
              "│       <span style=\"color: #c0c0c0; text-decoration-color: #c0c0c0\">    Status: </span><span style=\"color: #008000; text-decoration-color: #008000; font-weight: bold\">✅ Completed</span>\n",
              "│       ├── <span style=\"color: #008000; text-decoration-color: #008000; font-weight: bold\">🔧 </span><span style=\"color: #008000; text-decoration-color: #008000\">Used search_engine_tool (1)</span>\n",
              "│       └── <span style=\"color: #008000; text-decoration-color: #008000; font-weight: bold\">🔧 </span><span style=\"color: #008000; text-decoration-color: #008000\">Used Search the internet with Serper (1)</span>\n",
              "├── <span style=\"color: #008000; text-decoration-color: #008000; font-weight: bold\">📋 Task: 4c154cff-ef90-4456-82cd-0f69096b13fa</span>\n",
              "│   <span style=\"color: #c0c0c0; text-decoration-color: #c0c0c0\">   Assigned to: </span><span style=\"color: #008000; text-decoration-color: #008000\">Web Scraping Agent</span>\n",
              "│   <span style=\"color: #c0c0c0; text-decoration-color: #c0c0c0\">   Status: </span><span style=\"color: #008000; text-decoration-color: #008000; font-weight: bold\">✅ Completed</span>\n",
              "│   └── <span style=\"color: #008000; text-decoration-color: #008000; font-weight: bold\">🤖 Agent: </span><span style=\"color: #008000; text-decoration-color: #008000\">Web Scraping Agent</span>\n",
              "│       <span style=\"color: #c0c0c0; text-decoration-color: #c0c0c0\">    Status: </span><span style=\"color: #008000; text-decoration-color: #008000; font-weight: bold\">✅ Completed</span>\n",
              "│       └── <span style=\"color: #008000; text-decoration-color: #008000; font-weight: bold\">🔧 </span><span style=\"color: #008000; text-decoration-color: #008000\">Used web_scraping_tool (2)</span>\n",
              "└── <span style=\"color: #008000; text-decoration-color: #008000; font-weight: bold\">📋 Task: 9ef9b149-16b5-4809-b848-c23ad0d7b6bb</span>\n",
              "    <span style=\"color: #c0c0c0; text-decoration-color: #c0c0c0\">   Assigned to: </span><span style=\"color: #008000; text-decoration-color: #008000\">Hotel Report Author Agent</span>\n",
              "    <span style=\"color: #c0c0c0; text-decoration-color: #c0c0c0\">   Status: </span><span style=\"color: #008000; text-decoration-color: #008000; font-weight: bold\">✅ Completed</span>\n",
              "    └── <span style=\"color: #008000; text-decoration-color: #008000; font-weight: bold\">🤖 Agent: </span><span style=\"color: #008000; text-decoration-color: #008000\">Hotel Report Author Agent</span>\n",
              "        <span style=\"color: #c0c0c0; text-decoration-color: #c0c0c0\">    Status: </span><span style=\"color: #008000; text-decoration-color: #008000; font-weight: bold\">✅ Completed</span>\n",
              "</pre>\n"
            ]
          },
          "metadata": {}
        },
        {
          "output_type": "display_data",
          "data": {
            "text/plain": [
              "\u001b[32m╭─\u001b[0m\u001b[32m───────────────────────────────────────────────\u001b[0m\u001b[32m Task Completion \u001b[0m\u001b[32m───────────────────────────────────────────────\u001b[0m\u001b[32m─╮\u001b[0m\n",
              "\u001b[32m│\u001b[0m                                                                                                                 \u001b[32m│\u001b[0m\n",
              "\u001b[32m│\u001b[0m  \u001b[1;32mTask Completed\u001b[0m                                                                                                 \u001b[32m│\u001b[0m\n",
              "\u001b[32m│\u001b[0m  \u001b[37mName: \u001b[0m\u001b[32m9ef9b149-16b5-4809-b848-c23ad0d7b6bb\u001b[0m                                                                     \u001b[32m│\u001b[0m\n",
              "\u001b[32m│\u001b[0m  \u001b[37mAgent: \u001b[0m\u001b[32mHotel Report Author Agent\u001b[0m                                                                               \u001b[32m│\u001b[0m\n",
              "\u001b[32m│\u001b[0m                                                                                                                 \u001b[32m│\u001b[0m\n",
              "\u001b[32m│\u001b[0m                                                                                                                 \u001b[32m│\u001b[0m\n",
              "\u001b[32m╰─────────────────────────────────────────────────────────────────────────────────────────────────────────────────╯\u001b[0m\n"
            ],
            "text/html": [
              "<pre style=\"white-space:pre;overflow-x:auto;line-height:normal;font-family:Menlo,'DejaVu Sans Mono',consolas,'Courier New',monospace\"><span style=\"color: #008000; text-decoration-color: #008000\">╭──────────────────────────────────────────────── Task Completion ────────────────────────────────────────────────╮</span>\n",
              "<span style=\"color: #008000; text-decoration-color: #008000\">│</span>                                                                                                                 <span style=\"color: #008000; text-decoration-color: #008000\">│</span>\n",
              "<span style=\"color: #008000; text-decoration-color: #008000\">│</span>  <span style=\"color: #008000; text-decoration-color: #008000; font-weight: bold\">Task Completed</span>                                                                                                 <span style=\"color: #008000; text-decoration-color: #008000\">│</span>\n",
              "<span style=\"color: #008000; text-decoration-color: #008000\">│</span>  <span style=\"color: #c0c0c0; text-decoration-color: #c0c0c0\">Name: </span><span style=\"color: #008000; text-decoration-color: #008000\">9ef9b149-16b5-4809-b848-c23ad0d7b6bb</span>                                                                     <span style=\"color: #008000; text-decoration-color: #008000\">│</span>\n",
              "<span style=\"color: #008000; text-decoration-color: #008000\">│</span>  <span style=\"color: #c0c0c0; text-decoration-color: #c0c0c0\">Agent: </span><span style=\"color: #008000; text-decoration-color: #008000\">Hotel Report Author Agent</span>                                                                               <span style=\"color: #008000; text-decoration-color: #008000\">│</span>\n",
              "<span style=\"color: #008000; text-decoration-color: #008000\">│</span>                                                                                                                 <span style=\"color: #008000; text-decoration-color: #008000\">│</span>\n",
              "<span style=\"color: #008000; text-decoration-color: #008000\">│</span>                                                                                                                 <span style=\"color: #008000; text-decoration-color: #008000\">│</span>\n",
              "<span style=\"color: #008000; text-decoration-color: #008000\">╰─────────────────────────────────────────────────────────────────────────────────────────────────────────────────╯</span>\n",
              "</pre>\n"
            ]
          },
          "metadata": {}
        },
        {
          "output_type": "display_data",
          "data": {
            "text/plain": [
              "\n"
            ],
            "text/html": [
              "<pre style=\"white-space:pre;overflow-x:auto;line-height:normal;font-family:Menlo,'DejaVu Sans Mono',consolas,'Courier New',monospace\">\n",
              "</pre>\n"
            ]
          },
          "metadata": {}
        },
        {
          "output_type": "display_data",
          "data": {
            "text/plain": [
              "\u001b[32m╭─\u001b[0m\u001b[32m───────────────────────────────────────────────\u001b[0m\u001b[32m Crew Completion \u001b[0m\u001b[32m───────────────────────────────────────────────\u001b[0m\u001b[32m─╮\u001b[0m\n",
              "\u001b[32m│\u001b[0m                                                                                                                 \u001b[32m│\u001b[0m\n",
              "\u001b[32m│\u001b[0m  \u001b[1;32mCrew Execution Completed\u001b[0m                                                                                       \u001b[32m│\u001b[0m\n",
              "\u001b[32m│\u001b[0m  \u001b[37mName: \u001b[0m\u001b[32mcrew\u001b[0m                                                                                                     \u001b[32m│\u001b[0m\n",
              "\u001b[32m│\u001b[0m  \u001b[37mID: \u001b[0m\u001b[32mad8e5ae1-5343-415f-bc26-b95894016c11\u001b[0m                                                                       \u001b[32m│\u001b[0m\n",
              "\u001b[32m│\u001b[0m                                                                                                                 \u001b[32m│\u001b[0m\n",
              "\u001b[32m│\u001b[0m                                                                                                                 \u001b[32m│\u001b[0m\n",
              "\u001b[32m╰─────────────────────────────────────────────────────────────────────────────────────────────────────────────────╯\u001b[0m\n"
            ],
            "text/html": [
              "<pre style=\"white-space:pre;overflow-x:auto;line-height:normal;font-family:Menlo,'DejaVu Sans Mono',consolas,'Courier New',monospace\"><span style=\"color: #008000; text-decoration-color: #008000\">╭──────────────────────────────────────────────── Crew Completion ────────────────────────────────────────────────╮</span>\n",
              "<span style=\"color: #008000; text-decoration-color: #008000\">│</span>                                                                                                                 <span style=\"color: #008000; text-decoration-color: #008000\">│</span>\n",
              "<span style=\"color: #008000; text-decoration-color: #008000\">│</span>  <span style=\"color: #008000; text-decoration-color: #008000; font-weight: bold\">Crew Execution Completed</span>                                                                                       <span style=\"color: #008000; text-decoration-color: #008000\">│</span>\n",
              "<span style=\"color: #008000; text-decoration-color: #008000\">│</span>  <span style=\"color: #c0c0c0; text-decoration-color: #c0c0c0\">Name: </span><span style=\"color: #008000; text-decoration-color: #008000\">crew</span>                                                                                                     <span style=\"color: #008000; text-decoration-color: #008000\">│</span>\n",
              "<span style=\"color: #008000; text-decoration-color: #008000\">│</span>  <span style=\"color: #c0c0c0; text-decoration-color: #c0c0c0\">ID: </span><span style=\"color: #008000; text-decoration-color: #008000\">ad8e5ae1-5343-415f-bc26-b95894016c11</span>                                                                       <span style=\"color: #008000; text-decoration-color: #008000\">│</span>\n",
              "<span style=\"color: #008000; text-decoration-color: #008000\">│</span>                                                                                                                 <span style=\"color: #008000; text-decoration-color: #008000\">│</span>\n",
              "<span style=\"color: #008000; text-decoration-color: #008000\">│</span>                                                                                                                 <span style=\"color: #008000; text-decoration-color: #008000\">│</span>\n",
              "<span style=\"color: #008000; text-decoration-color: #008000\">╰─────────────────────────────────────────────────────────────────────────────────────────────────────────────────╯</span>\n",
              "</pre>\n"
            ]
          },
          "metadata": {}
        },
        {
          "output_type": "display_data",
          "data": {
            "text/plain": [
              "\n"
            ],
            "text/html": [
              "<pre style=\"white-space:pre;overflow-x:auto;line-height:normal;font-family:Menlo,'DejaVu Sans Mono',consolas,'Courier New',monospace\">\n",
              "</pre>\n"
            ]
          },
          "metadata": {}
        },
        {
          "output_type": "stream",
          "name": "stdout",
          "text": [
            "\n",
            "✅ Trip Planning AI Crew completed!\n",
            "⏱️ Trip planning process completed in 86.11 seconds\n",
            "\n",
            "Found 1 hotels within your budget range.\n",
            "Price range: $114.332 - $114.332\n",
            "\n",
            "You can find all outputs in the './trip-planning-output' directory\n",
            "Would you like to download the output files? (yes/no): yes\n",
            "Downloading output files...\n"
          ]
        },
        {
          "output_type": "display_data",
          "data": {
            "text/plain": [
              "<IPython.core.display.Javascript object>"
            ],
            "application/javascript": [
              "\n",
              "    async function download(id, filename, size) {\n",
              "      if (!google.colab.kernel.accessAllowed) {\n",
              "        return;\n",
              "      }\n",
              "      const div = document.createElement('div');\n",
              "      const label = document.createElement('label');\n",
              "      label.textContent = `Downloading \"${filename}\": `;\n",
              "      div.appendChild(label);\n",
              "      const progress = document.createElement('progress');\n",
              "      progress.max = size;\n",
              "      div.appendChild(progress);\n",
              "      document.body.appendChild(div);\n",
              "\n",
              "      const buffers = [];\n",
              "      let downloaded = 0;\n",
              "\n",
              "      const channel = await google.colab.kernel.comms.open(id);\n",
              "      // Send a message to notify the kernel that we're ready.\n",
              "      channel.send({})\n",
              "\n",
              "      for await (const message of channel.messages) {\n",
              "        // Send a message to notify the kernel that we're ready.\n",
              "        channel.send({})\n",
              "        if (message.buffers) {\n",
              "          for (const buffer of message.buffers) {\n",
              "            buffers.push(buffer);\n",
              "            downloaded += buffer.byteLength;\n",
              "            progress.value = downloaded;\n",
              "          }\n",
              "        }\n",
              "      }\n",
              "      const blob = new Blob(buffers, {type: 'application/binary'});\n",
              "      const a = document.createElement('a');\n",
              "      a.href = window.URL.createObjectURL(blob);\n",
              "      a.download = filename;\n",
              "      div.appendChild(a);\n",
              "      a.click();\n",
              "      div.remove();\n",
              "    }\n",
              "  "
            ]
          },
          "metadata": {}
        },
        {
          "output_type": "display_data",
          "data": {
            "text/plain": [
              "<IPython.core.display.Javascript object>"
            ],
            "application/javascript": [
              "download(\"download_b57b55b2-78bf-4ac6-aecd-d385da205043\", \"step_1_search_queries.json\", 731)"
            ]
          },
          "metadata": {}
        },
        {
          "output_type": "stream",
          "name": "stdout",
          "text": [
            "Downloaded: ./trip-planning-output/step_1_search_queries.json\n"
          ]
        },
        {
          "output_type": "display_data",
          "data": {
            "text/plain": [
              "<IPython.core.display.Javascript object>"
            ],
            "application/javascript": [
              "\n",
              "    async function download(id, filename, size) {\n",
              "      if (!google.colab.kernel.accessAllowed) {\n",
              "        return;\n",
              "      }\n",
              "      const div = document.createElement('div');\n",
              "      const label = document.createElement('label');\n",
              "      label.textContent = `Downloading \"${filename}\": `;\n",
              "      div.appendChild(label);\n",
              "      const progress = document.createElement('progress');\n",
              "      progress.max = size;\n",
              "      div.appendChild(progress);\n",
              "      document.body.appendChild(div);\n",
              "\n",
              "      const buffers = [];\n",
              "      let downloaded = 0;\n",
              "\n",
              "      const channel = await google.colab.kernel.comms.open(id);\n",
              "      // Send a message to notify the kernel that we're ready.\n",
              "      channel.send({})\n",
              "\n",
              "      for await (const message of channel.messages) {\n",
              "        // Send a message to notify the kernel that we're ready.\n",
              "        channel.send({})\n",
              "        if (message.buffers) {\n",
              "          for (const buffer of message.buffers) {\n",
              "            buffers.push(buffer);\n",
              "            downloaded += buffer.byteLength;\n",
              "            progress.value = downloaded;\n",
              "          }\n",
              "        }\n",
              "      }\n",
              "      const blob = new Blob(buffers, {type: 'application/binary'});\n",
              "      const a = document.createElement('a');\n",
              "      a.href = window.URL.createObjectURL(blob);\n",
              "      a.download = filename;\n",
              "      div.appendChild(a);\n",
              "      a.click();\n",
              "      div.remove();\n",
              "    }\n",
              "  "
            ]
          },
          "metadata": {}
        },
        {
          "output_type": "display_data",
          "data": {
            "text/plain": [
              "<IPython.core.display.Javascript object>"
            ],
            "application/javascript": [
              "download(\"download_b025bbc0-d2c2-45d4-84e2-3812bf3024b3\", \"step_2_search_results.json\", 2198)"
            ]
          },
          "metadata": {}
        },
        {
          "output_type": "stream",
          "name": "stdout",
          "text": [
            "Downloaded: ./trip-planning-output/step_2_search_results.json\n"
          ]
        },
        {
          "output_type": "display_data",
          "data": {
            "text/plain": [
              "<IPython.core.display.Javascript object>"
            ],
            "application/javascript": [
              "\n",
              "    async function download(id, filename, size) {\n",
              "      if (!google.colab.kernel.accessAllowed) {\n",
              "        return;\n",
              "      }\n",
              "      const div = document.createElement('div');\n",
              "      const label = document.createElement('label');\n",
              "      label.textContent = `Downloading \"${filename}\": `;\n",
              "      div.appendChild(label);\n",
              "      const progress = document.createElement('progress');\n",
              "      progress.max = size;\n",
              "      div.appendChild(progress);\n",
              "      document.body.appendChild(div);\n",
              "\n",
              "      const buffers = [];\n",
              "      let downloaded = 0;\n",
              "\n",
              "      const channel = await google.colab.kernel.comms.open(id);\n",
              "      // Send a message to notify the kernel that we're ready.\n",
              "      channel.send({})\n",
              "\n",
              "      for await (const message of channel.messages) {\n",
              "        // Send a message to notify the kernel that we're ready.\n",
              "        channel.send({})\n",
              "        if (message.buffers) {\n",
              "          for (const buffer of message.buffers) {\n",
              "            buffers.push(buffer);\n",
              "            downloaded += buffer.byteLength;\n",
              "            progress.value = downloaded;\n",
              "          }\n",
              "        }\n",
              "      }\n",
              "      const blob = new Blob(buffers, {type: 'application/binary'});\n",
              "      const a = document.createElement('a');\n",
              "      a.href = window.URL.createObjectURL(blob);\n",
              "      a.download = filename;\n",
              "      div.appendChild(a);\n",
              "      a.click();\n",
              "      div.remove();\n",
              "    }\n",
              "  "
            ]
          },
          "metadata": {}
        },
        {
          "output_type": "display_data",
          "data": {
            "text/plain": [
              "<IPython.core.display.Javascript object>"
            ],
            "application/javascript": [
              "download(\"download_d4deca32-50c7-41f4-a4ac-8749c3290e3b\", \"step_3_trip_packages.json\", 1829)"
            ]
          },
          "metadata": {}
        },
        {
          "output_type": "stream",
          "name": "stdout",
          "text": [
            "Downloaded: ./trip-planning-output/step_3_trip_packages.json\n"
          ]
        },
        {
          "output_type": "display_data",
          "data": {
            "text/plain": [
              "<IPython.core.display.Javascript object>"
            ],
            "application/javascript": [
              "\n",
              "    async function download(id, filename, size) {\n",
              "      if (!google.colab.kernel.accessAllowed) {\n",
              "        return;\n",
              "      }\n",
              "      const div = document.createElement('div');\n",
              "      const label = document.createElement('label');\n",
              "      label.textContent = `Downloading \"${filename}\": `;\n",
              "      div.appendChild(label);\n",
              "      const progress = document.createElement('progress');\n",
              "      progress.max = size;\n",
              "      div.appendChild(progress);\n",
              "      document.body.appendChild(div);\n",
              "\n",
              "      const buffers = [];\n",
              "      let downloaded = 0;\n",
              "\n",
              "      const channel = await google.colab.kernel.comms.open(id);\n",
              "      // Send a message to notify the kernel that we're ready.\n",
              "      channel.send({})\n",
              "\n",
              "      for await (const message of channel.messages) {\n",
              "        // Send a message to notify the kernel that we're ready.\n",
              "        channel.send({})\n",
              "        if (message.buffers) {\n",
              "          for (const buffer of message.buffers) {\n",
              "            buffers.push(buffer);\n",
              "            downloaded += buffer.byteLength;\n",
              "            progress.value = downloaded;\n",
              "          }\n",
              "        }\n",
              "      }\n",
              "      const blob = new Blob(buffers, {type: 'application/binary'});\n",
              "      const a = document.createElement('a');\n",
              "      a.href = window.URL.createObjectURL(blob);\n",
              "      a.download = filename;\n",
              "      div.appendChild(a);\n",
              "      a.click();\n",
              "      div.remove();\n",
              "    }\n",
              "  "
            ]
          },
          "metadata": {}
        },
        {
          "output_type": "display_data",
          "data": {
            "text/plain": [
              "<IPython.core.display.Javascript object>"
            ],
            "application/javascript": [
              "download(\"download_596e4029-306b-4e16-afa6-dcfa93e46842\", \"step_4_trip_report.html\", 4398)"
            ]
          },
          "metadata": {}
        },
        {
          "output_type": "stream",
          "name": "stdout",
          "text": [
            "Downloaded: ./trip-planning-output/step_4_trip_report.html\n"
          ]
        },
        {
          "output_type": "display_data",
          "data": {
            "text/plain": [
              "<IPython.core.display.Javascript object>"
            ],
            "application/javascript": [
              "\n",
              "    async function download(id, filename, size) {\n",
              "      if (!google.colab.kernel.accessAllowed) {\n",
              "        return;\n",
              "      }\n",
              "      const div = document.createElement('div');\n",
              "      const label = document.createElement('label');\n",
              "      label.textContent = `Downloading \"${filename}\": `;\n",
              "      div.appendChild(label);\n",
              "      const progress = document.createElement('progress');\n",
              "      progress.max = size;\n",
              "      div.appendChild(progress);\n",
              "      document.body.appendChild(div);\n",
              "\n",
              "      const buffers = [];\n",
              "      let downloaded = 0;\n",
              "\n",
              "      const channel = await google.colab.kernel.comms.open(id);\n",
              "      // Send a message to notify the kernel that we're ready.\n",
              "      channel.send({})\n",
              "\n",
              "      for await (const message of channel.messages) {\n",
              "        // Send a message to notify the kernel that we're ready.\n",
              "        channel.send({})\n",
              "        if (message.buffers) {\n",
              "          for (const buffer of message.buffers) {\n",
              "            buffers.push(buffer);\n",
              "            downloaded += buffer.byteLength;\n",
              "            progress.value = downloaded;\n",
              "          }\n",
              "        }\n",
              "      }\n",
              "      const blob = new Blob(buffers, {type: 'application/binary'});\n",
              "      const a = document.createElement('a');\n",
              "      a.href = window.URL.createObjectURL(blob);\n",
              "      a.download = filename;\n",
              "      div.appendChild(a);\n",
              "      a.click();\n",
              "      div.remove();\n",
              "    }\n",
              "  "
            ]
          },
          "metadata": {}
        },
        {
          "output_type": "display_data",
          "data": {
            "text/plain": [
              "<IPython.core.display.Javascript object>"
            ],
            "application/javascript": [
              "download(\"download_302f9608-d247-4b3a-8bc9-957d00f496da\", \"trip_summary.json\", 2066)"
            ]
          },
          "metadata": {}
        },
        {
          "output_type": "stream",
          "name": "stdout",
          "text": [
            "Downloaded: ./trip-planning-output/trip_summary.json\n"
          ]
        }
      ]
    }
  ]
}